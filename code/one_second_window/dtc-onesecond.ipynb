{
 "cells": [
  {
   "cell_type": "code",
   "execution_count": 2,
   "metadata": {},
   "outputs": [
    {
     "name": "stderr",
     "output_type": "stream",
     "text": [
      "/rds/general/user/as9820/home/anaconda3/envs/test1/lib/python3.9/site-packages/tqdm/auto.py:21: TqdmWarning: IProgress not found. Please update jupyter and ipywidgets. See https://ipywidgets.readthedocs.io/en/stable/user_install.html\n",
      "  from .autonotebook import tqdm as notebook_tqdm\n",
      "/rds/general/user/as9820/home/anaconda3/envs/test1/lib/python3.9/site-packages/art/estimators/certification/__init__.py:28: UserWarning: PyTorch not found. Not importing DeepZ or Interval Bound Propagation functionality\n",
      "  warnings.warn(\"PyTorch not found. Not importing DeepZ or Interval Bound Propagation functionality\")\n"
     ]
    }
   ],
   "source": [
    "from sklearn.ensemble import RandomForestClassifier\n",
    "from sklearn.svm import SVC\n",
    "from sklearn.neighbors import KNeighborsClassifier\n",
    "from sklearn.tree import DecisionTreeClassifier\n",
    "from sklearn.model_selection import train_test_split\n",
    "\n",
    "from sklearn.metrics import accuracy_score, recall_score, f1_score, multilabel_confusion_matrix\n",
    "from imblearn.metrics import geometric_mean_score, specificity_score\n",
    "from sklearn.model_selection import StratifiedKFold\n",
    "from sklearn.ensemble import VotingClassifier\n",
    "import json\n",
    "import pandas as pd\n",
    "import numpy as np\n",
    "import sys, os\n",
    "import warnings\n",
    "import datetime\n",
    "#import pickle\n",
    "from joblib import dump, load\n",
    "from pathlib import Path\n",
    "\n",
    "from sklearn import metrics\n",
    "from sklearn.metrics import classification_report\n",
    "\n",
    "from art.attacks.evasion import FastGradientMethod, DecisionTreeAttack, ZooAttack\n",
    "from art.estimators.classification import SklearnClassifier\n",
    "from art.estimators.classification.scikitlearn import ScikitlearnDecisionTreeClassifier"
   ]
  },
  {
   "cell_type": "code",
   "execution_count": 3,
   "metadata": {},
   "outputs": [],
   "source": [
    "\n",
    "\n",
    "XCols = ['mean', 'sum', 'std']\n",
    "label = 'label'\n",
    "\n"
   ]
  },
  {
   "cell_type": "code",
   "execution_count": 4,
   "metadata": {},
   "outputs": [],
   "source": [
    "#df = pd.read_csv(sys.argv[1], dtype = fieldTypes, parse_dates = ['time_start'])\n",
    "df = pd.read_csv(\"/rds/general/user/as9820/home/revist/revisiting-iot-device-identification/data/stats_nov_apr.csv\", parse_dates = ['time'])\n",
    "df.fillna(0, inplace=True)\n",
    "\n",
    "weeks = [list(range(44,53)), list(range(1,10)), list(range(10,19))]\n",
    "\n",
    "\n"
   ]
  },
  {
   "cell_type": "code",
   "execution_count": 5,
   "metadata": {},
   "outputs": [],
   "source": [
    "# trainCon = df['time'] >= pd.Timestamp('2020-03-01')\n",
    "#trainCon = df['time'] < pd.Timestamp('2020-01-01')\n",
    "#trainCon = ((df['time'] >= pd.Timestamp('2020-01-01')) & (df['time'] < pd.Timestamp('2020-03-01')))\n",
    "trainCon = df['time'].dt.isocalendar().week.isin(weeks[0])\n",
    "#trainCon = df['time'].dt.week.isin([44,45])\n",
    "\n",
    "\n",
    "#testCon = df['time'] > pd.Timestamp('2020-02-29')\n",
    "#testCons = pd.date_range('2019-11-01', '2020-05-01', freq = '1W').tolist()\n",
    "testCons = pd.date_range('2019-11-01', '2020-05-01', freq = '1W').tolist()\n",
    "#testCons = pd.date_range('2019-11-01', '2019-12-01', freq = '1W').tolist()\n",
    "\n",
    "#X = dfTrain.iloc[:, 2:5]\n",
    "#y = dfTrain.iloc[:, 1]\n",
    "X = df[trainCon][XCols]\n",
    "y = df[trainCon][label]"
   ]
  },
  {
   "cell_type": "code",
   "execution_count": 6,
   "metadata": {},
   "outputs": [],
   "source": [
    "\n",
    "X_train, X_test, y_train, y_test = train_test_split(X, y, test_size=0.2, stratify=y)\n"
   ]
  },
  {
   "cell_type": "code",
   "execution_count": 7,
   "metadata": {},
   "outputs": [
    {
     "name": "stdout",
     "output_type": "stream",
     "text": [
      "loading model model/dtc_0_1sec\n"
     ]
    }
   ],
   "source": [
    "#clf = RandomForestClassifier(n_estimators=20, n_jobs=50)\n",
    "#rfc = RandomForestClassifier(n_jobs=18)\n",
    "#svc = SVC(verbose=True)\n",
    "dtc = DecisionTreeClassifier()\n",
    "#knn = KNeighborsClassifier(n_jobs=54)\n",
    "#mv = VotingClassifier(estimators=[('knn', knn), ('dt', dtc), ('rf', rfc), ('svm',svc)], voting='hard', n_jobs=54)\n",
    "\n",
    "modelFile = Path(f\"model/dtc_0_1sec\")\n",
    "if modelFile.is_file():\n",
    "    print(f\"loading model {modelFile}\")\n",
    "    dtc = load(modelFile)\n",
    "else:\n",
    "    print(f\"start training for weeks {weeks[2]}\")\n",
    "    dtc.fit(X_train.values, y_train)\n",
    "    print(\"DTC trained\")\n",
    "    #dump(rfc, f\"model/rfc_{sys.argv[2]}\")\n",
    "    dump(dtc, modelFile)\n"
   ]
  },
  {
   "cell_type": "code",
   "execution_count": 21,
   "metadata": {},
   "outputs": [
    {
     "name": "stderr",
     "output_type": "stream",
     "text": [
      "/rds/general/user/as9820/home/anaconda3/envs/test1/lib/python3.9/site-packages/sklearn/utils/validation.py:623: FutureWarning: is_sparse is deprecated and will be removed in a future version. Check `isinstance(dtype, pd.SparseDtype)` instead.\n",
      "  if not hasattr(array, \"sparse\") and array.dtypes.apply(is_sparse).any():\n"
     ]
    },
    {
     "name": "stdout",
     "output_type": "stream",
     "text": [
      "44 0.716661276583152\n"
     ]
    },
    {
     "name": "stderr",
     "output_type": "stream",
     "text": [
      "/rds/general/user/as9820/home/anaconda3/envs/test1/lib/python3.9/site-packages/sklearn/metrics/_classification.py:1318: UndefinedMetricWarning: Recall and F-score are ill-defined and being set to 0.0 in labels with no true samples. Use `zero_division` parameter to control this behavior.\n",
      "  _warn_prf(average, modifier, msg_start, len(result))\n",
      "/rds/general/user/as9820/home/anaconda3/envs/test1/lib/python3.9/site-packages/sklearn/metrics/_classification.py:1318: UndefinedMetricWarning: Recall and F-score are ill-defined and being set to 0.0 in labels with no true samples. Use `zero_division` parameter to control this behavior.\n",
      "  _warn_prf(average, modifier, msg_start, len(result))\n",
      "/rds/general/user/as9820/home/anaconda3/envs/test1/lib/python3.9/site-packages/sklearn/metrics/_classification.py:1318: UndefinedMetricWarning: Recall and F-score are ill-defined and being set to 0.0 in labels with no true samples. Use `zero_division` parameter to control this behavior.\n",
      "  _warn_prf(average, modifier, msg_start, len(result))\n"
     ]
    },
    {
     "name": "stdout",
     "output_type": "stream",
     "text": [
      "              precision    recall  f1-score   support\n",
      "\n",
      "           7       0.83      0.49      0.62      6745\n",
      "           8       0.51      0.91      0.65     36559\n",
      "           9       0.36      0.02      0.04      9418\n",
      "          10       0.90      0.91      0.91     12953\n",
      "          12       0.83      0.38      0.52      7509\n",
      "          14       0.84      0.82      0.83     11626\n",
      "          15       0.63      0.50      0.56     23081\n",
      "          16       0.53      0.49      0.51     66903\n",
      "          17       0.00      0.00      0.00         0\n",
      "          18       0.90      0.97      0.93     66743\n",
      "          19       0.61      0.07      0.12     36295\n",
      "          20       0.69      0.60      0.64       944\n",
      "          22       0.87      1.00      0.93     81312\n",
      "          23       0.51      0.50      0.50      4289\n",
      "          24       0.72      0.19      0.31     11994\n",
      "          25       0.84      0.99      0.91     16473\n",
      "          27       0.98      0.33      0.49      5368\n",
      "          28       0.47      0.95      0.63     29367\n",
      "          29       1.00      0.39      0.56      4998\n",
      "          33       0.89      0.67      0.76     11117\n",
      "          35       0.97      0.98      0.97     21477\n",
      "          36       1.00      0.67      0.80      1920\n",
      "          38       1.00      0.40      0.57      4182\n",
      "          39       0.71      0.55      0.62      1818\n",
      "\n",
      "    accuracy                           0.72    473091\n",
      "   macro avg       0.73      0.57      0.60    473091\n",
      "weighted avg       0.73      0.72      0.68    473091\n",
      "\n"
     ]
    },
    {
     "name": "stderr",
     "output_type": "stream",
     "text": [
      "/rds/general/user/as9820/home/anaconda3/envs/test1/lib/python3.9/site-packages/sklearn/utils/validation.py:623: FutureWarning: is_sparse is deprecated and will be removed in a future version. Check `isinstance(dtype, pd.SparseDtype)` instead.\n",
      "  if not hasattr(array, \"sparse\") and array.dtypes.apply(is_sparse).any():\n"
     ]
    },
    {
     "name": "stdout",
     "output_type": "stream",
     "text": [
      "45 0.7222273215490574\n",
      "              precision    recall  f1-score   support\n",
      "\n",
      "           7       0.98      0.61      0.75    142115\n",
      "           8       0.50      0.88      0.64    144668\n",
      "           9       0.71      0.28      0.40     45241\n",
      "          10       0.87      0.90      0.89     52818\n",
      "          12       0.66      0.92      0.77    148710\n",
      "          14       0.74      0.78      0.76     43272\n",
      "          15       0.72      0.72      0.72    109634\n",
      "          16       0.49      0.50      0.50    248788\n",
      "          17       0.93      0.62      0.74     14544\n",
      "          18       0.88      0.97      0.92    257285\n",
      "          19       0.54      0.09      0.16    146426\n",
      "          20       0.23      0.45      0.30      4327\n",
      "          22       0.70      0.96      0.81    212008\n",
      "          23       0.70      0.73      0.72     23682\n",
      "          24       0.71      0.17      0.27     51543\n",
      "          25       0.81      0.99      0.89     87895\n",
      "          27       0.97      0.27      0.42    115848\n",
      "          28       0.68      0.84      0.75    270903\n",
      "          29       0.99      0.70      0.82     45552\n",
      "          33       0.88      0.72      0.79    100868\n",
      "          35       0.87      0.97      0.92     88540\n",
      "          36       1.00      0.70      0.83     18398\n",
      "          38       0.99      0.86      0.92     98716\n",
      "          39       0.77      0.74      0.76     12207\n",
      "\n",
      "    accuracy                           0.72   2483988\n",
      "   macro avg       0.76      0.68      0.68   2483988\n",
      "weighted avg       0.74      0.72      0.70   2483988\n",
      "\n"
     ]
    },
    {
     "name": "stderr",
     "output_type": "stream",
     "text": [
      "/rds/general/user/as9820/home/anaconda3/envs/test1/lib/python3.9/site-packages/sklearn/utils/validation.py:623: FutureWarning: is_sparse is deprecated and will be removed in a future version. Check `isinstance(dtype, pd.SparseDtype)` instead.\n",
      "  if not hasattr(array, \"sparse\") and array.dtypes.apply(is_sparse).any():\n"
     ]
    },
    {
     "name": "stdout",
     "output_type": "stream",
     "text": [
      "46 0.7405074974081473\n",
      "              precision    recall  f1-score   support\n",
      "\n",
      "           7       0.86      0.49      0.62     23908\n",
      "           8       0.50      0.93      0.65    133305\n",
      "           9       0.94      0.52      0.67     43781\n",
      "          10       0.92      0.90      0.91     43927\n",
      "          12       0.84      0.47      0.60     30254\n",
      "          14       0.79      0.79      0.79     43880\n",
      "          15       0.54      0.70      0.61     66008\n",
      "          16       0.63      0.50      0.55    447899\n",
      "          17       0.95      0.52      0.67     15588\n",
      "          18       0.97      0.97      0.97    234606\n",
      "          19       0.41      0.01      0.02    133445\n",
      "          20       0.60      0.59      0.59      3692\n",
      "          22       0.91      1.00      0.95    345014\n",
      "          23       0.29      0.33      0.31      9006\n",
      "          24       0.56      0.18      0.28     40932\n",
      "          25       0.76      0.98      0.85     34610\n",
      "          27       0.99      0.50      0.66     25696\n",
      "          28       0.68      0.91      0.77    486713\n",
      "          29       0.98      0.53      0.69     22106\n",
      "          33       0.83      0.71      0.76     39414\n",
      "          35       0.85      0.98      0.91     78588\n",
      "          36       1.00      0.71      0.83     49162\n",
      "          38       0.98      0.39      0.56     14720\n",
      "          39       0.56      0.58      0.57      6566\n",
      "\n",
      "    accuracy                           0.74   2372820\n",
      "   macro avg       0.76      0.63      0.66   2372820\n",
      "weighted avg       0.74      0.74      0.71   2372820\n",
      "\n"
     ]
    },
    {
     "name": "stderr",
     "output_type": "stream",
     "text": [
      "/rds/general/user/as9820/home/anaconda3/envs/test1/lib/python3.9/site-packages/sklearn/utils/validation.py:623: FutureWarning: is_sparse is deprecated and will be removed in a future version. Check `isinstance(dtype, pd.SparseDtype)` instead.\n",
      "  if not hasattr(array, \"sparse\") and array.dtypes.apply(is_sparse).any():\n"
     ]
    },
    {
     "name": "stdout",
     "output_type": "stream",
     "text": [
      "47 0.7219468409816687\n",
      "              precision    recall  f1-score   support\n",
      "\n",
      "           7       0.86      0.49      0.62     23434\n",
      "           8       0.51      0.90      0.65    125743\n",
      "           9       0.46      0.46      0.46     44372\n",
      "          10       0.93      0.92      0.92     47172\n",
      "          12       0.84      0.46      0.59     26405\n",
      "          14       0.78      0.80      0.79     41118\n",
      "          15       0.47      0.70      0.56     65078\n",
      "          16       0.59      0.55      0.57    412871\n",
      "          17       0.96      0.57      0.72     16085\n",
      "          18       0.96      0.97      0.96    222083\n",
      "          19       0.51      0.08      0.13    124628\n",
      "          20       0.54      0.59      0.56      3868\n",
      "          22       0.90      1.00      0.95    336185\n",
      "          23       0.53      0.15      0.24     51609\n",
      "          24       0.38      0.12      0.18     43408\n",
      "          25       0.52      0.96      0.67     16264\n",
      "          27       0.98      0.50      0.66     23901\n",
      "          28       0.70      0.82      0.75    466498\n",
      "          29       0.97      0.48      0.65     19215\n",
      "          33       0.85      0.70      0.77     50898\n",
      "          35       0.94      0.99      0.96     76577\n",
      "          36       1.00      0.67      0.80      6614\n",
      "          38       0.96      0.39      0.56     16939\n",
      "          39       0.67      0.57      0.62      6195\n",
      "\n",
      "    accuracy                           0.72   2267160\n",
      "   macro avg       0.74      0.62      0.64   2267160\n",
      "weighted avg       0.72      0.72      0.70   2267160\n",
      "\n"
     ]
    },
    {
     "name": "stderr",
     "output_type": "stream",
     "text": [
      "/rds/general/user/as9820/home/anaconda3/envs/test1/lib/python3.9/site-packages/sklearn/utils/validation.py:623: FutureWarning: is_sparse is deprecated and will be removed in a future version. Check `isinstance(dtype, pd.SparseDtype)` instead.\n",
      "  if not hasattr(array, \"sparse\") and array.dtypes.apply(is_sparse).any():\n"
     ]
    },
    {
     "name": "stdout",
     "output_type": "stream",
     "text": [
      "48 0.7772535867571513\n",
      "              precision    recall  f1-score   support\n",
      "\n",
      "           7       0.91      0.50      0.64     37178\n",
      "           8       0.50      0.88      0.64    199285\n",
      "           9       0.67      0.42      0.52     63841\n",
      "          10       0.99      0.71      0.83     55480\n",
      "          12       0.85      0.48      0.61     47948\n",
      "          14       0.78      0.78      0.78     57633\n",
      "          15       0.53      0.70      0.60    104629\n",
      "          16       0.66      0.75      0.70    633618\n",
      "          17       0.97      0.48      0.64     21328\n",
      "          18       0.97      0.97      0.97    366565\n",
      "          19       0.51      0.08      0.13    199374\n",
      "          20       0.94      0.60      0.73      5790\n",
      "          22       0.90      1.00      0.95    459505\n",
      "          23       0.46      0.50      0.48     22620\n",
      "          24       0.80      0.29      0.42     84680\n",
      "          25       0.59      0.96      0.73     26269\n",
      "          27       1.00      0.51      0.68     39495\n",
      "          28       0.85      0.88      0.86    810338\n",
      "          29       0.98      0.40      0.57     26557\n",
      "          33       0.82      0.70      0.76     69949\n",
      "          35       0.97      0.99      0.98    127536\n",
      "          36       1.00      0.67      0.80     10630\n",
      "          38       0.99      0.40      0.57     22966\n",
      "          39       0.63      0.57      0.60      9114\n",
      "\n",
      "    accuracy                           0.78   3502328\n",
      "   macro avg       0.80      0.63      0.67   3502328\n",
      "weighted avg       0.79      0.78      0.76   3502328\n",
      "\n"
     ]
    },
    {
     "name": "stderr",
     "output_type": "stream",
     "text": [
      "/rds/general/user/as9820/home/anaconda3/envs/test1/lib/python3.9/site-packages/sklearn/utils/validation.py:623: FutureWarning: is_sparse is deprecated and will be removed in a future version. Check `isinstance(dtype, pd.SparseDtype)` instead.\n",
      "  if not hasattr(array, \"sparse\") and array.dtypes.apply(is_sparse).any():\n"
     ]
    },
    {
     "name": "stdout",
     "output_type": "stream",
     "text": [
      "49 0.7880289712843981\n",
      "              precision    recall  f1-score   support\n",
      "\n",
      "           7       0.91      0.49      0.63     41723\n",
      "           8       0.50      0.88      0.64    220605\n",
      "           9       0.80      0.52      0.63     75860\n",
      "          10       0.99      0.79      0.88     69738\n",
      "          12       0.85      0.49      0.62     54084\n",
      "          14       0.80      0.79      0.79     64200\n",
      "          15       0.54      0.70      0.61    115643\n",
      "          16       0.68      0.72      0.70    717815\n",
      "          17       0.95      0.47      0.63     24382\n",
      "          18       0.97      0.96      0.97    404703\n",
      "          19       0.50      0.08      0.13    220202\n",
      "          20       0.94      0.61      0.74      6236\n",
      "          22       0.92      1.00      0.96    597306\n",
      "          23       0.47      0.52      0.49     24102\n",
      "          24       0.76      0.28      0.41     88537\n",
      "          25       0.60      0.96      0.74     29017\n",
      "          27       1.00      0.51      0.67     44573\n",
      "          28       0.83      0.92      0.87    882497\n",
      "          29       0.98      0.41      0.58     28664\n",
      "          33       0.83      0.75      0.78     72428\n",
      "          35       0.97      0.99      0.98    135914\n",
      "          36       1.00      0.67      0.80     11733\n",
      "          38       1.00      0.40      0.57     25296\n",
      "          39       0.66      0.62      0.64     10600\n",
      "\n",
      "    accuracy                           0.79   3965858\n",
      "   macro avg       0.81      0.65      0.69   3965858\n",
      "weighted avg       0.79      0.79      0.77   3965858\n",
      "\n"
     ]
    },
    {
     "name": "stderr",
     "output_type": "stream",
     "text": [
      "/rds/general/user/as9820/home/anaconda3/envs/test1/lib/python3.9/site-packages/sklearn/utils/validation.py:623: FutureWarning: is_sparse is deprecated and will be removed in a future version. Check `isinstance(dtype, pd.SparseDtype)` instead.\n",
      "  if not hasattr(array, \"sparse\") and array.dtypes.apply(is_sparse).any():\n"
     ]
    },
    {
     "name": "stdout",
     "output_type": "stream",
     "text": [
      "50 0.8079522039228022\n",
      "              precision    recall  f1-score   support\n",
      "\n",
      "           7       0.86      0.39      0.54     51922\n",
      "           8       0.50      0.89      0.64    220678\n",
      "           9       0.77      0.50      0.61     78084\n",
      "          10       0.96      0.91      0.93     82924\n",
      "          12       0.87      0.50      0.63     54370\n",
      "          14       0.85      0.88      0.87     71599\n",
      "          15       0.48      0.70      0.57    114745\n",
      "          16       0.74      0.82      0.78    680528\n",
      "          17       0.96      0.46      0.62     24923\n",
      "          18       0.97      0.97      0.97    407324\n",
      "          19       0.50      0.07      0.13    220412\n",
      "          20       0.72      0.61      0.66      6365\n",
      "          22       0.91      1.00      0.95    514873\n",
      "          23       0.47      0.52      0.50     24005\n",
      "          24       0.72      0.24      0.36     87369\n",
      "          25       0.57      0.96      0.72     26667\n",
      "          27       1.00      0.52      0.68     44308\n",
      "          28       0.91      0.94      0.92    896484\n",
      "          29       0.98      0.44      0.61     33208\n",
      "          33       0.81      0.72      0.76     68998\n",
      "          35       0.96      0.98      0.97    133844\n",
      "          36       1.00      0.67      0.80     11733\n",
      "          38       0.99      0.40      0.57     25364\n",
      "          39       0.67      0.59      0.63     10471\n",
      "\n",
      "    accuracy                           0.81   3891198\n",
      "   macro avg       0.80      0.65      0.68   3891198\n",
      "weighted avg       0.81      0.81      0.79   3891198\n",
      "\n"
     ]
    },
    {
     "name": "stderr",
     "output_type": "stream",
     "text": [
      "/rds/general/user/as9820/home/anaconda3/envs/test1/lib/python3.9/site-packages/sklearn/utils/validation.py:623: FutureWarning: is_sparse is deprecated and will be removed in a future version. Check `isinstance(dtype, pd.SparseDtype)` instead.\n",
      "  if not hasattr(array, \"sparse\") and array.dtypes.apply(is_sparse).any():\n"
     ]
    },
    {
     "name": "stdout",
     "output_type": "stream",
     "text": [
      "51 0.7773954778584209\n",
      "              precision    recall  f1-score   support\n",
      "\n",
      "           7       0.84      0.29      0.43     70703\n",
      "           8       0.51      0.90      0.65    222659\n",
      "           9       0.76      0.28      0.41     70055\n",
      "          10       0.93      0.92      0.93     90462\n",
      "          12       0.86      0.48      0.62     51839\n",
      "          14       0.83      0.84      0.83     74136\n",
      "          15       0.47      0.69      0.56    113259\n",
      "          16       0.69      0.71      0.70    702270\n",
      "          17       0.96      0.46      0.62     25408\n",
      "          18       0.97      0.97      0.97    407994\n",
      "          19       0.54      0.07      0.13    220987\n",
      "          20       0.71      0.59      0.64      6414\n",
      "          22       0.88      1.00      0.94    596713\n",
      "          23       0.51      0.51      0.51     24841\n",
      "          24       0.60      0.15      0.24     75712\n",
      "          25       0.57      0.96      0.71     26462\n",
      "          27       0.99      0.51      0.67     42785\n",
      "          28       0.82      0.90      0.86    884902\n",
      "          29       0.98      0.46      0.63     33653\n",
      "          33       0.59      0.70      0.64     21965\n",
      "          35       0.96      0.99      0.97    132696\n",
      "          36       1.00      0.67      0.80     11734\n",
      "          38       0.99      0.40      0.57     25429\n",
      "          39       0.69      0.59      0.64     11469\n",
      "\n",
      "    accuracy                           0.78   3944547\n",
      "   macro avg       0.78      0.63      0.65   3944547\n",
      "weighted avg       0.78      0.78      0.75   3944547\n",
      "\n"
     ]
    },
    {
     "name": "stderr",
     "output_type": "stream",
     "text": [
      "/rds/general/user/as9820/home/anaconda3/envs/test1/lib/python3.9/site-packages/sklearn/utils/validation.py:623: FutureWarning: is_sparse is deprecated and will be removed in a future version. Check `isinstance(dtype, pd.SparseDtype)` instead.\n",
      "  if not hasattr(array, \"sparse\") and array.dtypes.apply(is_sparse).any():\n"
     ]
    },
    {
     "name": "stdout",
     "output_type": "stream",
     "text": [
      "52 0.7554701785057851\n"
     ]
    },
    {
     "name": "stderr",
     "output_type": "stream",
     "text": [
      "/rds/general/user/as9820/home/anaconda3/envs/test1/lib/python3.9/site-packages/sklearn/metrics/_classification.py:1318: UndefinedMetricWarning: Recall and F-score are ill-defined and being set to 0.0 in labels with no true samples. Use `zero_division` parameter to control this behavior.\n",
      "  _warn_prf(average, modifier, msg_start, len(result))\n",
      "/rds/general/user/as9820/home/anaconda3/envs/test1/lib/python3.9/site-packages/sklearn/metrics/_classification.py:1318: UndefinedMetricWarning: Recall and F-score are ill-defined and being set to 0.0 in labels with no true samples. Use `zero_division` parameter to control this behavior.\n",
      "  _warn_prf(average, modifier, msg_start, len(result))\n",
      "/rds/general/user/as9820/home/anaconda3/envs/test1/lib/python3.9/site-packages/sklearn/metrics/_classification.py:1318: UndefinedMetricWarning: Recall and F-score are ill-defined and being set to 0.0 in labels with no true samples. Use `zero_division` parameter to control this behavior.\n",
      "  _warn_prf(average, modifier, msg_start, len(result))\n"
     ]
    },
    {
     "name": "stdout",
     "output_type": "stream",
     "text": [
      "              precision    recall  f1-score   support\n",
      "\n",
      "           7       0.85      0.29      0.43     70364\n",
      "           8       0.52      0.90      0.66    233774\n",
      "           9       0.29      0.04      0.08     59744\n",
      "          10       0.91      0.91      0.91     90648\n",
      "          12       0.85      0.47      0.61     52731\n",
      "          14       0.80      0.78      0.79     74399\n",
      "          15       0.50      0.69      0.58    112048\n",
      "          16       0.70      0.64      0.67    719501\n",
      "          17       0.96      0.38      0.54     33769\n",
      "          18       0.96      0.97      0.96    408730\n",
      "          19       0.61      0.09      0.15    225339\n",
      "          20       0.70      0.59      0.64      6700\n",
      "          22       0.82      1.00      0.90    433777\n",
      "          23       0.52      0.51      0.51     25361\n",
      "          24       0.62      0.15      0.24     75146\n",
      "          25       0.57      0.96      0.72     27515\n",
      "          27       0.99      0.48      0.65     42864\n",
      "          28       0.78      0.93      0.85    870189\n",
      "          29       0.98      0.52      0.68     35751\n",
      "          33       0.00      0.00      0.00         0\n",
      "          35       0.95      0.99      0.97    132004\n",
      "          36       1.00      0.67      0.80     11737\n",
      "          38       0.99      0.40      0.56     25446\n",
      "          39       0.66      0.58      0.62     10996\n",
      "\n",
      "    accuracy                           0.76   3778533\n",
      "   macro avg       0.73      0.58      0.61   3778533\n",
      "weighted avg       0.76      0.76      0.73   3778533\n",
      "\n"
     ]
    },
    {
     "name": "stderr",
     "output_type": "stream",
     "text": [
      "/rds/general/user/as9820/home/anaconda3/envs/test1/lib/python3.9/site-packages/sklearn/utils/validation.py:623: FutureWarning: is_sparse is deprecated and will be removed in a future version. Check `isinstance(dtype, pd.SparseDtype)` instead.\n",
      "  if not hasattr(array, \"sparse\") and array.dtypes.apply(is_sparse).any():\n"
     ]
    },
    {
     "name": "stdout",
     "output_type": "stream",
     "text": [
      "1 0.7631007514278347\n"
     ]
    },
    {
     "name": "stderr",
     "output_type": "stream",
     "text": [
      "/rds/general/user/as9820/home/anaconda3/envs/test1/lib/python3.9/site-packages/sklearn/metrics/_classification.py:1318: UndefinedMetricWarning: Recall and F-score are ill-defined and being set to 0.0 in labels with no true samples. Use `zero_division` parameter to control this behavior.\n",
      "  _warn_prf(average, modifier, msg_start, len(result))\n",
      "/rds/general/user/as9820/home/anaconda3/envs/test1/lib/python3.9/site-packages/sklearn/metrics/_classification.py:1318: UndefinedMetricWarning: Recall and F-score are ill-defined and being set to 0.0 in labels with no true samples. Use `zero_division` parameter to control this behavior.\n",
      "  _warn_prf(average, modifier, msg_start, len(result))\n",
      "/rds/general/user/as9820/home/anaconda3/envs/test1/lib/python3.9/site-packages/sklearn/metrics/_classification.py:1318: UndefinedMetricWarning: Recall and F-score are ill-defined and being set to 0.0 in labels with no true samples. Use `zero_division` parameter to control this behavior.\n",
      "  _warn_prf(average, modifier, msg_start, len(result))\n"
     ]
    },
    {
     "name": "stdout",
     "output_type": "stream",
     "text": [
      "              precision    recall  f1-score   support\n",
      "\n",
      "           7       0.84      0.29      0.43     70379\n",
      "           8       0.52      0.90      0.66    230401\n",
      "           9       0.78      0.32      0.46     70491\n",
      "          10       0.92      0.92      0.92     90415\n",
      "          12       0.86      0.48      0.61     51956\n",
      "          14       0.80      0.80      0.80     74141\n",
      "          15       0.47      0.69      0.56    111869\n",
      "          16       0.67      0.65      0.66    717339\n",
      "          17       0.95      0.39      0.55     34639\n",
      "          18       0.96      0.97      0.96    408218\n",
      "          19       0.59      0.09      0.16    223549\n",
      "          20       0.72      0.58      0.64      7071\n",
      "          22       0.88      1.00      0.94    596785\n",
      "          23       0.52      0.53      0.52     24271\n",
      "          24       0.52      0.12      0.19     72138\n",
      "          25       0.58      0.96      0.73     27807\n",
      "          27       0.99      0.48      0.64     41440\n",
      "          28       0.78      0.89      0.83    870917\n",
      "          29       0.98      0.48      0.65     35711\n",
      "          33       0.00      0.00      0.00         0\n",
      "          35       0.96      0.98      0.97    132799\n",
      "          36       1.00      0.67      0.80     11734\n",
      "          38       0.98      0.40      0.56     25427\n",
      "          39       0.65      0.56      0.60     10735\n",
      "\n",
      "    accuracy                           0.76   3940232\n",
      "   macro avg       0.75      0.59      0.62   3940232\n",
      "weighted avg       0.77      0.76      0.74   3940232\n",
      "\n"
     ]
    },
    {
     "name": "stderr",
     "output_type": "stream",
     "text": [
      "/rds/general/user/as9820/home/anaconda3/envs/test1/lib/python3.9/site-packages/sklearn/utils/validation.py:623: FutureWarning: is_sparse is deprecated and will be removed in a future version. Check `isinstance(dtype, pd.SparseDtype)` instead.\n",
      "  if not hasattr(array, \"sparse\") and array.dtypes.apply(is_sparse).any():\n"
     ]
    },
    {
     "name": "stdout",
     "output_type": "stream",
     "text": [
      "2 0.7242166704046916\n"
     ]
    },
    {
     "name": "stderr",
     "output_type": "stream",
     "text": [
      "/rds/general/user/as9820/home/anaconda3/envs/test1/lib/python3.9/site-packages/sklearn/metrics/_classification.py:1318: UndefinedMetricWarning: Precision and F-score are ill-defined and being set to 0.0 in labels with no predicted samples. Use `zero_division` parameter to control this behavior.\n",
      "  _warn_prf(average, modifier, msg_start, len(result))\n",
      "/rds/general/user/as9820/home/anaconda3/envs/test1/lib/python3.9/site-packages/sklearn/metrics/_classification.py:1318: UndefinedMetricWarning: Precision and F-score are ill-defined and being set to 0.0 in labels with no predicted samples. Use `zero_division` parameter to control this behavior.\n",
      "  _warn_prf(average, modifier, msg_start, len(result))\n",
      "/rds/general/user/as9820/home/anaconda3/envs/test1/lib/python3.9/site-packages/sklearn/metrics/_classification.py:1318: UndefinedMetricWarning: Precision and F-score are ill-defined and being set to 0.0 in labels with no predicted samples. Use `zero_division` parameter to control this behavior.\n",
      "  _warn_prf(average, modifier, msg_start, len(result))\n"
     ]
    },
    {
     "name": "stdout",
     "output_type": "stream",
     "text": [
      "              precision    recall  f1-score   support\n",
      "\n",
      "           7       0.88      0.29      0.44     70198\n",
      "           8       0.16      0.86      0.28     45366\n",
      "           9       0.07      0.02      0.03     12587\n",
      "          10       0.93      0.92      0.93     83357\n",
      "          12       0.86      0.47      0.61     49881\n",
      "          14       0.80      0.80      0.80     72818\n",
      "          15       0.50      0.70      0.58    109373\n",
      "          16       0.63      0.49      0.55    724282\n",
      "          17       0.67      0.39      0.49      7572\n",
      "          18       0.97      0.97      0.97    409331\n",
      "          19       0.67      0.04      0.08    215858\n",
      "          20       0.65      0.59      0.62      7003\n",
      "          22       0.90      1.00      0.95    535039\n",
      "          23       0.34      0.12      0.17     41581\n",
      "          24       0.23      0.11      0.15     15031\n",
      "          25       0.23      0.96      0.37      6400\n",
      "          27       0.99      0.52      0.68     43962\n",
      "          28       0.69      0.88      0.77    860832\n",
      "          29       0.97      0.49      0.65     36238\n",
      "          33       0.77      0.74      0.75     63630\n",
      "          35       0.94      0.98      0.96    133799\n",
      "          36       1.00      0.67      0.80     11735\n",
      "          38       0.99      0.40      0.57     25196\n",
      "          39       0.72      0.64      0.68     12596\n",
      "          40       0.00      0.00      0.00        33\n",
      "\n",
      "    accuracy                           0.72   3593698\n",
      "   macro avg       0.66      0.56      0.55   3593698\n",
      "weighted avg       0.75      0.72      0.71   3593698\n",
      "\n"
     ]
    },
    {
     "name": "stderr",
     "output_type": "stream",
     "text": [
      "/rds/general/user/as9820/home/anaconda3/envs/test1/lib/python3.9/site-packages/sklearn/utils/validation.py:623: FutureWarning: is_sparse is deprecated and will be removed in a future version. Check `isinstance(dtype, pd.SparseDtype)` instead.\n",
      "  if not hasattr(array, \"sparse\") and array.dtypes.apply(is_sparse).any():\n"
     ]
    },
    {
     "name": "stdout",
     "output_type": "stream",
     "text": [
      "3 0.6780905817309657\n",
      "              precision    recall  f1-score   support\n",
      "\n",
      "           7       0.90      0.29      0.44     63386\n",
      "           8       0.47      0.91      0.62    178544\n",
      "           9       0.92      0.42      0.58     60345\n",
      "          10       0.94      0.86      0.90     49967\n",
      "          12       0.84      0.45      0.58     44468\n",
      "          14       0.77      0.81      0.79     60771\n",
      "          15       0.44      0.68      0.54     93536\n",
      "          16       0.57      0.57      0.57    653048\n",
      "          17       0.89      0.49      0.63     21947\n",
      "          18       0.97      0.97      0.97    368598\n",
      "          19       0.47      0.03      0.06    200964\n",
      "          20       0.81      0.50      0.61      7962\n",
      "          22       0.31      0.66      0.42     41128\n",
      "          23       0.28      0.33      0.30     14082\n",
      "          24       0.47      0.13      0.20     57233\n",
      "          25       0.55      0.96      0.70     22444\n",
      "          27       0.97      0.46      0.62     35782\n",
      "          28       0.72      0.80      0.76    789481\n",
      "          29       0.96      0.49      0.65     30168\n",
      "          33       0.77      0.69      0.73     60580\n",
      "          35       0.88      0.98      0.93    134116\n",
      "          36       1.00      0.67      0.80     11736\n",
      "          38       0.99      0.40      0.56     23166\n",
      "          39       0.64      0.59      0.61     10184\n",
      "\n",
      "    accuracy                           0.68   3033636\n",
      "   macro avg       0.73      0.59      0.61   3033636\n",
      "weighted avg       0.70      0.68      0.66   3033636\n",
      "\n"
     ]
    },
    {
     "name": "stderr",
     "output_type": "stream",
     "text": [
      "/rds/general/user/as9820/home/anaconda3/envs/test1/lib/python3.9/site-packages/sklearn/utils/validation.py:623: FutureWarning: is_sparse is deprecated and will be removed in a future version. Check `isinstance(dtype, pd.SparseDtype)` instead.\n",
      "  if not hasattr(array, \"sparse\") and array.dtypes.apply(is_sparse).any():\n"
     ]
    },
    {
     "name": "stdout",
     "output_type": "stream",
     "text": [
      "4 0.6826693964722959\n"
     ]
    },
    {
     "name": "stderr",
     "output_type": "stream",
     "text": [
      "/rds/general/user/as9820/home/anaconda3/envs/test1/lib/python3.9/site-packages/sklearn/metrics/_classification.py:1318: UndefinedMetricWarning: Precision and F-score are ill-defined and being set to 0.0 in labels with no predicted samples. Use `zero_division` parameter to control this behavior.\n",
      "  _warn_prf(average, modifier, msg_start, len(result))\n",
      "/rds/general/user/as9820/home/anaconda3/envs/test1/lib/python3.9/site-packages/sklearn/metrics/_classification.py:1318: UndefinedMetricWarning: Precision and F-score are ill-defined and being set to 0.0 in labels with no predicted samples. Use `zero_division` parameter to control this behavior.\n",
      "  _warn_prf(average, modifier, msg_start, len(result))\n",
      "/rds/general/user/as9820/home/anaconda3/envs/test1/lib/python3.9/site-packages/sklearn/metrics/_classification.py:1318: UndefinedMetricWarning: Precision and F-score are ill-defined and being set to 0.0 in labels with no predicted samples. Use `zero_division` parameter to control this behavior.\n",
      "  _warn_prf(average, modifier, msg_start, len(result))\n"
     ]
    },
    {
     "name": "stdout",
     "output_type": "stream",
     "text": [
      "              precision    recall  f1-score   support\n",
      "\n",
      "           7       0.88      0.29      0.44     62563\n",
      "           8       0.49      0.93      0.65    196288\n",
      "           9       0.33      0.23      0.27     59222\n",
      "          10       0.97      0.82      0.89     70757\n",
      "          12       0.84      0.44      0.57     43098\n",
      "          14       0.73      0.81      0.77     58946\n",
      "          15       0.43      0.67      0.52     94104\n",
      "          16       0.53      0.45      0.48    655650\n",
      "          17       0.83      0.48      0.61     22568\n",
      "          18       0.97      0.97      0.97    364977\n",
      "          19       0.43      0.02      0.04    199679\n",
      "          20       0.85      0.54      0.66      6721\n",
      "          22       0.83      0.99      0.91    407463\n",
      "          23       0.15      0.04      0.06     50531\n",
      "          24       0.49      0.10      0.16     65599\n",
      "          25       0.43      0.77      0.55     24536\n",
      "          27       0.97      0.44      0.61     34370\n",
      "          28       0.66      0.83      0.74    782266\n",
      "          29       0.94      0.40      0.56     25079\n",
      "          33       0.69      0.64      0.66     48435\n",
      "          35       0.92      0.98      0.95    120045\n",
      "          36       1.00      0.66      0.79     10675\n",
      "          38       0.98      0.39      0.56     22843\n",
      "          39       0.72      0.62      0.67     13823\n",
      "          40       0.00      0.00      0.00       300\n",
      "\n",
      "    accuracy                           0.68   3440538\n",
      "   macro avg       0.68      0.54      0.56   3440538\n",
      "weighted avg       0.67      0.68      0.65   3440538\n",
      "\n"
     ]
    },
    {
     "name": "stderr",
     "output_type": "stream",
     "text": [
      "/rds/general/user/as9820/home/anaconda3/envs/test1/lib/python3.9/site-packages/sklearn/utils/validation.py:623: FutureWarning: is_sparse is deprecated and will be removed in a future version. Check `isinstance(dtype, pd.SparseDtype)` instead.\n",
      "  if not hasattr(array, \"sparse\") and array.dtypes.apply(is_sparse).any():\n"
     ]
    },
    {
     "name": "stdout",
     "output_type": "stream",
     "text": [
      "5 0.7005767262870469\n"
     ]
    },
    {
     "name": "stderr",
     "output_type": "stream",
     "text": [
      "/rds/general/user/as9820/home/anaconda3/envs/test1/lib/python3.9/site-packages/sklearn/metrics/_classification.py:1318: UndefinedMetricWarning: Precision and F-score are ill-defined and being set to 0.0 in labels with no predicted samples. Use `zero_division` parameter to control this behavior.\n",
      "  _warn_prf(average, modifier, msg_start, len(result))\n",
      "/rds/general/user/as9820/home/anaconda3/envs/test1/lib/python3.9/site-packages/sklearn/metrics/_classification.py:1318: UndefinedMetricWarning: Precision and F-score are ill-defined and being set to 0.0 in labels with no predicted samples. Use `zero_division` parameter to control this behavior.\n",
      "  _warn_prf(average, modifier, msg_start, len(result))\n",
      "/rds/general/user/as9820/home/anaconda3/envs/test1/lib/python3.9/site-packages/sklearn/metrics/_classification.py:1318: UndefinedMetricWarning: Precision and F-score are ill-defined and being set to 0.0 in labels with no predicted samples. Use `zero_division` parameter to control this behavior.\n",
      "  _warn_prf(average, modifier, msg_start, len(result))\n"
     ]
    },
    {
     "name": "stdout",
     "output_type": "stream",
     "text": [
      "              precision    recall  f1-score   support\n",
      "\n",
      "           7       0.83      0.29      0.43     70311\n",
      "           8       0.51      0.93      0.66    226493\n",
      "           9       0.65      0.33      0.44     71633\n",
      "          10       0.92      0.86      0.89     99662\n",
      "          12       0.83      0.39      0.53     48459\n",
      "          14       0.76      0.79      0.78     72425\n",
      "          15       0.44      0.67      0.53    107501\n",
      "          16       0.56      0.47      0.51    769799\n",
      "          17       0.84      0.49      0.62     24922\n",
      "          18       0.96      0.97      0.97    412279\n",
      "          19       0.61      0.04      0.07    219454\n",
      "          20       0.61      0.53      0.57      7473\n",
      "          22       0.85      0.99      0.91    582582\n",
      "          23       0.36      0.12      0.17     62764\n",
      "          24       0.59      0.21      0.31     83340\n",
      "          25       0.44      0.75      0.56     27630\n",
      "          27       0.97      0.42      0.59     37707\n",
      "          28       0.66      0.84      0.74    872827\n",
      "          29       0.90      0.44      0.59     28571\n",
      "          33       0.63      0.64      0.63     50423\n",
      "          35       0.93      0.98      0.96    132907\n",
      "          36       0.98      0.66      0.79     11805\n",
      "          38       0.98      0.39      0.56     25667\n",
      "          39       0.74      0.67      0.71     17921\n",
      "          40       0.00      0.00      0.00      1672\n",
      "\n",
      "    accuracy                           0.70   4066227\n",
      "   macro avg       0.70      0.55      0.58   4066227\n",
      "weighted avg       0.70      0.70      0.67   4066227\n",
      "\n"
     ]
    },
    {
     "name": "stderr",
     "output_type": "stream",
     "text": [
      "/rds/general/user/as9820/home/anaconda3/envs/test1/lib/python3.9/site-packages/sklearn/utils/validation.py:623: FutureWarning: is_sparse is deprecated and will be removed in a future version. Check `isinstance(dtype, pd.SparseDtype)` instead.\n",
      "  if not hasattr(array, \"sparse\") and array.dtypes.apply(is_sparse).any():\n"
     ]
    },
    {
     "name": "stdout",
     "output_type": "stream",
     "text": [
      "6 0.7110765939013037\n"
     ]
    },
    {
     "name": "stderr",
     "output_type": "stream",
     "text": [
      "/rds/general/user/as9820/home/anaconda3/envs/test1/lib/python3.9/site-packages/sklearn/metrics/_classification.py:1318: UndefinedMetricWarning: Precision and F-score are ill-defined and being set to 0.0 in labels with no predicted samples. Use `zero_division` parameter to control this behavior.\n",
      "  _warn_prf(average, modifier, msg_start, len(result))\n",
      "/rds/general/user/as9820/home/anaconda3/envs/test1/lib/python3.9/site-packages/sklearn/metrics/_classification.py:1318: UndefinedMetricWarning: Precision and F-score are ill-defined and being set to 0.0 in labels with no predicted samples. Use `zero_division` parameter to control this behavior.\n",
      "  _warn_prf(average, modifier, msg_start, len(result))\n",
      "/rds/general/user/as9820/home/anaconda3/envs/test1/lib/python3.9/site-packages/sklearn/metrics/_classification.py:1318: UndefinedMetricWarning: Precision and F-score are ill-defined and being set to 0.0 in labels with no predicted samples. Use `zero_division` parameter to control this behavior.\n",
      "  _warn_prf(average, modifier, msg_start, len(result))\n"
     ]
    },
    {
     "name": "stdout",
     "output_type": "stream",
     "text": [
      "              precision    recall  f1-score   support\n",
      "\n",
      "           7       0.84      0.29      0.43     69985\n",
      "           8       0.50      0.93      0.65    222672\n",
      "           9       0.40      0.21      0.28     67952\n",
      "          10       0.89      0.89      0.89     71466\n",
      "          12       0.80      0.32      0.45     49483\n",
      "          14       0.82      0.81      0.81     69465\n",
      "          15       0.40      0.68      0.50     81676\n",
      "          16       0.50      0.53      0.52    459253\n",
      "          17       0.89      0.49      0.63     24156\n",
      "          18       0.97      0.97      0.97    410825\n",
      "          19       0.54      0.03      0.06    224250\n",
      "          20       0.61      0.55      0.58      7318\n",
      "          22       0.86      1.00      0.92    542587\n",
      "          23       0.46      0.20      0.27     59528\n",
      "          24       0.64      0.27      0.38     90574\n",
      "          25       0.54      0.95      0.69     26398\n",
      "          27       0.98      0.42      0.59     37877\n",
      "          28       0.70      0.82      0.76    554790\n",
      "          29       0.87      0.43      0.57     27824\n",
      "          33       0.80      0.64      0.71     61379\n",
      "          35       0.90      0.98      0.94    130190\n",
      "          36       1.00      0.66      0.80     11813\n",
      "          38       0.99      0.39      0.56     25764\n",
      "          39       0.69      0.66      0.67     14175\n",
      "          40       0.00      0.00      0.00      1216\n",
      "\n",
      "    accuracy                           0.71   3342616\n",
      "   macro avg       0.70      0.56      0.59   3342616\n",
      "weighted avg       0.72      0.71      0.68   3342616\n",
      "\n"
     ]
    },
    {
     "name": "stderr",
     "output_type": "stream",
     "text": [
      "/rds/general/user/as9820/home/anaconda3/envs/test1/lib/python3.9/site-packages/sklearn/utils/validation.py:623: FutureWarning: is_sparse is deprecated and will be removed in a future version. Check `isinstance(dtype, pd.SparseDtype)` instead.\n",
      "  if not hasattr(array, \"sparse\") and array.dtypes.apply(is_sparse).any():\n"
     ]
    },
    {
     "name": "stdout",
     "output_type": "stream",
     "text": [
      "7 0.712656351446845\n"
     ]
    },
    {
     "name": "stderr",
     "output_type": "stream",
     "text": [
      "/rds/general/user/as9820/home/anaconda3/envs/test1/lib/python3.9/site-packages/sklearn/metrics/_classification.py:1318: UndefinedMetricWarning: Recall and F-score are ill-defined and being set to 0.0 in labels with no true samples. Use `zero_division` parameter to control this behavior.\n",
      "  _warn_prf(average, modifier, msg_start, len(result))\n",
      "/rds/general/user/as9820/home/anaconda3/envs/test1/lib/python3.9/site-packages/sklearn/metrics/_classification.py:1318: UndefinedMetricWarning: Recall and F-score are ill-defined and being set to 0.0 in labels with no true samples. Use `zero_division` parameter to control this behavior.\n",
      "  _warn_prf(average, modifier, msg_start, len(result))\n",
      "/rds/general/user/as9820/home/anaconda3/envs/test1/lib/python3.9/site-packages/sklearn/metrics/_classification.py:1318: UndefinedMetricWarning: Recall and F-score are ill-defined and being set to 0.0 in labels with no true samples. Use `zero_division` parameter to control this behavior.\n",
      "  _warn_prf(average, modifier, msg_start, len(result))\n"
     ]
    },
    {
     "name": "stdout",
     "output_type": "stream",
     "text": [
      "              precision    recall  f1-score   support\n",
      "\n",
      "           7       0.83      0.29      0.43     70226\n",
      "           8       0.51      0.93      0.66    225520\n",
      "           9       0.30      0.15      0.20     68416\n",
      "          10       0.88      0.84      0.86     75191\n",
      "          12       0.78      0.27      0.40     51810\n",
      "          14       0.88      0.78      0.83     73304\n",
      "          15       0.28      0.76      0.40     39271\n",
      "          16       0.00      0.00      0.00         0\n",
      "          17       0.94      0.49      0.64     24035\n",
      "          18       0.98      0.97      0.98    411803\n",
      "          19       0.59      0.03      0.07    219862\n",
      "          20       0.61      0.58      0.59      6627\n",
      "          22       0.87      1.00      0.93    488089\n",
      "          23       0.48      0.20      0.28     59630\n",
      "          24       0.66      0.25      0.37     88859\n",
      "          25       0.55      0.96      0.70     26434\n",
      "          27       0.99      0.47      0.64     40052\n",
      "          28       0.00      0.00      0.00         0\n",
      "          29       0.99      0.42      0.59     27686\n",
      "          33       0.96      0.66      0.78     60512\n",
      "          35       0.88      0.98      0.93    125076\n",
      "          36       1.00      0.67      0.80     11733\n",
      "          38       0.99      0.40      0.57     25447\n",
      "          39       0.68      0.57      0.62     10649\n",
      "\n",
      "    accuracy                           0.71   2230232\n",
      "   macro avg       0.69      0.53      0.55   2230232\n",
      "weighted avg       0.78      0.71      0.69   2230232\n",
      "\n"
     ]
    },
    {
     "name": "stderr",
     "output_type": "stream",
     "text": [
      "/rds/general/user/as9820/home/anaconda3/envs/test1/lib/python3.9/site-packages/sklearn/utils/validation.py:623: FutureWarning: is_sparse is deprecated and will be removed in a future version. Check `isinstance(dtype, pd.SparseDtype)` instead.\n",
      "  if not hasattr(array, \"sparse\") and array.dtypes.apply(is_sparse).any():\n"
     ]
    },
    {
     "name": "stdout",
     "output_type": "stream",
     "text": [
      "8 0.7029120006057248\n",
      "              precision    recall  f1-score   support\n",
      "\n",
      "           7       0.81      0.29      0.43     70345\n",
      "           8       0.50      0.92      0.65    222122\n",
      "           9       0.04      0.02      0.03     35679\n",
      "          10       0.86      0.88      0.87     82769\n",
      "          12       0.77      0.32      0.45     54906\n",
      "          14       0.81      0.77      0.79     74216\n",
      "          15       0.38      0.69      0.49     67592\n",
      "          16       0.38      0.41      0.39    281797\n",
      "          17       0.88      0.46      0.61     25830\n",
      "          18       0.98      0.97      0.97    411608\n",
      "          19       0.48      0.03      0.06    221747\n",
      "          20       0.63      0.56      0.59      6901\n",
      "          22       0.87      1.00      0.93    513784\n",
      "          23       0.43      0.22      0.29     41180\n",
      "          24       0.65      0.22      0.33     87088\n",
      "          25       0.56      0.96      0.70     26738\n",
      "          27       0.94      0.47      0.63     41168\n",
      "          28       0.62      0.82      0.71    311806\n",
      "          29       0.96      0.42      0.59     27843\n",
      "          33       0.83      0.62      0.71     61255\n",
      "          35       0.90      0.98      0.94    128066\n",
      "          36       1.00      0.64      0.78     21019\n",
      "          38       0.98      0.39      0.56     25735\n",
      "          39       0.67      0.58      0.62     11587\n",
      "\n",
      "    accuracy                           0.70   2852781\n",
      "   macro avg       0.71      0.57      0.59   2852781\n",
      "weighted avg       0.71      0.70      0.67   2852781\n",
      "\n"
     ]
    },
    {
     "name": "stderr",
     "output_type": "stream",
     "text": [
      "/rds/general/user/as9820/home/anaconda3/envs/test1/lib/python3.9/site-packages/sklearn/utils/validation.py:623: FutureWarning: is_sparse is deprecated and will be removed in a future version. Check `isinstance(dtype, pd.SparseDtype)` instead.\n",
      "  if not hasattr(array, \"sparse\") and array.dtypes.apply(is_sparse).any():\n"
     ]
    },
    {
     "name": "stdout",
     "output_type": "stream",
     "text": [
      "9 0.7270034156931984\n"
     ]
    },
    {
     "name": "stderr",
     "output_type": "stream",
     "text": [
      "/rds/general/user/as9820/home/anaconda3/envs/test1/lib/python3.9/site-packages/sklearn/metrics/_classification.py:1318: UndefinedMetricWarning: Recall and F-score are ill-defined and being set to 0.0 in labels with no true samples. Use `zero_division` parameter to control this behavior.\n",
      "  _warn_prf(average, modifier, msg_start, len(result))\n",
      "/rds/general/user/as9820/home/anaconda3/envs/test1/lib/python3.9/site-packages/sklearn/metrics/_classification.py:1318: UndefinedMetricWarning: Recall and F-score are ill-defined and being set to 0.0 in labels with no true samples. Use `zero_division` parameter to control this behavior.\n",
      "  _warn_prf(average, modifier, msg_start, len(result))\n",
      "/rds/general/user/as9820/home/anaconda3/envs/test1/lib/python3.9/site-packages/sklearn/metrics/_classification.py:1318: UndefinedMetricWarning: Recall and F-score are ill-defined and being set to 0.0 in labels with no true samples. Use `zero_division` parameter to control this behavior.\n",
      "  _warn_prf(average, modifier, msg_start, len(result))\n"
     ]
    },
    {
     "name": "stdout",
     "output_type": "stream",
     "text": [
      "              precision    recall  f1-score   support\n",
      "\n",
      "           7       0.88      0.29      0.44     62496\n",
      "           8       0.35      0.91      0.51    107452\n",
      "           9       0.00      0.00      0.00         0\n",
      "          10       0.96      0.93      0.94     78953\n",
      "          12       0.84      0.42      0.56     48087\n",
      "          14       0.00      0.00      0.00         0\n",
      "          15       0.49      0.66      0.57     92488\n",
      "          16       0.58      0.57      0.57    555279\n",
      "          17       0.89      0.52      0.66     22665\n",
      "          18       0.97      0.97      0.97    364013\n",
      "          19       0.66      0.04      0.07    196770\n",
      "          20       0.74      0.58      0.65      5606\n",
      "          22       0.90      1.00      0.94    531023\n",
      "          23       0.30      0.33      0.32     13862\n",
      "          24       0.79      0.31      0.44     84770\n",
      "          25       0.60      0.95      0.74     25683\n",
      "          27       0.94      0.47      0.63     35713\n",
      "          28       0.71      0.80      0.75    655130\n",
      "          29       0.94      0.35      0.51     21256\n",
      "          33       0.71      0.62      0.66     55016\n",
      "          35       0.96      0.98      0.97    117170\n",
      "          36       1.00      0.67      0.80     11067\n",
      "          38       0.98      0.39      0.56     22642\n",
      "          39       0.67      0.59      0.63     10235\n",
      "\n",
      "    accuracy                           0.73   3117376\n",
      "   macro avg       0.70      0.56      0.58   3117376\n",
      "weighted avg       0.76      0.73      0.71   3117376\n",
      "\n"
     ]
    },
    {
     "name": "stderr",
     "output_type": "stream",
     "text": [
      "/rds/general/user/as9820/home/anaconda3/envs/test1/lib/python3.9/site-packages/sklearn/utils/validation.py:623: FutureWarning: is_sparse is deprecated and will be removed in a future version. Check `isinstance(dtype, pd.SparseDtype)` instead.\n",
      "  if not hasattr(array, \"sparse\") and array.dtypes.apply(is_sparse).any():\n"
     ]
    },
    {
     "name": "stdout",
     "output_type": "stream",
     "text": [
      "10 0.6829672065392397\n"
     ]
    },
    {
     "name": "stderr",
     "output_type": "stream",
     "text": [
      "/rds/general/user/as9820/home/anaconda3/envs/test1/lib/python3.9/site-packages/sklearn/metrics/_classification.py:1318: UndefinedMetricWarning: Precision and F-score are ill-defined and being set to 0.0 in labels with no predicted samples. Use `zero_division` parameter to control this behavior.\n",
      "  _warn_prf(average, modifier, msg_start, len(result))\n",
      "/rds/general/user/as9820/home/anaconda3/envs/test1/lib/python3.9/site-packages/sklearn/metrics/_classification.py:1318: UndefinedMetricWarning: Recall and F-score are ill-defined and being set to 0.0 in labels with no true samples. Use `zero_division` parameter to control this behavior.\n",
      "  _warn_prf(average, modifier, msg_start, len(result))\n",
      "/rds/general/user/as9820/home/anaconda3/envs/test1/lib/python3.9/site-packages/sklearn/metrics/_classification.py:1318: UndefinedMetricWarning: Precision and F-score are ill-defined and being set to 0.0 in labels with no predicted samples. Use `zero_division` parameter to control this behavior.\n",
      "  _warn_prf(average, modifier, msg_start, len(result))\n",
      "/rds/general/user/as9820/home/anaconda3/envs/test1/lib/python3.9/site-packages/sklearn/metrics/_classification.py:1318: UndefinedMetricWarning: Recall and F-score are ill-defined and being set to 0.0 in labels with no true samples. Use `zero_division` parameter to control this behavior.\n",
      "  _warn_prf(average, modifier, msg_start, len(result))\n",
      "/rds/general/user/as9820/home/anaconda3/envs/test1/lib/python3.9/site-packages/sklearn/metrics/_classification.py:1318: UndefinedMetricWarning: Precision and F-score are ill-defined and being set to 0.0 in labels with no predicted samples. Use `zero_division` parameter to control this behavior.\n",
      "  _warn_prf(average, modifier, msg_start, len(result))\n",
      "/rds/general/user/as9820/home/anaconda3/envs/test1/lib/python3.9/site-packages/sklearn/metrics/_classification.py:1318: UndefinedMetricWarning: Recall and F-score are ill-defined and being set to 0.0 in labels with no true samples. Use `zero_division` parameter to control this behavior.\n",
      "  _warn_prf(average, modifier, msg_start, len(result))\n"
     ]
    },
    {
     "name": "stdout",
     "output_type": "stream",
     "text": [
      "              precision    recall  f1-score   support\n",
      "\n",
      "           7       0.85      0.32      0.47     55031\n",
      "           8       0.00      0.00      0.00         0\n",
      "           9       0.00      0.00      0.00         0\n",
      "          10       0.81      0.80      0.80     60072\n",
      "          12       0.23      0.53      0.32     41194\n",
      "          14       0.75      0.65      0.70     55736\n",
      "          15       0.33      0.53      0.40     66424\n",
      "          16       0.50      0.73      0.59    407018\n",
      "          17       0.62      0.30      0.41     20358\n",
      "          18       0.96      0.97      0.97    354232\n",
      "          19       1.00      0.95      0.97    191909\n",
      "          20       0.45      0.23      0.30      5259\n",
      "          22       0.44      0.88      0.59     53581\n",
      "          23       0.58      0.19      0.29     91973\n",
      "          24       0.67      0.39      0.49     91911\n",
      "          25       0.56      0.96      0.71     25017\n",
      "          27       0.99      0.52      0.68     30975\n",
      "          28       0.87      0.74      0.80    706807\n",
      "          29       0.90      0.32      0.48     20675\n",
      "          33       0.59      0.54      0.56     56725\n",
      "          35       0.02      0.00      0.00     69890\n",
      "          36       0.01      0.00      0.00     50994\n",
      "          38       0.94      0.40      0.56     22021\n",
      "          39       0.07      0.43      0.12      9349\n",
      "          40       0.00      0.00      0.00       967\n",
      "\n",
      "    accuracy                           0.68   2488118\n",
      "   macro avg       0.53      0.46      0.45   2488118\n",
      "weighted avg       0.72      0.68      0.68   2488118\n",
      "\n"
     ]
    },
    {
     "name": "stderr",
     "output_type": "stream",
     "text": [
      "/rds/general/user/as9820/home/anaconda3/envs/test1/lib/python3.9/site-packages/sklearn/utils/validation.py:623: FutureWarning: is_sparse is deprecated and will be removed in a future version. Check `isinstance(dtype, pd.SparseDtype)` instead.\n",
      "  if not hasattr(array, \"sparse\") and array.dtypes.apply(is_sparse).any():\n"
     ]
    },
    {
     "name": "stdout",
     "output_type": "stream",
     "text": [
      "11 0.6862548994097804\n"
     ]
    },
    {
     "name": "stderr",
     "output_type": "stream",
     "text": [
      "/rds/general/user/as9820/home/anaconda3/envs/test1/lib/python3.9/site-packages/sklearn/metrics/_classification.py:1318: UndefinedMetricWarning: Precision and F-score are ill-defined and being set to 0.0 in labels with no predicted samples. Use `zero_division` parameter to control this behavior.\n",
      "  _warn_prf(average, modifier, msg_start, len(result))\n",
      "/rds/general/user/as9820/home/anaconda3/envs/test1/lib/python3.9/site-packages/sklearn/metrics/_classification.py:1318: UndefinedMetricWarning: Recall and F-score are ill-defined and being set to 0.0 in labels with no true samples. Use `zero_division` parameter to control this behavior.\n",
      "  _warn_prf(average, modifier, msg_start, len(result))\n",
      "/rds/general/user/as9820/home/anaconda3/envs/test1/lib/python3.9/site-packages/sklearn/metrics/_classification.py:1318: UndefinedMetricWarning: Precision and F-score are ill-defined and being set to 0.0 in labels with no predicted samples. Use `zero_division` parameter to control this behavior.\n",
      "  _warn_prf(average, modifier, msg_start, len(result))\n",
      "/rds/general/user/as9820/home/anaconda3/envs/test1/lib/python3.9/site-packages/sklearn/metrics/_classification.py:1318: UndefinedMetricWarning: Recall and F-score are ill-defined and being set to 0.0 in labels with no true samples. Use `zero_division` parameter to control this behavior.\n",
      "  _warn_prf(average, modifier, msg_start, len(result))\n",
      "/rds/general/user/as9820/home/anaconda3/envs/test1/lib/python3.9/site-packages/sklearn/metrics/_classification.py:1318: UndefinedMetricWarning: Precision and F-score are ill-defined and being set to 0.0 in labels with no predicted samples. Use `zero_division` parameter to control this behavior.\n",
      "  _warn_prf(average, modifier, msg_start, len(result))\n",
      "/rds/general/user/as9820/home/anaconda3/envs/test1/lib/python3.9/site-packages/sklearn/metrics/_classification.py:1318: UndefinedMetricWarning: Recall and F-score are ill-defined and being set to 0.0 in labels with no true samples. Use `zero_division` parameter to control this behavior.\n",
      "  _warn_prf(average, modifier, msg_start, len(result))\n"
     ]
    },
    {
     "name": "stdout",
     "output_type": "stream",
     "text": [
      "              precision    recall  f1-score   support\n",
      "\n",
      "           7       0.86      0.29      0.44     68400\n",
      "           8       0.00      0.00      0.00         0\n",
      "           9       0.00      0.00      0.00         0\n",
      "          10       0.79      0.79      0.79     63027\n",
      "          12       0.22      0.55      0.31     43952\n",
      "          14       0.74      0.65      0.69     63647\n",
      "          15       0.34      0.53      0.42     75692\n",
      "          16       0.53      0.70      0.61    514403\n",
      "          17       0.66      0.32      0.43     23516\n",
      "          18       0.96      0.97      0.97    399829\n",
      "          19       1.00      0.95      0.97    215803\n",
      "          20       0.59      0.23      0.33      5782\n",
      "          22       0.49      1.00      0.66     61958\n",
      "          23       0.43      0.21      0.28     46288\n",
      "          24       0.66      0.26      0.37     87341\n",
      "          25       0.63      0.96      0.76     25901\n",
      "          27       0.97      0.55      0.70     33004\n",
      "          28       0.83      0.73      0.78    737614\n",
      "          29       0.88      0.31      0.46     22580\n",
      "          33       0.60      0.54      0.57     65129\n",
      "          35       0.00      0.00      0.00     80383\n",
      "          36       0.00      0.00      0.00     58667\n",
      "          38       0.94      0.40      0.56     24813\n",
      "          39       0.06      0.38      0.10     10060\n",
      "          40       0.00      0.00      0.00       856\n",
      "\n",
      "    accuracy                           0.69   2728645\n",
      "   macro avg       0.53      0.45      0.45   2728645\n",
      "weighted avg       0.71      0.69      0.68   2728645\n",
      "\n"
     ]
    },
    {
     "name": "stderr",
     "output_type": "stream",
     "text": [
      "/rds/general/user/as9820/home/anaconda3/envs/test1/lib/python3.9/site-packages/sklearn/utils/validation.py:623: FutureWarning: is_sparse is deprecated and will be removed in a future version. Check `isinstance(dtype, pd.SparseDtype)` instead.\n",
      "  if not hasattr(array, \"sparse\") and array.dtypes.apply(is_sparse).any():\n"
     ]
    },
    {
     "name": "stdout",
     "output_type": "stream",
     "text": [
      "12 0.707485309565554\n"
     ]
    },
    {
     "name": "stderr",
     "output_type": "stream",
     "text": [
      "/rds/general/user/as9820/home/anaconda3/envs/test1/lib/python3.9/site-packages/sklearn/metrics/_classification.py:1318: UndefinedMetricWarning: Precision and F-score are ill-defined and being set to 0.0 in labels with no predicted samples. Use `zero_division` parameter to control this behavior.\n",
      "  _warn_prf(average, modifier, msg_start, len(result))\n",
      "/rds/general/user/as9820/home/anaconda3/envs/test1/lib/python3.9/site-packages/sklearn/metrics/_classification.py:1318: UndefinedMetricWarning: Recall and F-score are ill-defined and being set to 0.0 in labels with no true samples. Use `zero_division` parameter to control this behavior.\n",
      "  _warn_prf(average, modifier, msg_start, len(result))\n",
      "/rds/general/user/as9820/home/anaconda3/envs/test1/lib/python3.9/site-packages/sklearn/metrics/_classification.py:1318: UndefinedMetricWarning: Precision and F-score are ill-defined and being set to 0.0 in labels with no predicted samples. Use `zero_division` parameter to control this behavior.\n",
      "  _warn_prf(average, modifier, msg_start, len(result))\n",
      "/rds/general/user/as9820/home/anaconda3/envs/test1/lib/python3.9/site-packages/sklearn/metrics/_classification.py:1318: UndefinedMetricWarning: Recall and F-score are ill-defined and being set to 0.0 in labels with no true samples. Use `zero_division` parameter to control this behavior.\n",
      "  _warn_prf(average, modifier, msg_start, len(result))\n",
      "/rds/general/user/as9820/home/anaconda3/envs/test1/lib/python3.9/site-packages/sklearn/metrics/_classification.py:1318: UndefinedMetricWarning: Precision and F-score are ill-defined and being set to 0.0 in labels with no predicted samples. Use `zero_division` parameter to control this behavior.\n",
      "  _warn_prf(average, modifier, msg_start, len(result))\n",
      "/rds/general/user/as9820/home/anaconda3/envs/test1/lib/python3.9/site-packages/sklearn/metrics/_classification.py:1318: UndefinedMetricWarning: Recall and F-score are ill-defined and being set to 0.0 in labels with no true samples. Use `zero_division` parameter to control this behavior.\n",
      "  _warn_prf(average, modifier, msg_start, len(result))\n"
     ]
    },
    {
     "name": "stdout",
     "output_type": "stream",
     "text": [
      "              precision    recall  f1-score   support\n",
      "\n",
      "           7       0.82      0.29      0.43     70174\n",
      "           8       0.00      0.00      0.00         0\n",
      "           9       0.53      0.43      0.48     47594\n",
      "          10       0.58      0.91      0.71     26363\n",
      "          12       0.17      0.53      0.26     13495\n",
      "          14       0.80      0.71      0.75     70610\n",
      "          15       0.19      0.47      0.27     45894\n",
      "          16       0.61      0.73      0.67    613142\n",
      "          17       0.68      0.32      0.44     23722\n",
      "          18       0.97      0.97      0.97    409069\n",
      "          19       1.00      0.93      0.96    223463\n",
      "          20       0.80      0.23      0.36      6018\n",
      "          21       0.00      0.00      0.00       362\n",
      "          22       0.23      1.00      0.38     22686\n",
      "          23       0.17      0.12      0.14     21111\n",
      "          24       0.81      0.24      0.37     90967\n",
      "          25       0.60      0.96      0.74     27370\n",
      "          27       0.95      0.47      0.63     31740\n",
      "          28       0.81      0.72      0.76    732202\n",
      "          29       0.91      0.39      0.55     26588\n",
      "          33       0.64      0.54      0.58     69484\n",
      "          35       0.00      0.00      0.00     29450\n",
      "          36       0.00      0.00      0.00     21493\n",
      "          38       0.95      0.40      0.56     25466\n",
      "          39       0.15      0.41      0.22     10791\n",
      "          40       0.00      0.00      0.00      1491\n",
      "\n",
      "    accuracy                           0.71   2660745\n",
      "   macro avg       0.51      0.45      0.43   2660745\n",
      "weighted avg       0.75      0.71      0.71   2660745\n",
      "\n"
     ]
    },
    {
     "name": "stderr",
     "output_type": "stream",
     "text": [
      "/rds/general/user/as9820/home/anaconda3/envs/test1/lib/python3.9/site-packages/sklearn/utils/validation.py:623: FutureWarning: is_sparse is deprecated and will be removed in a future version. Check `isinstance(dtype, pd.SparseDtype)` instead.\n",
      "  if not hasattr(array, \"sparse\") and array.dtypes.apply(is_sparse).any():\n"
     ]
    },
    {
     "name": "stdout",
     "output_type": "stream",
     "text": [
      "13 0.6836834830876141\n"
     ]
    },
    {
     "name": "stderr",
     "output_type": "stream",
     "text": [
      "/rds/general/user/as9820/home/anaconda3/envs/test1/lib/python3.9/site-packages/sklearn/metrics/_classification.py:1318: UndefinedMetricWarning: Precision and F-score are ill-defined and being set to 0.0 in labels with no predicted samples. Use `zero_division` parameter to control this behavior.\n",
      "  _warn_prf(average, modifier, msg_start, len(result))\n",
      "/rds/general/user/as9820/home/anaconda3/envs/test1/lib/python3.9/site-packages/sklearn/metrics/_classification.py:1318: UndefinedMetricWarning: Recall and F-score are ill-defined and being set to 0.0 in labels with no true samples. Use `zero_division` parameter to control this behavior.\n",
      "  _warn_prf(average, modifier, msg_start, len(result))\n",
      "/rds/general/user/as9820/home/anaconda3/envs/test1/lib/python3.9/site-packages/sklearn/metrics/_classification.py:1318: UndefinedMetricWarning: Precision and F-score are ill-defined and being set to 0.0 in labels with no predicted samples. Use `zero_division` parameter to control this behavior.\n",
      "  _warn_prf(average, modifier, msg_start, len(result))\n",
      "/rds/general/user/as9820/home/anaconda3/envs/test1/lib/python3.9/site-packages/sklearn/metrics/_classification.py:1318: UndefinedMetricWarning: Recall and F-score are ill-defined and being set to 0.0 in labels with no true samples. Use `zero_division` parameter to control this behavior.\n",
      "  _warn_prf(average, modifier, msg_start, len(result))\n",
      "/rds/general/user/as9820/home/anaconda3/envs/test1/lib/python3.9/site-packages/sklearn/metrics/_classification.py:1318: UndefinedMetricWarning: Precision and F-score are ill-defined and being set to 0.0 in labels with no predicted samples. Use `zero_division` parameter to control this behavior.\n",
      "  _warn_prf(average, modifier, msg_start, len(result))\n",
      "/rds/general/user/as9820/home/anaconda3/envs/test1/lib/python3.9/site-packages/sklearn/metrics/_classification.py:1318: UndefinedMetricWarning: Recall and F-score are ill-defined and being set to 0.0 in labels with no true samples. Use `zero_division` parameter to control this behavior.\n",
      "  _warn_prf(average, modifier, msg_start, len(result))\n"
     ]
    },
    {
     "name": "stdout",
     "output_type": "stream",
     "text": [
      "              precision    recall  f1-score   support\n",
      "\n",
      "           7       0.80      0.29      0.43     69558\n",
      "           8       0.00      0.00      0.00         0\n",
      "           9       0.50      0.26      0.34     68216\n",
      "          10       0.00      0.00      0.00         0\n",
      "          12       0.00      0.00      0.00         0\n",
      "          14       0.80      0.69      0.74     71459\n",
      "          15       0.10      0.36      0.16     27343\n",
      "          16       0.58      0.64      0.61    623252\n",
      "          17       0.68      0.32      0.44     23022\n",
      "          18       0.97      0.97      0.97    405880\n",
      "          19       1.00      0.94      0.97    219673\n",
      "          20       0.83      0.23      0.36      5799\n",
      "          22       0.00      0.00      0.00         0\n",
      "          23       0.29      0.35      0.32     14990\n",
      "          24       0.81      0.28      0.42     93158\n",
      "          25       0.61      0.96      0.74     28072\n",
      "          27       0.95      0.46      0.62     37179\n",
      "          28       0.72      0.68      0.70    701538\n",
      "          29       0.91      0.38      0.54     26281\n",
      "          33       0.65      0.54      0.59     68048\n",
      "          35       0.00      0.00      0.00         0\n",
      "          36       0.00      0.00      0.00         0\n",
      "          38       0.94      0.40      0.56     25235\n",
      "          39       0.56      0.39      0.46     10316\n",
      "          40       0.00      0.00      0.00       998\n",
      "\n",
      "    accuracy                           0.68   2520017\n",
      "   macro avg       0.51      0.37      0.40   2520017\n",
      "weighted avg       0.74      0.68      0.70   2520017\n",
      "\n"
     ]
    },
    {
     "name": "stderr",
     "output_type": "stream",
     "text": [
      "/rds/general/user/as9820/home/anaconda3/envs/test1/lib/python3.9/site-packages/sklearn/utils/validation.py:623: FutureWarning: is_sparse is deprecated and will be removed in a future version. Check `isinstance(dtype, pd.SparseDtype)` instead.\n",
      "  if not hasattr(array, \"sparse\") and array.dtypes.apply(is_sparse).any():\n"
     ]
    },
    {
     "name": "stdout",
     "output_type": "stream",
     "text": [
      "14 0.6918678092165242\n"
     ]
    },
    {
     "name": "stderr",
     "output_type": "stream",
     "text": [
      "/rds/general/user/as9820/home/anaconda3/envs/test1/lib/python3.9/site-packages/sklearn/metrics/_classification.py:1318: UndefinedMetricWarning: Precision and F-score are ill-defined and being set to 0.0 in labels with no predicted samples. Use `zero_division` parameter to control this behavior.\n",
      "  _warn_prf(average, modifier, msg_start, len(result))\n",
      "/rds/general/user/as9820/home/anaconda3/envs/test1/lib/python3.9/site-packages/sklearn/metrics/_classification.py:1318: UndefinedMetricWarning: Recall and F-score are ill-defined and being set to 0.0 in labels with no true samples. Use `zero_division` parameter to control this behavior.\n",
      "  _warn_prf(average, modifier, msg_start, len(result))\n",
      "/rds/general/user/as9820/home/anaconda3/envs/test1/lib/python3.9/site-packages/sklearn/metrics/_classification.py:1318: UndefinedMetricWarning: Precision and F-score are ill-defined and being set to 0.0 in labels with no predicted samples. Use `zero_division` parameter to control this behavior.\n",
      "  _warn_prf(average, modifier, msg_start, len(result))\n",
      "/rds/general/user/as9820/home/anaconda3/envs/test1/lib/python3.9/site-packages/sklearn/metrics/_classification.py:1318: UndefinedMetricWarning: Recall and F-score are ill-defined and being set to 0.0 in labels with no true samples. Use `zero_division` parameter to control this behavior.\n",
      "  _warn_prf(average, modifier, msg_start, len(result))\n",
      "/rds/general/user/as9820/home/anaconda3/envs/test1/lib/python3.9/site-packages/sklearn/metrics/_classification.py:1318: UndefinedMetricWarning: Precision and F-score are ill-defined and being set to 0.0 in labels with no predicted samples. Use `zero_division` parameter to control this behavior.\n",
      "  _warn_prf(average, modifier, msg_start, len(result))\n",
      "/rds/general/user/as9820/home/anaconda3/envs/test1/lib/python3.9/site-packages/sklearn/metrics/_classification.py:1318: UndefinedMetricWarning: Recall and F-score are ill-defined and being set to 0.0 in labels with no true samples. Use `zero_division` parameter to control this behavior.\n",
      "  _warn_prf(average, modifier, msg_start, len(result))\n"
     ]
    },
    {
     "name": "stdout",
     "output_type": "stream",
     "text": [
      "              precision    recall  f1-score   support\n",
      "\n",
      "           7       0.80      0.29      0.43     69877\n",
      "           8       0.00      0.00      0.00         0\n",
      "           9       0.54      0.37      0.44     72466\n",
      "          10       0.00      0.00      0.00         0\n",
      "          12       0.00      0.00      0.00         0\n",
      "          14       0.82      0.65      0.73     72646\n",
      "          15       0.09      0.35      0.15     24796\n",
      "          16       0.48      0.65      0.55    332153\n",
      "          17       0.75      0.32      0.45     23026\n",
      "          18       0.98      0.97      0.97    409857\n",
      "          19       1.00      0.93      0.97    222734\n",
      "          20       0.62      0.23      0.33      5941\n",
      "          22       0.00      0.00      0.00         0\n",
      "          23       0.50      0.22      0.30     52459\n",
      "          24       0.68      0.24      0.35     84321\n",
      "          25       0.57      0.96      0.71     26362\n",
      "          27       0.94      0.44      0.60     30924\n",
      "          28       0.80      0.72      0.76    533305\n",
      "          29       0.93      0.39      0.55     26769\n",
      "          33       0.74      0.52      0.61     69831\n",
      "          35       0.00      0.00      0.00         0\n",
      "          36       0.00      0.00      0.00         0\n",
      "          38       0.94      0.40      0.56     25354\n",
      "          39       0.56      0.37      0.44     10464\n",
      "          40       0.00      0.00      0.00       628\n",
      "\n",
      "    accuracy                           0.69   2093913\n",
      "   macro avg       0.51      0.36      0.40   2093913\n",
      "weighted avg       0.77      0.69      0.71   2093913\n",
      "\n"
     ]
    },
    {
     "name": "stderr",
     "output_type": "stream",
     "text": [
      "/rds/general/user/as9820/home/anaconda3/envs/test1/lib/python3.9/site-packages/sklearn/utils/validation.py:623: FutureWarning: is_sparse is deprecated and will be removed in a future version. Check `isinstance(dtype, pd.SparseDtype)` instead.\n",
      "  if not hasattr(array, \"sparse\") and array.dtypes.apply(is_sparse).any():\n"
     ]
    },
    {
     "name": "stdout",
     "output_type": "stream",
     "text": [
      "15 0.6784450068904642\n"
     ]
    },
    {
     "name": "stderr",
     "output_type": "stream",
     "text": [
      "/rds/general/user/as9820/home/anaconda3/envs/test1/lib/python3.9/site-packages/sklearn/metrics/_classification.py:1318: UndefinedMetricWarning: Precision and F-score are ill-defined and being set to 0.0 in labels with no predicted samples. Use `zero_division` parameter to control this behavior.\n",
      "  _warn_prf(average, modifier, msg_start, len(result))\n",
      "/rds/general/user/as9820/home/anaconda3/envs/test1/lib/python3.9/site-packages/sklearn/metrics/_classification.py:1318: UndefinedMetricWarning: Recall and F-score are ill-defined and being set to 0.0 in labels with no true samples. Use `zero_division` parameter to control this behavior.\n",
      "  _warn_prf(average, modifier, msg_start, len(result))\n",
      "/rds/general/user/as9820/home/anaconda3/envs/test1/lib/python3.9/site-packages/sklearn/metrics/_classification.py:1318: UndefinedMetricWarning: Precision and F-score are ill-defined and being set to 0.0 in labels with no predicted samples. Use `zero_division` parameter to control this behavior.\n",
      "  _warn_prf(average, modifier, msg_start, len(result))\n",
      "/rds/general/user/as9820/home/anaconda3/envs/test1/lib/python3.9/site-packages/sklearn/metrics/_classification.py:1318: UndefinedMetricWarning: Recall and F-score are ill-defined and being set to 0.0 in labels with no true samples. Use `zero_division` parameter to control this behavior.\n",
      "  _warn_prf(average, modifier, msg_start, len(result))\n",
      "/rds/general/user/as9820/home/anaconda3/envs/test1/lib/python3.9/site-packages/sklearn/metrics/_classification.py:1318: UndefinedMetricWarning: Precision and F-score are ill-defined and being set to 0.0 in labels with no predicted samples. Use `zero_division` parameter to control this behavior.\n",
      "  _warn_prf(average, modifier, msg_start, len(result))\n",
      "/rds/general/user/as9820/home/anaconda3/envs/test1/lib/python3.9/site-packages/sklearn/metrics/_classification.py:1318: UndefinedMetricWarning: Recall and F-score are ill-defined and being set to 0.0 in labels with no true samples. Use `zero_division` parameter to control this behavior.\n",
      "  _warn_prf(average, modifier, msg_start, len(result))\n"
     ]
    },
    {
     "name": "stdout",
     "output_type": "stream",
     "text": [
      "              precision    recall  f1-score   support\n",
      "\n",
      "           7       0.79      0.29      0.43     70150\n",
      "           8       0.00      0.00      0.00         0\n",
      "           9       0.38      0.23      0.29     66483\n",
      "          10       0.00      0.00      0.00         0\n",
      "          12       0.00      0.00      0.00         0\n",
      "          14       0.80      0.65      0.72     74017\n",
      "          15       0.08      0.33      0.12     23283\n",
      "          16       0.49      0.77      0.59    285257\n",
      "          17       0.82      0.31      0.45     23823\n",
      "          18       0.98      0.97      0.97    408100\n",
      "          19       1.00      0.94      0.97    220792\n",
      "          20       0.43      0.01      0.01     90530\n",
      "          22       0.00      0.00      0.00         0\n",
      "          23       0.49      0.23      0.31     52507\n",
      "          24       0.68      0.24      0.36     85571\n",
      "          25       0.55      0.96      0.70     25852\n",
      "          27       0.96      0.50      0.66     40813\n",
      "          28       0.89      0.73      0.80    511790\n",
      "          29       0.91      0.39      0.55     27136\n",
      "          33       0.72      0.53      0.62     66675\n",
      "          35       0.00      0.00      0.00         0\n",
      "          36       0.00      0.00      0.00         0\n",
      "          38       0.94      0.40      0.56     25336\n",
      "          39       0.59      0.39      0.47     10412\n",
      "          40       0.00      0.00      0.00       910\n",
      "\n",
      "    accuracy                           0.68   2109437\n",
      "   macro avg       0.50      0.35      0.38   2109437\n",
      "weighted avg       0.78      0.68      0.70   2109437\n",
      "\n"
     ]
    },
    {
     "name": "stderr",
     "output_type": "stream",
     "text": [
      "/rds/general/user/as9820/home/anaconda3/envs/test1/lib/python3.9/site-packages/sklearn/utils/validation.py:623: FutureWarning: is_sparse is deprecated and will be removed in a future version. Check `isinstance(dtype, pd.SparseDtype)` instead.\n",
      "  if not hasattr(array, \"sparse\") and array.dtypes.apply(is_sparse).any():\n"
     ]
    },
    {
     "name": "stdout",
     "output_type": "stream",
     "text": [
      "16 0.6476005258300777\n"
     ]
    },
    {
     "name": "stderr",
     "output_type": "stream",
     "text": [
      "/rds/general/user/as9820/home/anaconda3/envs/test1/lib/python3.9/site-packages/sklearn/metrics/_classification.py:1318: UndefinedMetricWarning: Precision and F-score are ill-defined and being set to 0.0 in labels with no predicted samples. Use `zero_division` parameter to control this behavior.\n",
      "  _warn_prf(average, modifier, msg_start, len(result))\n",
      "/rds/general/user/as9820/home/anaconda3/envs/test1/lib/python3.9/site-packages/sklearn/metrics/_classification.py:1318: UndefinedMetricWarning: Recall and F-score are ill-defined and being set to 0.0 in labels with no true samples. Use `zero_division` parameter to control this behavior.\n",
      "  _warn_prf(average, modifier, msg_start, len(result))\n",
      "/rds/general/user/as9820/home/anaconda3/envs/test1/lib/python3.9/site-packages/sklearn/metrics/_classification.py:1318: UndefinedMetricWarning: Precision and F-score are ill-defined and being set to 0.0 in labels with no predicted samples. Use `zero_division` parameter to control this behavior.\n",
      "  _warn_prf(average, modifier, msg_start, len(result))\n",
      "/rds/general/user/as9820/home/anaconda3/envs/test1/lib/python3.9/site-packages/sklearn/metrics/_classification.py:1318: UndefinedMetricWarning: Recall and F-score are ill-defined and being set to 0.0 in labels with no true samples. Use `zero_division` parameter to control this behavior.\n",
      "  _warn_prf(average, modifier, msg_start, len(result))\n",
      "/rds/general/user/as9820/home/anaconda3/envs/test1/lib/python3.9/site-packages/sklearn/metrics/_classification.py:1318: UndefinedMetricWarning: Precision and F-score are ill-defined and being set to 0.0 in labels with no predicted samples. Use `zero_division` parameter to control this behavior.\n",
      "  _warn_prf(average, modifier, msg_start, len(result))\n",
      "/rds/general/user/as9820/home/anaconda3/envs/test1/lib/python3.9/site-packages/sklearn/metrics/_classification.py:1318: UndefinedMetricWarning: Recall and F-score are ill-defined and being set to 0.0 in labels with no true samples. Use `zero_division` parameter to control this behavior.\n",
      "  _warn_prf(average, modifier, msg_start, len(result))\n"
     ]
    },
    {
     "name": "stdout",
     "output_type": "stream",
     "text": [
      "              precision    recall  f1-score   support\n",
      "\n",
      "           7       0.79      0.29      0.43     69486\n",
      "           8       0.00      0.00      0.00         0\n",
      "           9       0.59      0.47      0.53     77220\n",
      "          10       0.00      0.00      0.00         0\n",
      "          12       0.00      0.00      0.00         0\n",
      "          14       0.81      0.67      0.73     73652\n",
      "          15       0.06      0.31      0.10     20004\n",
      "          16       0.07      0.80      0.14     19803\n",
      "          17       0.91      0.34      0.49     24627\n",
      "          18       0.99      0.97      0.98    407296\n",
      "          19       1.00      0.95      0.97    219736\n",
      "          20       0.03      0.00      0.00    146306\n",
      "          22       0.00      0.00      0.00         0\n",
      "          23       0.51      0.23      0.32     51530\n",
      "          24       0.53      0.15      0.23     76302\n",
      "          25       0.55      0.96      0.70     24562\n",
      "          27       0.96      0.50      0.65     40018\n",
      "          28       0.98      0.73      0.83    356431\n",
      "          29       0.95      0.39      0.55     26479\n",
      "          33       0.86      0.54      0.67     66057\n",
      "          35       0.00      0.00      0.00         0\n",
      "          36       0.00      0.00      0.00         0\n",
      "          38       0.94      0.40      0.56     25348\n",
      "          39       0.59      0.37      0.46     10136\n",
      "          40       0.00      0.00      0.00       929\n",
      "\n",
      "    accuracy                           0.65   1735922\n",
      "   macro avg       0.48      0.36      0.37   1735922\n",
      "weighted avg       0.80      0.65      0.69   1735922\n",
      "\n"
     ]
    },
    {
     "name": "stderr",
     "output_type": "stream",
     "text": [
      "/rds/general/user/as9820/home/anaconda3/envs/test1/lib/python3.9/site-packages/sklearn/utils/validation.py:623: FutureWarning: is_sparse is deprecated and will be removed in a future version. Check `isinstance(dtype, pd.SparseDtype)` instead.\n",
      "  if not hasattr(array, \"sparse\") and array.dtypes.apply(is_sparse).any():\n"
     ]
    },
    {
     "name": "stdout",
     "output_type": "stream",
     "text": [
      "17 0.6363752677341229\n"
     ]
    },
    {
     "name": "stderr",
     "output_type": "stream",
     "text": [
      "/rds/general/user/as9820/home/anaconda3/envs/test1/lib/python3.9/site-packages/sklearn/metrics/_classification.py:1318: UndefinedMetricWarning: Precision and F-score are ill-defined and being set to 0.0 in labels with no predicted samples. Use `zero_division` parameter to control this behavior.\n",
      "  _warn_prf(average, modifier, msg_start, len(result))\n",
      "/rds/general/user/as9820/home/anaconda3/envs/test1/lib/python3.9/site-packages/sklearn/metrics/_classification.py:1318: UndefinedMetricWarning: Recall and F-score are ill-defined and being set to 0.0 in labels with no true samples. Use `zero_division` parameter to control this behavior.\n",
      "  _warn_prf(average, modifier, msg_start, len(result))\n",
      "/rds/general/user/as9820/home/anaconda3/envs/test1/lib/python3.9/site-packages/sklearn/metrics/_classification.py:1318: UndefinedMetricWarning: Precision and F-score are ill-defined and being set to 0.0 in labels with no predicted samples. Use `zero_division` parameter to control this behavior.\n",
      "  _warn_prf(average, modifier, msg_start, len(result))\n",
      "/rds/general/user/as9820/home/anaconda3/envs/test1/lib/python3.9/site-packages/sklearn/metrics/_classification.py:1318: UndefinedMetricWarning: Recall and F-score are ill-defined and being set to 0.0 in labels with no true samples. Use `zero_division` parameter to control this behavior.\n",
      "  _warn_prf(average, modifier, msg_start, len(result))\n"
     ]
    },
    {
     "name": "stdout",
     "output_type": "stream",
     "text": [
      "              precision    recall  f1-score   support\n",
      "\n",
      "           7       0.62      0.29      0.40     24604\n",
      "           8       0.00      0.00      0.00         0\n",
      "           9       0.31      0.16      0.21     64662\n",
      "          10       0.00      0.00      0.00         0\n",
      "          12       0.00      0.00      0.00         0\n",
      "          14       0.78      0.64      0.70     67195\n",
      "          15       0.07      0.29      0.12     18700\n",
      "          16       0.05      0.81      0.10     14281\n",
      "          17       0.78      0.34      0.48     23117\n",
      "          18       0.99      0.97      0.98    403245\n",
      "          19       1.00      0.94      0.97    220232\n",
      "          20       0.02      0.00      0.00    145608\n",
      "          22       0.00      0.00      0.00         0\n",
      "          23       0.52      0.23      0.32     51621\n",
      "          24       0.55      0.15      0.23     74235\n",
      "          25       0.56      0.95      0.71     25054\n",
      "          27       0.95      0.45      0.61     35077\n",
      "          28       0.98      0.69      0.81    370704\n",
      "          29       0.94      0.32      0.47     24030\n",
      "          33       0.86      0.61      0.71     57751\n",
      "          35       0.00      0.00      0.00         0\n",
      "          36       0.00      0.00      0.00         0\n",
      "          38       0.94      0.39      0.55     25404\n",
      "          39       0.58      0.35      0.44     10171\n",
      "          40       0.00      0.00      0.00      1270\n",
      "\n",
      "    accuracy                           0.64   1656961\n",
      "   macro avg       0.46      0.34      0.35   1656961\n",
      "weighted avg       0.79      0.64      0.69   1656961\n",
      "\n"
     ]
    },
    {
     "name": "stderr",
     "output_type": "stream",
     "text": [
      "/rds/general/user/as9820/home/anaconda3/envs/test1/lib/python3.9/site-packages/sklearn/metrics/_classification.py:1318: UndefinedMetricWarning: Precision and F-score are ill-defined and being set to 0.0 in labels with no predicted samples. Use `zero_division` parameter to control this behavior.\n",
      "  _warn_prf(average, modifier, msg_start, len(result))\n",
      "/rds/general/user/as9820/home/anaconda3/envs/test1/lib/python3.9/site-packages/sklearn/metrics/_classification.py:1318: UndefinedMetricWarning: Recall and F-score are ill-defined and being set to 0.0 in labels with no true samples. Use `zero_division` parameter to control this behavior.\n",
      "  _warn_prf(average, modifier, msg_start, len(result))\n"
     ]
    }
   ],
   "source": [
    "for date in testCons:\n",
    "    testCon = df['time'].dt.isocalendar().week == pd.Timestamp(date).week\n",
    "    #testCon = df['time'].dt.date == pd.Timestamp(date).date\n",
    "    testDF = df[testCon]\n",
    "\n",
    "    X = testDF[XCols]\n",
    "    y = testDF[label]\n",
    "    \n",
    "    if len(X) == 0: \n",
    "        continue\n",
    "    \n",
    "    #y_pred = clf.predict(X)\n",
    "    #y_rfc = rfc.predict(X)\n",
    "    #print(\"rfc predict\")\n",
    "    #y_svc = svc.predict(X)\n",
    "    #print(\"svc predict\")\n",
    "    y_dtc = dtc.predict(X)\n",
    "    #print(\"dtc predict\")\n",
    "    #y_knn = knn.predict(X)\n",
    "    #print(\"knn predict\")\n",
    "    #y_mv = mv.predict(X)\n",
    "    #print(\"mv predict\")\n",
    "    \n",
    "    print(f\"{date.week}\", metrics.f1_score(y, y_dtc, average='micro'))\n",
    "    print(classification_report(y,y_dtc))#, labels=devs))"
   ]
  },
  {
   "cell_type": "code",
   "execution_count": 8,
   "metadata": {},
   "outputs": [
    {
     "name": "stderr",
     "output_type": "stream",
     "text": [
      "/rds/general/user/as9820/home/anaconda3/envs/test1/lib/python3.9/site-packages/sklearn/utils/deprecation.py:103: FutureWarning: The attribute `n_features_` is deprecated in 1.0 and will be removed in 1.2. Use `n_features_in_` instead.\n",
      "  warnings.warn(msg, category=FutureWarning)\n"
     ]
    }
   ],
   "source": [
    "advClassifier = ScikitlearnDecisionTreeClassifier(model=dtc)\n",
    "dtAdv = DecisionTreeAttack(classifier=advClassifier)"
   ]
  },
  {
   "cell_type": "code",
   "execution_count": 22,
   "metadata": {},
   "outputs": [
    {
     "name": "stderr",
     "output_type": "stream",
     "text": [
      "Decision tree attack: 100%|██████████| 473091/473091 [03:27<00:00, 2281.14it/s]\n"
     ]
    },
    {
     "name": "stdout",
     "output_type": "stream",
     "text": [
      "DT test\n",
      "44 0.0\n"
     ]
    },
    {
     "name": "stderr",
     "output_type": "stream",
     "text": [
      "/rds/general/user/as9820/home/anaconda3/envs/test1/lib/python3.9/site-packages/sklearn/metrics/_classification.py:1318: UndefinedMetricWarning: Precision and F-score are ill-defined and being set to 0.0 in labels with no predicted samples. Use `zero_division` parameter to control this behavior.\n",
      "  _warn_prf(average, modifier, msg_start, len(result))\n",
      "/rds/general/user/as9820/home/anaconda3/envs/test1/lib/python3.9/site-packages/sklearn/metrics/_classification.py:1318: UndefinedMetricWarning: Recall and F-score are ill-defined and being set to 0.0 in labels with no true samples. Use `zero_division` parameter to control this behavior.\n",
      "  _warn_prf(average, modifier, msg_start, len(result))\n",
      "/rds/general/user/as9820/home/anaconda3/envs/test1/lib/python3.9/site-packages/sklearn/metrics/_classification.py:1318: UndefinedMetricWarning: Precision and F-score are ill-defined and being set to 0.0 in labels with no predicted samples. Use `zero_division` parameter to control this behavior.\n",
      "  _warn_prf(average, modifier, msg_start, len(result))\n",
      "/rds/general/user/as9820/home/anaconda3/envs/test1/lib/python3.9/site-packages/sklearn/metrics/_classification.py:1318: UndefinedMetricWarning: Recall and F-score are ill-defined and being set to 0.0 in labels with no true samples. Use `zero_division` parameter to control this behavior.\n",
      "  _warn_prf(average, modifier, msg_start, len(result))\n",
      "/rds/general/user/as9820/home/anaconda3/envs/test1/lib/python3.9/site-packages/sklearn/metrics/_classification.py:1318: UndefinedMetricWarning: Precision and F-score are ill-defined and being set to 0.0 in labels with no predicted samples. Use `zero_division` parameter to control this behavior.\n",
      "  _warn_prf(average, modifier, msg_start, len(result))\n",
      "/rds/general/user/as9820/home/anaconda3/envs/test1/lib/python3.9/site-packages/sklearn/metrics/_classification.py:1318: UndefinedMetricWarning: Recall and F-score are ill-defined and being set to 0.0 in labels with no true samples. Use `zero_division` parameter to control this behavior.\n",
      "  _warn_prf(average, modifier, msg_start, len(result))\n"
     ]
    },
    {
     "name": "stdout",
     "output_type": "stream",
     "text": [
      "              precision    recall  f1-score   support\n",
      "\n",
      "           0       0.00      0.00      0.00       0.0\n",
      "           3       0.00      0.00      0.00       0.0\n",
      "           7       0.00      0.00      0.00    6745.0\n",
      "           8       0.00      0.00      0.00   36559.0\n",
      "           9       0.00      0.00      0.00    9418.0\n",
      "          10       0.00      0.00      0.00   12953.0\n",
      "          12       0.00      0.00      0.00    7509.0\n",
      "          13       0.00      0.00      0.00       0.0\n",
      "          14       0.00      0.00      0.00   11626.0\n",
      "          15       0.00      0.00      0.00   23081.0\n",
      "          16       0.00      0.00      0.00   66903.0\n",
      "          17       0.00      0.00      0.00       0.0\n",
      "          18       0.00      0.00      0.00   66743.0\n",
      "          19       0.00      0.00      0.00   36295.0\n",
      "          20       0.00      0.00      0.00     944.0\n",
      "          22       0.00      0.00      0.00   81312.0\n",
      "          23       0.00      0.00      0.00    4289.0\n",
      "          24       0.00      0.00      0.00   11994.0\n",
      "          25       0.00      0.00      0.00   16473.0\n",
      "          27       0.00      0.00      0.00    5368.0\n",
      "          28       0.00      0.00      0.00   29367.0\n",
      "          29       0.00      0.00      0.00    4998.0\n",
      "          33       0.00      0.00      0.00   11117.0\n",
      "          35       0.00      0.00      0.00   21477.0\n",
      "          36       0.00      0.00      0.00    1920.0\n",
      "          38       0.00      0.00      0.00    4182.0\n",
      "          39       0.00      0.00      0.00    1818.0\n",
      "\n",
      "    accuracy                           0.00  473091.0\n",
      "   macro avg       0.00      0.00      0.00  473091.0\n",
      "weighted avg       0.00      0.00      0.00  473091.0\n",
      "\n"
     ]
    },
    {
     "name": "stderr",
     "output_type": "stream",
     "text": [
      "Decision tree attack: 100%|██████████| 2483988/2483988 [19:17<00:00, 2145.78it/s]\n"
     ]
    },
    {
     "name": "stdout",
     "output_type": "stream",
     "text": [
      "DT test\n",
      "45 1.2077353030690969e-06\n"
     ]
    },
    {
     "name": "stderr",
     "output_type": "stream",
     "text": [
      "/rds/general/user/as9820/home/anaconda3/envs/test1/lib/python3.9/site-packages/sklearn/metrics/_classification.py:1318: UndefinedMetricWarning: Precision and F-score are ill-defined and being set to 0.0 in labels with no predicted samples. Use `zero_division` parameter to control this behavior.\n",
      "  _warn_prf(average, modifier, msg_start, len(result))\n",
      "/rds/general/user/as9820/home/anaconda3/envs/test1/lib/python3.9/site-packages/sklearn/metrics/_classification.py:1318: UndefinedMetricWarning: Recall and F-score are ill-defined and being set to 0.0 in labels with no true samples. Use `zero_division` parameter to control this behavior.\n",
      "  _warn_prf(average, modifier, msg_start, len(result))\n",
      "/rds/general/user/as9820/home/anaconda3/envs/test1/lib/python3.9/site-packages/sklearn/metrics/_classification.py:1318: UndefinedMetricWarning: Precision and F-score are ill-defined and being set to 0.0 in labels with no predicted samples. Use `zero_division` parameter to control this behavior.\n",
      "  _warn_prf(average, modifier, msg_start, len(result))\n",
      "/rds/general/user/as9820/home/anaconda3/envs/test1/lib/python3.9/site-packages/sklearn/metrics/_classification.py:1318: UndefinedMetricWarning: Recall and F-score are ill-defined and being set to 0.0 in labels with no true samples. Use `zero_division` parameter to control this behavior.\n",
      "  _warn_prf(average, modifier, msg_start, len(result))\n",
      "/rds/general/user/as9820/home/anaconda3/envs/test1/lib/python3.9/site-packages/sklearn/metrics/_classification.py:1318: UndefinedMetricWarning: Precision and F-score are ill-defined and being set to 0.0 in labels with no predicted samples. Use `zero_division` parameter to control this behavior.\n",
      "  _warn_prf(average, modifier, msg_start, len(result))\n",
      "/rds/general/user/as9820/home/anaconda3/envs/test1/lib/python3.9/site-packages/sklearn/metrics/_classification.py:1318: UndefinedMetricWarning: Recall and F-score are ill-defined and being set to 0.0 in labels with no true samples. Use `zero_division` parameter to control this behavior.\n",
      "  _warn_prf(average, modifier, msg_start, len(result))\n"
     ]
    },
    {
     "name": "stdout",
     "output_type": "stream",
     "text": [
      "              precision    recall  f1-score   support\n",
      "\n",
      "           0       0.00      0.00      0.00         0\n",
      "           1       0.00      0.00      0.00         0\n",
      "           3       0.00      0.00      0.00         0\n",
      "           7       0.00      0.00      0.00    142115\n",
      "           8       0.00      0.00      0.00    144668\n",
      "           9       0.00      0.00      0.00     45241\n",
      "          10       0.00      0.00      0.00     52818\n",
      "          12       0.00      0.00      0.00    148710\n",
      "          13       0.00      0.00      0.00         0\n",
      "          14       0.00      0.00      0.00     43272\n",
      "          15       0.00      0.00      0.00    109634\n",
      "          16       0.00      0.00      0.00    248788\n",
      "          17       0.00      0.00      0.00     14544\n",
      "          18       0.00      0.00      0.00    257285\n",
      "          19       0.00      0.00      0.00    146426\n",
      "          20       0.00      0.00      0.00      4327\n",
      "          22       0.00      0.00      0.00    212008\n",
      "          23       0.00      0.00      0.00     23682\n",
      "          24       0.00      0.00      0.00     51543\n",
      "          25       0.00      0.00      0.00     87895\n",
      "          27       0.00      0.00      0.00    115848\n",
      "          28       0.00      0.00      0.00    270903\n",
      "          29       0.00      0.00      0.00     45552\n",
      "          33       0.00      0.00      0.00    100868\n",
      "          35       0.00      0.00      0.00     88540\n",
      "          36       0.00      0.00      0.00     18398\n",
      "          38       0.00      0.00      0.00     98716\n",
      "          39       0.00      0.00      0.00     12207\n",
      "\n",
      "    accuracy                           0.00   2483988\n",
      "   macro avg       0.00      0.00      0.00   2483988\n",
      "weighted avg       0.00      0.00      0.00   2483988\n",
      "\n"
     ]
    },
    {
     "name": "stderr",
     "output_type": "stream",
     "text": [
      "Decision tree attack: 100%|██████████| 2372820/2372820 [16:59<00:00, 2327.74it/s]\n"
     ]
    },
    {
     "name": "stdout",
     "output_type": "stream",
     "text": [
      "DT test\n",
      "46 1.2643184059473537e-06\n"
     ]
    },
    {
     "name": "stderr",
     "output_type": "stream",
     "text": [
      "/rds/general/user/as9820/home/anaconda3/envs/test1/lib/python3.9/site-packages/sklearn/metrics/_classification.py:1318: UndefinedMetricWarning: Precision and F-score are ill-defined and being set to 0.0 in labels with no predicted samples. Use `zero_division` parameter to control this behavior.\n",
      "  _warn_prf(average, modifier, msg_start, len(result))\n",
      "/rds/general/user/as9820/home/anaconda3/envs/test1/lib/python3.9/site-packages/sklearn/metrics/_classification.py:1318: UndefinedMetricWarning: Recall and F-score are ill-defined and being set to 0.0 in labels with no true samples. Use `zero_division` parameter to control this behavior.\n",
      "  _warn_prf(average, modifier, msg_start, len(result))\n",
      "/rds/general/user/as9820/home/anaconda3/envs/test1/lib/python3.9/site-packages/sklearn/metrics/_classification.py:1318: UndefinedMetricWarning: Precision and F-score are ill-defined and being set to 0.0 in labels with no predicted samples. Use `zero_division` parameter to control this behavior.\n",
      "  _warn_prf(average, modifier, msg_start, len(result))\n",
      "/rds/general/user/as9820/home/anaconda3/envs/test1/lib/python3.9/site-packages/sklearn/metrics/_classification.py:1318: UndefinedMetricWarning: Recall and F-score are ill-defined and being set to 0.0 in labels with no true samples. Use `zero_division` parameter to control this behavior.\n",
      "  _warn_prf(average, modifier, msg_start, len(result))\n",
      "/rds/general/user/as9820/home/anaconda3/envs/test1/lib/python3.9/site-packages/sklearn/metrics/_classification.py:1318: UndefinedMetricWarning: Precision and F-score are ill-defined and being set to 0.0 in labels with no predicted samples. Use `zero_division` parameter to control this behavior.\n",
      "  _warn_prf(average, modifier, msg_start, len(result))\n",
      "/rds/general/user/as9820/home/anaconda3/envs/test1/lib/python3.9/site-packages/sklearn/metrics/_classification.py:1318: UndefinedMetricWarning: Recall and F-score are ill-defined and being set to 0.0 in labels with no true samples. Use `zero_division` parameter to control this behavior.\n",
      "  _warn_prf(average, modifier, msg_start, len(result))\n"
     ]
    },
    {
     "name": "stdout",
     "output_type": "stream",
     "text": [
      "              precision    recall  f1-score   support\n",
      "\n",
      "           0       0.00      0.00      0.00         0\n",
      "           3       0.00      0.00      0.00         0\n",
      "           7       0.00      0.00      0.00     23908\n",
      "           8       0.00      0.00      0.00    133305\n",
      "           9       0.00      0.00      0.00     43781\n",
      "          10       0.00      0.00      0.00     43927\n",
      "          12       0.00      0.00      0.00     30254\n",
      "          13       0.00      0.00      0.00         0\n",
      "          14       0.00      0.00      0.00     43880\n",
      "          15       0.00      0.00      0.00     66008\n",
      "          16       0.00      0.00      0.00    447899\n",
      "          17       0.00      0.00      0.00     15588\n",
      "          18       0.00      0.00      0.00    234606\n",
      "          19       0.00      0.00      0.00    133445\n",
      "          20       0.00      0.00      0.00      3692\n",
      "          22       0.00      0.00      0.00    345014\n",
      "          23       0.00      0.00      0.00      9006\n",
      "          24       0.00      0.00      0.00     40932\n",
      "          25       0.00      0.00      0.00     34610\n",
      "          27       0.00      0.00      0.00     25696\n",
      "          28       0.00      0.00      0.00    486713\n",
      "          29       0.00      0.00      0.00     22106\n",
      "          33       0.00      0.00      0.00     39414\n",
      "          35       0.00      0.00      0.00     78588\n",
      "          36       0.00      0.00      0.00     49162\n",
      "          38       0.00      0.00      0.00     14720\n",
      "          39       0.00      0.00      0.00      6566\n",
      "\n",
      "    accuracy                           0.00   2372820\n",
      "   macro avg       0.00      0.00      0.00   2372820\n",
      "weighted avg       0.00      0.00      0.00   2372820\n",
      "\n"
     ]
    },
    {
     "name": "stderr",
     "output_type": "stream",
     "text": [
      "Decision tree attack: 100%|██████████| 2267160/2267160 [16:13<00:00, 2329.10it/s]\n"
     ]
    },
    {
     "name": "stdout",
     "output_type": "stream",
     "text": [
      "DT test\n",
      "47 1.7643218828843134e-06\n"
     ]
    },
    {
     "name": "stderr",
     "output_type": "stream",
     "text": [
      "/rds/general/user/as9820/home/anaconda3/envs/test1/lib/python3.9/site-packages/sklearn/metrics/_classification.py:1318: UndefinedMetricWarning: Precision and F-score are ill-defined and being set to 0.0 in labels with no predicted samples. Use `zero_division` parameter to control this behavior.\n",
      "  _warn_prf(average, modifier, msg_start, len(result))\n",
      "/rds/general/user/as9820/home/anaconda3/envs/test1/lib/python3.9/site-packages/sklearn/metrics/_classification.py:1318: UndefinedMetricWarning: Recall and F-score are ill-defined and being set to 0.0 in labels with no true samples. Use `zero_division` parameter to control this behavior.\n",
      "  _warn_prf(average, modifier, msg_start, len(result))\n",
      "/rds/general/user/as9820/home/anaconda3/envs/test1/lib/python3.9/site-packages/sklearn/metrics/_classification.py:1318: UndefinedMetricWarning: Precision and F-score are ill-defined and being set to 0.0 in labels with no predicted samples. Use `zero_division` parameter to control this behavior.\n",
      "  _warn_prf(average, modifier, msg_start, len(result))\n",
      "/rds/general/user/as9820/home/anaconda3/envs/test1/lib/python3.9/site-packages/sklearn/metrics/_classification.py:1318: UndefinedMetricWarning: Recall and F-score are ill-defined and being set to 0.0 in labels with no true samples. Use `zero_division` parameter to control this behavior.\n",
      "  _warn_prf(average, modifier, msg_start, len(result))\n",
      "/rds/general/user/as9820/home/anaconda3/envs/test1/lib/python3.9/site-packages/sklearn/metrics/_classification.py:1318: UndefinedMetricWarning: Precision and F-score are ill-defined and being set to 0.0 in labels with no predicted samples. Use `zero_division` parameter to control this behavior.\n",
      "  _warn_prf(average, modifier, msg_start, len(result))\n",
      "/rds/general/user/as9820/home/anaconda3/envs/test1/lib/python3.9/site-packages/sklearn/metrics/_classification.py:1318: UndefinedMetricWarning: Recall and F-score are ill-defined and being set to 0.0 in labels with no true samples. Use `zero_division` parameter to control this behavior.\n",
      "  _warn_prf(average, modifier, msg_start, len(result))\n"
     ]
    },
    {
     "name": "stdout",
     "output_type": "stream",
     "text": [
      "              precision    recall  f1-score   support\n",
      "\n",
      "           0       0.00      0.00      0.00         0\n",
      "           3       0.00      0.00      0.00         0\n",
      "           7       0.00      0.00      0.00     23434\n",
      "           8       0.00      0.00      0.00    125743\n",
      "           9       0.00      0.00      0.00     44372\n",
      "          10       0.00      0.00      0.00     47172\n",
      "          12       0.00      0.00      0.00     26405\n",
      "          13       0.00      0.00      0.00         0\n",
      "          14       0.00      0.00      0.00     41118\n",
      "          15       0.00      0.00      0.00     65078\n",
      "          16       0.00      0.00      0.00    412871\n",
      "          17       0.00      0.00      0.00     16085\n",
      "          18       0.00      0.00      0.00    222083\n",
      "          19       0.00      0.00      0.00    124628\n",
      "          20       0.00      0.00      0.00      3868\n",
      "          22       0.00      0.00      0.00    336185\n",
      "          23       0.00      0.00      0.00     51609\n",
      "          24       0.00      0.00      0.00     43408\n",
      "          25       0.00      0.00      0.00     16264\n",
      "          27       0.00      0.00      0.00     23901\n",
      "          28       0.00      0.00      0.00    466498\n",
      "          29       0.00      0.00      0.00     19215\n",
      "          33       0.00      0.00      0.00     50898\n",
      "          35       0.00      0.00      0.00     76577\n",
      "          36       0.00      0.00      0.00      6614\n",
      "          38       0.00      0.00      0.00     16939\n",
      "          39       0.00      0.00      0.00      6195\n",
      "\n",
      "    accuracy                           0.00   2267160\n",
      "   macro avg       0.00      0.00      0.00   2267160\n",
      "weighted avg       0.00      0.00      0.00   2267160\n",
      "\n"
     ]
    },
    {
     "name": "stderr",
     "output_type": "stream",
     "text": [
      "Decision tree attack: 100%|██████████| 3502328/3502328 [24:48<00:00, 2352.98it/s]\n"
     ]
    },
    {
     "name": "stdout",
     "output_type": "stream",
     "text": [
      "DT test\n",
      "48 2.855243712182297e-07\n"
     ]
    },
    {
     "name": "stderr",
     "output_type": "stream",
     "text": [
      "/rds/general/user/as9820/home/anaconda3/envs/test1/lib/python3.9/site-packages/sklearn/metrics/_classification.py:1318: UndefinedMetricWarning: Precision and F-score are ill-defined and being set to 0.0 in labels with no predicted samples. Use `zero_division` parameter to control this behavior.\n",
      "  _warn_prf(average, modifier, msg_start, len(result))\n",
      "/rds/general/user/as9820/home/anaconda3/envs/test1/lib/python3.9/site-packages/sklearn/metrics/_classification.py:1318: UndefinedMetricWarning: Recall and F-score are ill-defined and being set to 0.0 in labels with no true samples. Use `zero_division` parameter to control this behavior.\n",
      "  _warn_prf(average, modifier, msg_start, len(result))\n",
      "/rds/general/user/as9820/home/anaconda3/envs/test1/lib/python3.9/site-packages/sklearn/metrics/_classification.py:1318: UndefinedMetricWarning: Precision and F-score are ill-defined and being set to 0.0 in labels with no predicted samples. Use `zero_division` parameter to control this behavior.\n",
      "  _warn_prf(average, modifier, msg_start, len(result))\n",
      "/rds/general/user/as9820/home/anaconda3/envs/test1/lib/python3.9/site-packages/sklearn/metrics/_classification.py:1318: UndefinedMetricWarning: Recall and F-score are ill-defined and being set to 0.0 in labels with no true samples. Use `zero_division` parameter to control this behavior.\n",
      "  _warn_prf(average, modifier, msg_start, len(result))\n",
      "/rds/general/user/as9820/home/anaconda3/envs/test1/lib/python3.9/site-packages/sklearn/metrics/_classification.py:1318: UndefinedMetricWarning: Precision and F-score are ill-defined and being set to 0.0 in labels with no predicted samples. Use `zero_division` parameter to control this behavior.\n",
      "  _warn_prf(average, modifier, msg_start, len(result))\n",
      "/rds/general/user/as9820/home/anaconda3/envs/test1/lib/python3.9/site-packages/sklearn/metrics/_classification.py:1318: UndefinedMetricWarning: Recall and F-score are ill-defined and being set to 0.0 in labels with no true samples. Use `zero_division` parameter to control this behavior.\n",
      "  _warn_prf(average, modifier, msg_start, len(result))\n"
     ]
    },
    {
     "name": "stdout",
     "output_type": "stream",
     "text": [
      "              precision    recall  f1-score   support\n",
      "\n",
      "           0       0.00      0.00      0.00         0\n",
      "           3       0.00      0.00      0.00         0\n",
      "           7       0.00      0.00      0.00     37178\n",
      "           8       0.00      0.00      0.00    199285\n",
      "           9       0.00      0.00      0.00     63841\n",
      "          10       0.00      0.00      0.00     55480\n",
      "          12       0.00      0.00      0.00     47948\n",
      "          13       0.00      0.00      0.00         0\n",
      "          14       0.00      0.00      0.00     57633\n",
      "          15       0.00      0.00      0.00    104629\n",
      "          16       0.00      0.00      0.00    633618\n",
      "          17       0.00      0.00      0.00     21328\n",
      "          18       0.00      0.00      0.00    366565\n",
      "          19       0.00      0.00      0.00    199374\n",
      "          20       0.00      0.00      0.00      5790\n",
      "          22       0.00      0.00      0.00    459505\n",
      "          23       0.00      0.00      0.00     22620\n",
      "          24       0.00      0.00      0.00     84680\n",
      "          25       0.00      0.00      0.00     26269\n",
      "          27       0.00      0.00      0.00     39495\n",
      "          28       0.00      0.00      0.00    810338\n",
      "          29       0.00      0.00      0.00     26557\n",
      "          33       0.00      0.00      0.00     69949\n",
      "          35       0.00      0.00      0.00    127536\n",
      "          36       0.00      0.00      0.00     10630\n",
      "          38       0.00      0.00      0.00     22966\n",
      "          39       0.00      0.00      0.00      9114\n",
      "\n",
      "    accuracy                           0.00   3502328\n",
      "   macro avg       0.00      0.00      0.00   3502328\n",
      "weighted avg       0.00      0.00      0.00   3502328\n",
      "\n"
     ]
    },
    {
     "name": "stderr",
     "output_type": "stream",
     "text": [
      "Decision tree attack: 100%|██████████| 3965858/3965858 [28:06<00:00, 2352.16it/s]\n"
     ]
    },
    {
     "name": "stdout",
     "output_type": "stream",
     "text": [
      "DT test\n",
      "49 0.0\n"
     ]
    },
    {
     "name": "stderr",
     "output_type": "stream",
     "text": [
      "/rds/general/user/as9820/home/anaconda3/envs/test1/lib/python3.9/site-packages/sklearn/metrics/_classification.py:1318: UndefinedMetricWarning: Precision and F-score are ill-defined and being set to 0.0 in labels with no predicted samples. Use `zero_division` parameter to control this behavior.\n",
      "  _warn_prf(average, modifier, msg_start, len(result))\n",
      "/rds/general/user/as9820/home/anaconda3/envs/test1/lib/python3.9/site-packages/sklearn/metrics/_classification.py:1318: UndefinedMetricWarning: Recall and F-score are ill-defined and being set to 0.0 in labels with no true samples. Use `zero_division` parameter to control this behavior.\n",
      "  _warn_prf(average, modifier, msg_start, len(result))\n",
      "/rds/general/user/as9820/home/anaconda3/envs/test1/lib/python3.9/site-packages/sklearn/metrics/_classification.py:1318: UndefinedMetricWarning: Precision and F-score are ill-defined and being set to 0.0 in labels with no predicted samples. Use `zero_division` parameter to control this behavior.\n",
      "  _warn_prf(average, modifier, msg_start, len(result))\n",
      "/rds/general/user/as9820/home/anaconda3/envs/test1/lib/python3.9/site-packages/sklearn/metrics/_classification.py:1318: UndefinedMetricWarning: Recall and F-score are ill-defined and being set to 0.0 in labels with no true samples. Use `zero_division` parameter to control this behavior.\n",
      "  _warn_prf(average, modifier, msg_start, len(result))\n",
      "/rds/general/user/as9820/home/anaconda3/envs/test1/lib/python3.9/site-packages/sklearn/metrics/_classification.py:1318: UndefinedMetricWarning: Precision and F-score are ill-defined and being set to 0.0 in labels with no predicted samples. Use `zero_division` parameter to control this behavior.\n",
      "  _warn_prf(average, modifier, msg_start, len(result))\n",
      "/rds/general/user/as9820/home/anaconda3/envs/test1/lib/python3.9/site-packages/sklearn/metrics/_classification.py:1318: UndefinedMetricWarning: Recall and F-score are ill-defined and being set to 0.0 in labels with no true samples. Use `zero_division` parameter to control this behavior.\n",
      "  _warn_prf(average, modifier, msg_start, len(result))\n"
     ]
    },
    {
     "name": "stdout",
     "output_type": "stream",
     "text": [
      "              precision    recall  f1-score   support\n",
      "\n",
      "           0       0.00      0.00      0.00       0.0\n",
      "           3       0.00      0.00      0.00       0.0\n",
      "           7       0.00      0.00      0.00   41723.0\n",
      "           8       0.00      0.00      0.00  220605.0\n",
      "           9       0.00      0.00      0.00   75860.0\n",
      "          10       0.00      0.00      0.00   69738.0\n",
      "          12       0.00      0.00      0.00   54084.0\n",
      "          13       0.00      0.00      0.00       0.0\n",
      "          14       0.00      0.00      0.00   64200.0\n",
      "          15       0.00      0.00      0.00  115643.0\n",
      "          16       0.00      0.00      0.00  717815.0\n",
      "          17       0.00      0.00      0.00   24382.0\n",
      "          18       0.00      0.00      0.00  404703.0\n",
      "          19       0.00      0.00      0.00  220202.0\n",
      "          20       0.00      0.00      0.00    6236.0\n",
      "          22       0.00      0.00      0.00  597306.0\n",
      "          23       0.00      0.00      0.00   24102.0\n",
      "          24       0.00      0.00      0.00   88537.0\n",
      "          25       0.00      0.00      0.00   29017.0\n",
      "          27       0.00      0.00      0.00   44573.0\n",
      "          28       0.00      0.00      0.00  882497.0\n",
      "          29       0.00      0.00      0.00   28664.0\n",
      "          33       0.00      0.00      0.00   72428.0\n",
      "          35       0.00      0.00      0.00  135914.0\n",
      "          36       0.00      0.00      0.00   11733.0\n",
      "          38       0.00      0.00      0.00   25296.0\n",
      "          39       0.00      0.00      0.00   10600.0\n",
      "\n",
      "    accuracy                           0.00 3965858.0\n",
      "   macro avg       0.00      0.00      0.00 3965858.0\n",
      "weighted avg       0.00      0.00      0.00 3965858.0\n",
      "\n"
     ]
    },
    {
     "name": "stderr",
     "output_type": "stream",
     "text": [
      "Decision tree attack:  14%|█▍        | 550596/3891198 [03:54<23:42, 2347.74it/s]\n"
     ]
    },
    {
     "ename": "KeyboardInterrupt",
     "evalue": "",
     "output_type": "error",
     "traceback": [
      "\u001b[0;31m---------------------------------------------------------------------------\u001b[0m",
      "\u001b[0;31mKeyboardInterrupt\u001b[0m                         Traceback (most recent call last)",
      "Cell \u001b[0;32mIn[22], line 11\u001b[0m\n\u001b[1;32m      9\u001b[0m  \u001b[38;5;28;01mif\u001b[39;00m \u001b[38;5;28mlen\u001b[39m(X) \u001b[38;5;241m==\u001b[39m \u001b[38;5;241m0\u001b[39m: \n\u001b[1;32m     10\u001b[0m      \u001b[38;5;28;01mcontinue\u001b[39;00m\n\u001b[0;32m---> 11\u001b[0m  x_test_adv \u001b[38;5;241m=\u001b[39m \u001b[43mdtAdv\u001b[49m\u001b[38;5;241;43m.\u001b[39;49m\u001b[43mgenerate\u001b[49m\u001b[43m(\u001b[49m\u001b[43mx\u001b[49m\u001b[38;5;241;43m=\u001b[39;49m\u001b[43mX\u001b[49m\u001b[38;5;241;43m.\u001b[39;49m\u001b[43mvalues\u001b[49m\u001b[43m)\u001b[49m\n\u001b[1;32m     13\u001b[0m  np\u001b[38;5;241m.\u001b[39msavetxt(\u001b[38;5;124mf\u001b[39m\u001b[38;5;124m\"\u001b[39m\u001b[38;5;124mdtAdv-\u001b[39m\u001b[38;5;132;01m{\u001b[39;00mdate\u001b[38;5;241m.\u001b[39mweek\u001b[38;5;132;01m}\u001b[39;00m\u001b[38;5;124m.csv\u001b[39m\u001b[38;5;124m\"\u001b[39m, x_test_adv, delimiter\u001b[38;5;241m=\u001b[39m\u001b[38;5;124m\"\u001b[39m\u001b[38;5;124m,\u001b[39m\u001b[38;5;124m\"\u001b[39m)\n\u001b[1;32m     15\u001b[0m \u001b[38;5;66;03m# Step 7: Evaluate the ART classifier on adversarial test examples\u001b[39;00m\n",
      "File \u001b[0;32m~/anaconda3/envs/test1/lib/python3.9/site-packages/art/attacks/evasion/decision_tree_attack.py:122\u001b[0m, in \u001b[0;36mDecisionTreeAttack.generate\u001b[0;34m(self, x, y, **kwargs)\u001b[0m\n\u001b[1;32m    119\u001b[0m x_adv \u001b[38;5;241m=\u001b[39m x\u001b[38;5;241m.\u001b[39mcopy()\n\u001b[1;32m    121\u001b[0m \u001b[38;5;28;01mfor\u001b[39;00m index \u001b[38;5;129;01min\u001b[39;00m trange(x_adv\u001b[38;5;241m.\u001b[39mshape[\u001b[38;5;241m0\u001b[39m], desc\u001b[38;5;241m=\u001b[39m\u001b[38;5;124m\"\u001b[39m\u001b[38;5;124mDecision tree attack\u001b[39m\u001b[38;5;124m\"\u001b[39m, disable\u001b[38;5;241m=\u001b[39m\u001b[38;5;129;01mnot\u001b[39;00m \u001b[38;5;28mself\u001b[39m\u001b[38;5;241m.\u001b[39mverbose):\n\u001b[0;32m--> 122\u001b[0m     path \u001b[38;5;241m=\u001b[39m \u001b[38;5;28;43mself\u001b[39;49m\u001b[38;5;241;43m.\u001b[39;49m\u001b[43mestimator\u001b[49m\u001b[38;5;241;43m.\u001b[39;49m\u001b[43mget_decision_path\u001b[49m\u001b[43m(\u001b[49m\u001b[43mx_adv\u001b[49m\u001b[43m[\u001b[49m\u001b[43mindex\u001b[49m\u001b[43m]\u001b[49m\u001b[43m)\u001b[49m\n\u001b[1;32m    123\u001b[0m     legitimate_class \u001b[38;5;241m=\u001b[39m \u001b[38;5;28mint\u001b[39m(np\u001b[38;5;241m.\u001b[39margmax(\u001b[38;5;28mself\u001b[39m\u001b[38;5;241m.\u001b[39mestimator\u001b[38;5;241m.\u001b[39mpredict(x_adv[index]\u001b[38;5;241m.\u001b[39mreshape(\u001b[38;5;241m1\u001b[39m, \u001b[38;5;241m-\u001b[39m\u001b[38;5;241m1\u001b[39m))))\n\u001b[1;32m    124\u001b[0m     position \u001b[38;5;241m=\u001b[39m \u001b[38;5;241m-\u001b[39m\u001b[38;5;241m2\u001b[39m\n",
      "File \u001b[0;32m~/anaconda3/envs/test1/lib/python3.9/site-packages/art/estimators/classification/scikitlearn.py:358\u001b[0m, in \u001b[0;36mScikitlearnDecisionTreeClassifier.get_decision_path\u001b[0;34m(self, x)\u001b[0m\n\u001b[1;32m    352\u001b[0m \u001b[38;5;250m\u001b[39m\u001b[38;5;124;03m\"\"\"\u001b[39;00m\n\u001b[1;32m    353\u001b[0m \u001b[38;5;124;03mReturns the path through nodes in the tree when classifying x. Last one is leaf, first one root node.\u001b[39;00m\n\u001b[1;32m    354\u001b[0m \n\u001b[1;32m    355\u001b[0m \u001b[38;5;124;03m:return: The indices of the nodes in the array structure of the tree.\u001b[39;00m\n\u001b[1;32m    356\u001b[0m \u001b[38;5;124;03m\"\"\"\u001b[39;00m\n\u001b[1;32m    357\u001b[0m \u001b[38;5;28;01mif\u001b[39;00m \u001b[38;5;28mlen\u001b[39m(np\u001b[38;5;241m.\u001b[39mshape(x)) \u001b[38;5;241m==\u001b[39m \u001b[38;5;241m1\u001b[39m:\n\u001b[0;32m--> 358\u001b[0m     \u001b[38;5;28;01mreturn\u001b[39;00m \u001b[38;5;28;43mself\u001b[39;49m\u001b[38;5;241;43m.\u001b[39;49m\u001b[43mmodel\u001b[49m\u001b[38;5;241;43m.\u001b[39;49m\u001b[43mdecision_path\u001b[49m\u001b[43m(\u001b[49m\u001b[43mx\u001b[49m\u001b[38;5;241;43m.\u001b[39;49m\u001b[43mreshape\u001b[49m\u001b[43m(\u001b[49m\u001b[38;5;241;43m1\u001b[39;49m\u001b[43m,\u001b[49m\u001b[43m \u001b[49m\u001b[38;5;241;43m-\u001b[39;49m\u001b[38;5;241;43m1\u001b[39;49m\u001b[43m)\u001b[49m\u001b[43m)\u001b[49m\u001b[38;5;241m.\u001b[39mindices\n\u001b[1;32m    360\u001b[0m \u001b[38;5;28;01mreturn\u001b[39;00m \u001b[38;5;28mself\u001b[39m\u001b[38;5;241m.\u001b[39mmodel\u001b[38;5;241m.\u001b[39mdecision_path(x)\u001b[38;5;241m.\u001b[39mindices\n",
      "File \u001b[0;32m~/anaconda3/envs/test1/lib/python3.9/site-packages/sklearn/tree/_classes.py:544\u001b[0m, in \u001b[0;36mBaseDecisionTree.decision_path\u001b[0;34m(self, X, check_input)\u001b[0m\n\u001b[1;32m    522\u001b[0m \u001b[38;5;28;01mdef\u001b[39;00m \u001b[38;5;21mdecision_path\u001b[39m(\u001b[38;5;28mself\u001b[39m, X, check_input\u001b[38;5;241m=\u001b[39m\u001b[38;5;28;01mTrue\u001b[39;00m):\n\u001b[1;32m    523\u001b[0m \u001b[38;5;250m    \u001b[39m\u001b[38;5;124;03m\"\"\"Return the decision path in the tree.\u001b[39;00m\n\u001b[1;32m    524\u001b[0m \n\u001b[1;32m    525\u001b[0m \u001b[38;5;124;03m    .. versionadded:: 0.18\u001b[39;00m\n\u001b[0;32m   (...)\u001b[0m\n\u001b[1;32m    542\u001b[0m \u001b[38;5;124;03m        indicates that the samples goes through the nodes.\u001b[39;00m\n\u001b[1;32m    543\u001b[0m \u001b[38;5;124;03m    \"\"\"\u001b[39;00m\n\u001b[0;32m--> 544\u001b[0m     X \u001b[38;5;241m=\u001b[39m \u001b[38;5;28;43mself\u001b[39;49m\u001b[38;5;241;43m.\u001b[39;49m\u001b[43m_validate_X_predict\u001b[49m\u001b[43m(\u001b[49m\u001b[43mX\u001b[49m\u001b[43m,\u001b[49m\u001b[43m \u001b[49m\u001b[43mcheck_input\u001b[49m\u001b[43m)\u001b[49m\n\u001b[1;32m    545\u001b[0m     \u001b[38;5;28;01mreturn\u001b[39;00m \u001b[38;5;28mself\u001b[39m\u001b[38;5;241m.\u001b[39mtree_\u001b[38;5;241m.\u001b[39mdecision_path(X)\n",
      "File \u001b[0;32m~/anaconda3/envs/test1/lib/python3.9/site-packages/sklearn/tree/_classes.py:433\u001b[0m, in \u001b[0;36mBaseDecisionTree._validate_X_predict\u001b[0;34m(self, X, check_input)\u001b[0m\n\u001b[1;32m    431\u001b[0m \u001b[38;5;250m\u001b[39m\u001b[38;5;124;03m\"\"\"Validate the training data on predict (probabilities).\"\"\"\u001b[39;00m\n\u001b[1;32m    432\u001b[0m \u001b[38;5;28;01mif\u001b[39;00m check_input:\n\u001b[0;32m--> 433\u001b[0m     X \u001b[38;5;241m=\u001b[39m \u001b[38;5;28;43mself\u001b[39;49m\u001b[38;5;241;43m.\u001b[39;49m\u001b[43m_validate_data\u001b[49m\u001b[43m(\u001b[49m\u001b[43mX\u001b[49m\u001b[43m,\u001b[49m\u001b[43m \u001b[49m\u001b[43mdtype\u001b[49m\u001b[38;5;241;43m=\u001b[39;49m\u001b[43mDTYPE\u001b[49m\u001b[43m,\u001b[49m\u001b[43m \u001b[49m\u001b[43maccept_sparse\u001b[49m\u001b[38;5;241;43m=\u001b[39;49m\u001b[38;5;124;43m\"\u001b[39;49m\u001b[38;5;124;43mcsr\u001b[39;49m\u001b[38;5;124;43m\"\u001b[39;49m\u001b[43m,\u001b[49m\u001b[43m \u001b[49m\u001b[43mreset\u001b[49m\u001b[38;5;241;43m=\u001b[39;49m\u001b[38;5;28;43;01mFalse\u001b[39;49;00m\u001b[43m)\u001b[49m\n\u001b[1;32m    434\u001b[0m     \u001b[38;5;28;01mif\u001b[39;00m issparse(X) \u001b[38;5;129;01mand\u001b[39;00m (\n\u001b[1;32m    435\u001b[0m         X\u001b[38;5;241m.\u001b[39mindices\u001b[38;5;241m.\u001b[39mdtype \u001b[38;5;241m!=\u001b[39m np\u001b[38;5;241m.\u001b[39mintc \u001b[38;5;129;01mor\u001b[39;00m X\u001b[38;5;241m.\u001b[39mindptr\u001b[38;5;241m.\u001b[39mdtype \u001b[38;5;241m!=\u001b[39m np\u001b[38;5;241m.\u001b[39mintc\n\u001b[1;32m    436\u001b[0m     ):\n\u001b[1;32m    437\u001b[0m         \u001b[38;5;28;01mraise\u001b[39;00m \u001b[38;5;167;01mValueError\u001b[39;00m(\u001b[38;5;124m\"\u001b[39m\u001b[38;5;124mNo support for np.int64 index based sparse matrices\u001b[39m\u001b[38;5;124m\"\u001b[39m)\n",
      "File \u001b[0;32m~/anaconda3/envs/test1/lib/python3.9/site-packages/sklearn/base.py:566\u001b[0m, in \u001b[0;36mBaseEstimator._validate_data\u001b[0;34m(self, X, y, reset, validate_separately, **check_params)\u001b[0m\n\u001b[1;32m    564\u001b[0m     \u001b[38;5;28;01mraise\u001b[39;00m \u001b[38;5;167;01mValueError\u001b[39;00m(\u001b[38;5;124m\"\u001b[39m\u001b[38;5;124mValidation should be done on X, y or both.\u001b[39m\u001b[38;5;124m\"\u001b[39m)\n\u001b[1;32m    565\u001b[0m \u001b[38;5;28;01melif\u001b[39;00m \u001b[38;5;129;01mnot\u001b[39;00m no_val_X \u001b[38;5;129;01mand\u001b[39;00m no_val_y:\n\u001b[0;32m--> 566\u001b[0m     X \u001b[38;5;241m=\u001b[39m \u001b[43mcheck_array\u001b[49m\u001b[43m(\u001b[49m\u001b[43mX\u001b[49m\u001b[43m,\u001b[49m\u001b[43m \u001b[49m\u001b[38;5;241;43m*\u001b[39;49m\u001b[38;5;241;43m*\u001b[39;49m\u001b[43mcheck_params\u001b[49m\u001b[43m)\u001b[49m\n\u001b[1;32m    567\u001b[0m     out \u001b[38;5;241m=\u001b[39m X\n\u001b[1;32m    568\u001b[0m \u001b[38;5;28;01melif\u001b[39;00m no_val_X \u001b[38;5;129;01mand\u001b[39;00m \u001b[38;5;129;01mnot\u001b[39;00m no_val_y:\n",
      "File \u001b[0;32m~/anaconda3/envs/test1/lib/python3.9/site-packages/sklearn/utils/validation.py:736\u001b[0m, in \u001b[0;36mcheck_array\u001b[0;34m(array, accept_sparse, accept_large_sparse, dtype, order, copy, force_all_finite, ensure_2d, allow_nd, ensure_min_samples, ensure_min_features, estimator)\u001b[0m\n\u001b[1;32m    734\u001b[0m \u001b[38;5;28;01mwith\u001b[39;00m warnings\u001b[38;5;241m.\u001b[39mcatch_warnings():\n\u001b[1;32m    735\u001b[0m     \u001b[38;5;28;01mtry\u001b[39;00m:\n\u001b[0;32m--> 736\u001b[0m         \u001b[43mwarnings\u001b[49m\u001b[38;5;241;43m.\u001b[39;49m\u001b[43msimplefilter\u001b[49m\u001b[43m(\u001b[49m\u001b[38;5;124;43m\"\u001b[39;49m\u001b[38;5;124;43merror\u001b[39;49m\u001b[38;5;124;43m\"\u001b[39;49m\u001b[43m,\u001b[49m\u001b[43m \u001b[49m\u001b[43mComplexWarning\u001b[49m\u001b[43m)\u001b[49m\n\u001b[1;32m    737\u001b[0m         \u001b[38;5;28;01mif\u001b[39;00m dtype \u001b[38;5;129;01mis\u001b[39;00m \u001b[38;5;129;01mnot\u001b[39;00m \u001b[38;5;28;01mNone\u001b[39;00m \u001b[38;5;129;01mand\u001b[39;00m np\u001b[38;5;241m.\u001b[39mdtype(dtype)\u001b[38;5;241m.\u001b[39mkind \u001b[38;5;129;01min\u001b[39;00m \u001b[38;5;124m\"\u001b[39m\u001b[38;5;124miu\u001b[39m\u001b[38;5;124m\"\u001b[39m:\n\u001b[1;32m    738\u001b[0m             \u001b[38;5;66;03m# Conversion float -> int should not contain NaN or\u001b[39;00m\n\u001b[1;32m    739\u001b[0m             \u001b[38;5;66;03m# inf (numpy#14412). We cannot use casting='safe' because\u001b[39;00m\n\u001b[1;32m    740\u001b[0m             \u001b[38;5;66;03m# then conversion float -> int would be disallowed.\u001b[39;00m\n\u001b[1;32m    741\u001b[0m             array \u001b[38;5;241m=\u001b[39m np\u001b[38;5;241m.\u001b[39masarray(array, order\u001b[38;5;241m=\u001b[39morder)\n",
      "File \u001b[0;32m~/anaconda3/envs/test1/lib/python3.9/warnings.py:179\u001b[0m, in \u001b[0;36msimplefilter\u001b[0;34m(action, category, lineno, append)\u001b[0m\n\u001b[1;32m    175\u001b[0m \u001b[38;5;28;01massert\u001b[39;00m action \u001b[38;5;129;01min\u001b[39;00m (\u001b[38;5;124m\"\u001b[39m\u001b[38;5;124merror\u001b[39m\u001b[38;5;124m\"\u001b[39m, \u001b[38;5;124m\"\u001b[39m\u001b[38;5;124mignore\u001b[39m\u001b[38;5;124m\"\u001b[39m, \u001b[38;5;124m\"\u001b[39m\u001b[38;5;124malways\u001b[39m\u001b[38;5;124m\"\u001b[39m, \u001b[38;5;124m\"\u001b[39m\u001b[38;5;124mdefault\u001b[39m\u001b[38;5;124m\"\u001b[39m, \u001b[38;5;124m\"\u001b[39m\u001b[38;5;124mmodule\u001b[39m\u001b[38;5;124m\"\u001b[39m,\n\u001b[1;32m    176\u001b[0m                   \u001b[38;5;124m\"\u001b[39m\u001b[38;5;124monce\u001b[39m\u001b[38;5;124m\"\u001b[39m), \u001b[38;5;124m\"\u001b[39m\u001b[38;5;124minvalid action: \u001b[39m\u001b[38;5;132;01m%r\u001b[39;00m\u001b[38;5;124m\"\u001b[39m \u001b[38;5;241m%\u001b[39m (action,)\n\u001b[1;32m    177\u001b[0m \u001b[38;5;28;01massert\u001b[39;00m \u001b[38;5;28misinstance\u001b[39m(lineno, \u001b[38;5;28mint\u001b[39m) \u001b[38;5;129;01mand\u001b[39;00m lineno \u001b[38;5;241m>\u001b[39m\u001b[38;5;241m=\u001b[39m \u001b[38;5;241m0\u001b[39m, \\\n\u001b[1;32m    178\u001b[0m        \u001b[38;5;124m\"\u001b[39m\u001b[38;5;124mlineno must be an int >= 0\u001b[39m\u001b[38;5;124m\"\u001b[39m\n\u001b[0;32m--> 179\u001b[0m \u001b[43m_add_filter\u001b[49m\u001b[43m(\u001b[49m\u001b[43maction\u001b[49m\u001b[43m,\u001b[49m\u001b[43m \u001b[49m\u001b[38;5;28;43;01mNone\u001b[39;49;00m\u001b[43m,\u001b[49m\u001b[43m \u001b[49m\u001b[43mcategory\u001b[49m\u001b[43m,\u001b[49m\u001b[43m \u001b[49m\u001b[38;5;28;43;01mNone\u001b[39;49;00m\u001b[43m,\u001b[49m\u001b[43m \u001b[49m\u001b[43mlineno\u001b[49m\u001b[43m,\u001b[49m\u001b[43m \u001b[49m\u001b[43mappend\u001b[49m\u001b[38;5;241;43m=\u001b[39;49m\u001b[43mappend\u001b[49m\u001b[43m)\u001b[49m\n",
      "File \u001b[0;32m~/anaconda3/envs/test1/lib/python3.9/warnings.py:193\u001b[0m, in \u001b[0;36m_add_filter\u001b[0;34m(append, *item)\u001b[0m\n\u001b[1;32m    191\u001b[0m     \u001b[38;5;28;01mif\u001b[39;00m item \u001b[38;5;129;01mnot\u001b[39;00m \u001b[38;5;129;01min\u001b[39;00m filters:\n\u001b[1;32m    192\u001b[0m         filters\u001b[38;5;241m.\u001b[39mappend(item)\n\u001b[0;32m--> 193\u001b[0m \u001b[43m_filters_mutated\u001b[49m()\n",
      "\u001b[0;31mKeyboardInterrupt\u001b[0m: "
     ]
    }
   ],
   "source": [
    "for date in testCons:\n",
    "    testCon = df['time'].dt.isocalendar().week == pd.Timestamp(date).week\n",
    "    #testCon = df['time'].dt.date == pd.Timestamp(date).date\n",
    "    testDF = df[testCon]\n",
    "\n",
    "    X = testDF[XCols]\n",
    "    y = testDF[label]\n",
    "    \n",
    "    if len(X) == 0: \n",
    "        continue\n",
    "    x_test_adv = dtAdv.generate(x=X.values)\n",
    "   \n",
    "    np.savetxt(f\"dtAdv-{date.week}.csv\", x_test_adv, delimiter=\",\")\n",
    "\n",
    "   # Step 7: Evaluate the ART classifier on adversarial test examples\n",
    "    y_dtc = advClassifier.predict(x_test_adv)\n",
    "    print(\"DT test\")\n",
    "    print(f\"{date.week}\", metrics.f1_score(y, np.rint(y_dtc).argmax(axis=1), average='micro'))\n",
    "    print(classification_report(y, np.rint(y_dtc).argmax(axis=1)))#, labels=devs))\n",
    "  "
   ]
  },
  {
   "cell_type": "code",
   "execution_count": 21,
   "metadata": {},
   "outputs": [
    {
     "name": "stdout",
     "output_type": "stream",
     "text": [
      "[[[361443. 111648.]\n",
      "  [     0.      0.]]\n",
      "\n",
      " [[195288. 277803.]\n",
      "  [     0.      0.]]\n",
      "\n",
      " [[414958.  51388.]\n",
      "  [  6745.      0.]]\n",
      "\n",
      " [[436532.      0.]\n",
      "  [ 36559.      0.]]\n",
      "\n",
      " [[460280.   3393.]\n",
      "  [  9418.      0.]]\n",
      "\n",
      " [[460138.      0.]\n",
      "  [ 12953.      0.]]\n",
      "\n",
      " [[465582.      0.]\n",
      "  [  7509.      0.]]\n",
      "\n",
      " [[456485.  16606.]\n",
      "  [     0.      0.]]\n",
      "\n",
      " [[461465.      0.]\n",
      "  [ 11626.      0.]]\n",
      "\n",
      " [[450010.      0.]\n",
      "  [ 23081.      0.]]\n",
      "\n",
      " [[406188.      0.]\n",
      "  [ 66903.      0.]]\n",
      "\n",
      " [[460838.  12253.]\n",
      "  [     0.      0.]]\n",
      "\n",
      " [[406348.      0.]\n",
      "  [ 66743.      0.]]\n",
      "\n",
      " [[436796.      0.]\n",
      "  [ 36295.      0.]]\n",
      "\n",
      " [[472147.      0.]\n",
      "  [   944.      0.]]\n",
      "\n",
      " [[391779.      0.]\n",
      "  [ 81312.      0.]]\n",
      "\n",
      " [[468802.      0.]\n",
      "  [  4289.      0.]]\n",
      "\n",
      " [[461097.      0.]\n",
      "  [ 11994.      0.]]\n",
      "\n",
      " [[456618.      0.]\n",
      "  [ 16473.      0.]]\n",
      "\n",
      " [[467723.      0.]\n",
      "  [  5368.      0.]]\n",
      "\n",
      " [[443724.      0.]\n",
      "  [ 29367.      0.]]\n",
      "\n",
      " [[468093.      0.]\n",
      "  [  4998.      0.]]\n",
      "\n",
      " [[461974.      0.]\n",
      "  [ 11117.      0.]]\n",
      "\n",
      " [[451614.      0.]\n",
      "  [ 21477.      0.]]\n",
      "\n",
      " [[471171.      0.]\n",
      "  [  1920.      0.]]\n",
      "\n",
      " [[468909.      0.]\n",
      "  [  4182.      0.]]\n",
      "\n",
      " [[471273.      0.]\n",
      "  [  1818.      0.]]]\n"
     ]
    }
   ],
   "source": [
    "print(multilabel_confusion_matrix(y, np.rint(y_dtc).argmax(axis=1)))"
   ]
  },
  {
   "cell_type": "code",
   "execution_count": 8,
   "metadata": {},
   "outputs": [
    {
     "name": "stderr",
     "output_type": "stream",
     "text": [
      "/rds/general/user/as9820/home/anaconda3/envs/test1/lib/python3.9/site-packages/sklearn/utils/deprecation.py:103: FutureWarning: The attribute `n_features_` is deprecated in 1.0 and will be removed in 1.2. Use `n_features_in_` instead.\n",
      "  warnings.warn(msg, category=FutureWarning)\n"
     ]
    },
    {
     "ename": "AttributeError",
     "evalue": "'ScikitlearnDecisionTreeClassifier' object has no attribute 'get_trees'",
     "output_type": "error",
     "traceback": [
      "\u001b[0;31m---------------------------------------------------------------------------\u001b[0m",
      "\u001b[0;31mAttributeError\u001b[0m                            Traceback (most recent call last)",
      "Cell \u001b[0;32mIn[8], line 3\u001b[0m\n\u001b[1;32m      1\u001b[0m \u001b[38;5;28;01mfrom\u001b[39;00m \u001b[38;5;21;01mart\u001b[39;00m\u001b[38;5;21;01m.\u001b[39;00m\u001b[38;5;21;01mmetrics\u001b[39;00m \u001b[38;5;28;01mimport\u001b[39;00m RobustnessVerificationTreeModelsCliqueMethod\n\u001b[1;32m      2\u001b[0m aclassifier \u001b[38;5;241m=\u001b[39m SklearnClassifier(model\u001b[38;5;241m=\u001b[39mdtc)\n\u001b[0;32m----> 3\u001b[0m rt \u001b[38;5;241m=\u001b[39m \u001b[43mRobustnessVerificationTreeModelsCliqueMethod\u001b[49m\u001b[43m(\u001b[49m\u001b[43mclassifier\u001b[49m\u001b[38;5;241;43m=\u001b[39;49m\u001b[43maclassifier\u001b[49m\u001b[43m)\u001b[49m\n\u001b[1;32m      4\u001b[0m average_bound, verified_error \u001b[38;5;241m=\u001b[39m rt\u001b[38;5;241m.\u001b[39mverify(x\u001b[38;5;241m=\u001b[39mX_test, y\u001b[38;5;241m=\u001b[39my_test, eps_init\u001b[38;5;241m=\u001b[39m\u001b[38;5;241m0.3\u001b[39m, nb_search_steps\u001b[38;5;241m=\u001b[39m\u001b[38;5;241m10\u001b[39m, max_clique\u001b[38;5;241m=\u001b[39m\u001b[38;5;241m2\u001b[39m, \n\u001b[1;32m      5\u001b[0m                                           max_level\u001b[38;5;241m=\u001b[39m\u001b[38;5;241m2\u001b[39m)\n\u001b[1;32m      7\u001b[0m \u001b[38;5;28mprint\u001b[39m(\u001b[38;5;124m'\u001b[39m\u001b[38;5;124mAverage bound:\u001b[39m\u001b[38;5;124m'\u001b[39m, average_bound)\n",
      "File \u001b[0;32m~/anaconda3/envs/test1/lib/python3.9/site-packages/art/metrics/verification_decisions_trees.py:181\u001b[0m, in \u001b[0;36mRobustnessVerificationTreeModelsCliqueMethod.__init__\u001b[0;34m(self, classifier, verbose)\u001b[0m\n\u001b[1;32m    179\u001b[0m \u001b[38;5;28mself\u001b[39m\u001b[38;5;241m.\u001b[39m_classifier \u001b[38;5;241m=\u001b[39m classifier\n\u001b[1;32m    180\u001b[0m \u001b[38;5;28mself\u001b[39m\u001b[38;5;241m.\u001b[39mverbose \u001b[38;5;241m=\u001b[39m verbose\n\u001b[0;32m--> 181\u001b[0m \u001b[38;5;28mself\u001b[39m\u001b[38;5;241m.\u001b[39m_trees \u001b[38;5;241m=\u001b[39m \u001b[38;5;28;43mself\u001b[39;49m\u001b[38;5;241;43m.\u001b[39;49m\u001b[43m_classifier\u001b[49m\u001b[38;5;241;43m.\u001b[39;49m\u001b[43mget_trees\u001b[49m()\n",
      "\u001b[0;31mAttributeError\u001b[0m: 'ScikitlearnDecisionTreeClassifier' object has no attribute 'get_trees'"
     ]
    }
   ],
   "source": [
    "from art.metrics import RobustnessVerificationTreeModelsCliqueMethod\n",
    "aclassifier = SklearnClassifier(model=dtc)\n",
    "rt = RobustnessVerificationTreeModelsCliqueMethod(classifier=aclassifier)\n",
    "average_bound, verified_error = rt.verify(x=X_test, y=y_test, eps_init=0.3, nb_search_steps=10, max_clique=2, \n",
    "                                          max_level=2)\n",
    "\n",
    "print('Average bound:', average_bound)\n",
    "print('Verified error at eps:', verified_error)"
   ]
  },
  {
   "cell_type": "code",
   "execution_count": 8,
   "metadata": {},
   "outputs": [
    {
     "name": "stderr",
     "output_type": "stream",
     "text": [
      "/rds/general/user/as9820/home/anaconda3/envs/test1/lib/python3.9/site-packages/sklearn/utils/deprecation.py:103: FutureWarning: The attribute `n_features_` is deprecated in 1.0 and will be removed in 1.2. Use `n_features_in_` instead.\n",
      "  warnings.warn(msg, category=FutureWarning)\n"
     ]
    }
   ],
   "source": [
    "advClassifier = SklearnClassifier(dtc)\n",
    "zoo = DecisionTreeAttack(classifier=advClassifier)"
   ]
  },
  {
   "cell_type": "code",
   "execution_count": 15,
   "metadata": {},
   "outputs": [
    {
     "name": "stdout",
     "output_type": "stream",
     "text": [
      "test exists\n"
     ]
    },
    {
     "ename": "KeyError",
     "evalue": "0",
     "output_type": "error",
     "traceback": [
      "\u001b[0;31m---------------------------------------------------------------------------\u001b[0m",
      "\u001b[0;31mKeyError\u001b[0m                                  Traceback (most recent call last)",
      "File \u001b[0;32m~/anaconda3/envs/test1/lib/python3.9/site-packages/pandas/core/indexes/base.py:3790\u001b[0m, in \u001b[0;36mIndex.get_loc\u001b[0;34m(self, key)\u001b[0m\n\u001b[1;32m   3789\u001b[0m \u001b[38;5;28;01mtry\u001b[39;00m:\n\u001b[0;32m-> 3790\u001b[0m     \u001b[38;5;28;01mreturn\u001b[39;00m \u001b[38;5;28;43mself\u001b[39;49m\u001b[38;5;241;43m.\u001b[39;49m\u001b[43m_engine\u001b[49m\u001b[38;5;241;43m.\u001b[39;49m\u001b[43mget_loc\u001b[49m\u001b[43m(\u001b[49m\u001b[43mcasted_key\u001b[49m\u001b[43m)\u001b[49m\n\u001b[1;32m   3791\u001b[0m \u001b[38;5;28;01mexcept\u001b[39;00m \u001b[38;5;167;01mKeyError\u001b[39;00m \u001b[38;5;28;01mas\u001b[39;00m err:\n",
      "File \u001b[0;32mindex.pyx:152\u001b[0m, in \u001b[0;36mpandas._libs.index.IndexEngine.get_loc\u001b[0;34m()\u001b[0m\n",
      "File \u001b[0;32mindex.pyx:181\u001b[0m, in \u001b[0;36mpandas._libs.index.IndexEngine.get_loc\u001b[0;34m()\u001b[0m\n",
      "File \u001b[0;32mpandas/_libs/hashtable_class_helper.pxi:7080\u001b[0m, in \u001b[0;36mpandas._libs.hashtable.PyObjectHashTable.get_item\u001b[0;34m()\u001b[0m\n",
      "File \u001b[0;32mpandas/_libs/hashtable_class_helper.pxi:7088\u001b[0m, in \u001b[0;36mpandas._libs.hashtable.PyObjectHashTable.get_item\u001b[0;34m()\u001b[0m\n",
      "\u001b[0;31mKeyError\u001b[0m: 0",
      "\nThe above exception was the direct cause of the following exception:\n",
      "\u001b[0;31mKeyError\u001b[0m                                  Traceback (most recent call last)",
      "Cell \u001b[0;32mIn[15], line 25\u001b[0m\n\u001b[1;32m     18\u001b[0m  \u001b[38;5;66;03m#x_test_adv = zoo.generate(x=X_test.values, y=y_test-2)\u001b[39;00m\n\u001b[1;32m     19\u001b[0m \n\u001b[1;32m     20\u001b[0m  \u001b[38;5;66;03m#np.savetxt(f\"RFzoo2-{date.week}.csv\", x_test_adv, delimiter=\",\")\u001b[39;00m\n\u001b[1;32m     21\u001b[0m \n\u001b[1;32m     22\u001b[0m \u001b[38;5;66;03m# Step 7: Evaluate the ART classifier on adversarial test examples\u001b[39;00m\n\u001b[1;32m     23\u001b[0m  \u001b[38;5;66;03m#y_rfc = advClassifier.predict(x_test_adv)\u001b[39;00m\n\u001b[1;32m     24\u001b[0m  \u001b[38;5;28;01mfor\u001b[39;00m index, sample \u001b[38;5;129;01min\u001b[39;00m \u001b[38;5;28menumerate\u001b[39m (x_test_adv):\n\u001b[0;32m---> 25\u001b[0m      dist \u001b[38;5;241m=\u001b[39m dist \u001b[38;5;241m+\u001b[39m np\u001b[38;5;241m.\u001b[39mlinalg\u001b[38;5;241m.\u001b[39mnorm(sample\u001b[38;5;241m-\u001b[39m\u001b[43mX\u001b[49m\u001b[43m[\u001b[49m\u001b[43mindex\u001b[49m\u001b[43m]\u001b[49m)\n\u001b[1;32m     26\u001b[0m  \u001b[38;5;28mprint\u001b[39m(dist)\n\u001b[1;32m     27\u001b[0m  \u001b[38;5;66;03m#print(dtc.score(x_test_adv, y_test))\u001b[39;00m\n\u001b[1;32m     28\u001b[0m  \u001b[38;5;66;03m#print(f\"{date.week}\", metrics.f1_score(y, y_rfc, average='micro'))\u001b[39;00m\n",
      "File \u001b[0;32m~/anaconda3/envs/test1/lib/python3.9/site-packages/pandas/core/frame.py:3896\u001b[0m, in \u001b[0;36mDataFrame.__getitem__\u001b[0;34m(self, key)\u001b[0m\n\u001b[1;32m   3894\u001b[0m \u001b[38;5;28;01mif\u001b[39;00m \u001b[38;5;28mself\u001b[39m\u001b[38;5;241m.\u001b[39mcolumns\u001b[38;5;241m.\u001b[39mnlevels \u001b[38;5;241m>\u001b[39m \u001b[38;5;241m1\u001b[39m:\n\u001b[1;32m   3895\u001b[0m     \u001b[38;5;28;01mreturn\u001b[39;00m \u001b[38;5;28mself\u001b[39m\u001b[38;5;241m.\u001b[39m_getitem_multilevel(key)\n\u001b[0;32m-> 3896\u001b[0m indexer \u001b[38;5;241m=\u001b[39m \u001b[38;5;28;43mself\u001b[39;49m\u001b[38;5;241;43m.\u001b[39;49m\u001b[43mcolumns\u001b[49m\u001b[38;5;241;43m.\u001b[39;49m\u001b[43mget_loc\u001b[49m\u001b[43m(\u001b[49m\u001b[43mkey\u001b[49m\u001b[43m)\u001b[49m\n\u001b[1;32m   3897\u001b[0m \u001b[38;5;28;01mif\u001b[39;00m is_integer(indexer):\n\u001b[1;32m   3898\u001b[0m     indexer \u001b[38;5;241m=\u001b[39m [indexer]\n",
      "File \u001b[0;32m~/anaconda3/envs/test1/lib/python3.9/site-packages/pandas/core/indexes/base.py:3797\u001b[0m, in \u001b[0;36mIndex.get_loc\u001b[0;34m(self, key)\u001b[0m\n\u001b[1;32m   3792\u001b[0m     \u001b[38;5;28;01mif\u001b[39;00m \u001b[38;5;28misinstance\u001b[39m(casted_key, \u001b[38;5;28mslice\u001b[39m) \u001b[38;5;129;01mor\u001b[39;00m (\n\u001b[1;32m   3793\u001b[0m         \u001b[38;5;28misinstance\u001b[39m(casted_key, abc\u001b[38;5;241m.\u001b[39mIterable)\n\u001b[1;32m   3794\u001b[0m         \u001b[38;5;129;01mand\u001b[39;00m \u001b[38;5;28many\u001b[39m(\u001b[38;5;28misinstance\u001b[39m(x, \u001b[38;5;28mslice\u001b[39m) \u001b[38;5;28;01mfor\u001b[39;00m x \u001b[38;5;129;01min\u001b[39;00m casted_key)\n\u001b[1;32m   3795\u001b[0m     ):\n\u001b[1;32m   3796\u001b[0m         \u001b[38;5;28;01mraise\u001b[39;00m InvalidIndexError(key)\n\u001b[0;32m-> 3797\u001b[0m     \u001b[38;5;28;01mraise\u001b[39;00m \u001b[38;5;167;01mKeyError\u001b[39;00m(key) \u001b[38;5;28;01mfrom\u001b[39;00m \u001b[38;5;21;01merr\u001b[39;00m\n\u001b[1;32m   3798\u001b[0m \u001b[38;5;28;01mexcept\u001b[39;00m \u001b[38;5;167;01mTypeError\u001b[39;00m:\n\u001b[1;32m   3799\u001b[0m     \u001b[38;5;66;03m# If we have a listlike key, _check_indexing_error will raise\u001b[39;00m\n\u001b[1;32m   3800\u001b[0m     \u001b[38;5;66;03m#  InvalidIndexError. Otherwise we fall through and re-raise\u001b[39;00m\n\u001b[1;32m   3801\u001b[0m     \u001b[38;5;66;03m#  the TypeError.\u001b[39;00m\n\u001b[1;32m   3802\u001b[0m     \u001b[38;5;28mself\u001b[39m\u001b[38;5;241m.\u001b[39m_check_indexing_error(key)\n",
      "\u001b[0;31mKeyError\u001b[0m: 0"
     ]
    }
   ],
   "source": [
    "dist = 0\n",
    "for date in testCons:\n",
    "    path = Path(f\"dt1sec_0adv-{date.week}.csv\")\n",
    "    if path.is_file():\n",
    "        print(\"test exists\")\n",
    "        x_test_adv = np.loadtxt(f\"dt1sec_0adv-{date.week}.csv\", delimiter=\",\", dtype=str)\n",
    "    testCon = df['time'].dt.isocalendar().week == pd.Timestamp(date).week\n",
    "    #testCon = df['time'].dt.date == pd.Timestamp(date).date\n",
    "    testDF = df[testCon]\n",
    "\n",
    "    X = testDF[XCols]\n",
    "    y = testDF[label]\n",
    "    \n",
    "    #X_train, X_test, y_train, y_test = train_test_split(X, y, test_size=200, stratify=y)\n",
    "    \n",
    "    if len(X) == 0: \n",
    "        continue\n",
    "    #x_test_adv = zoo.generate(x=X_test.values, y=y_test-2)\n",
    "   \n",
    "    #np.savetxt(f\"RFzoo2-{date.week}.csv\", x_test_adv, delimiter=\",\")\n",
    "\n",
    "   # Step 7: Evaluate the ART classifier on adversarial test examples\n",
    "    #y_rfc = advClassifier.predict(x_test_adv)\n",
    "    for index, sample in enumerate (x_test_adv):\n",
    "        dist = dist + np.linalg.norm(sample-X[index])\n",
    "    print(dist)\n",
    "    #print(dtc.score(x_test_adv, y_test))\n",
    "    #print(f\"{date.week}\", metrics.f1_score(y, y_rfc, average='micro'))"
   ]
  },
  {
   "cell_type": "code",
   "execution_count": null,
   "metadata": {},
   "outputs": [],
   "source": [
    "advClassifier = ScikitlearnDecisionTreeClassifier(model=dtc)\n",
    "dtAdv = Zero(classifier=advClassifier)"
   ]
  }
 ],
 "metadata": {
  "kernelspec": {
   "display_name": "Python3.9 (test1)",
   "language": "python",
   "name": "python39_test1"
  },
  "language_info": {
   "codemirror_mode": {
    "name": "ipython",
    "version": 3
   },
   "file_extension": ".py",
   "mimetype": "text/x-python",
   "name": "python",
   "nbconvert_exporter": "python",
   "pygments_lexer": "ipython3",
   "version": "3.9.18"
  }
 },
 "nbformat": 4,
 "nbformat_minor": 2
}
