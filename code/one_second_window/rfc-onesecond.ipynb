{
 "cells": [
  {
   "cell_type": "code",
   "execution_count": 1,
   "metadata": {},
   "outputs": [
    {
     "name": "stderr",
     "output_type": "stream",
     "text": [
      "/rds/general/user/as9820/home/anaconda3/envs/test1/lib/python3.9/site-packages/tqdm/auto.py:21: TqdmWarning: IProgress not found. Please update jupyter and ipywidgets. See https://ipywidgets.readthedocs.io/en/stable/user_install.html\n",
      "  from .autonotebook import tqdm as notebook_tqdm\n",
      "/rds/general/user/as9820/home/anaconda3/envs/test1/lib/python3.9/site-packages/art/estimators/certification/__init__.py:28: UserWarning: PyTorch not found. Not importing DeepZ or Interval Bound Propagation functionality\n",
      "  warnings.warn(\"PyTorch not found. Not importing DeepZ or Interval Bound Propagation functionality\")\n"
     ]
    }
   ],
   "source": [
    "from sklearn.ensemble import RandomForestClassifier\n",
    "from sklearn.svm import SVC\n",
    "from sklearn.neighbors import KNeighborsClassifier\n",
    "from sklearn.tree import DecisionTreeClassifier\n",
    "from sklearn.model_selection import train_test_split\n",
    "\n",
    "from sklearn.metrics import accuracy_score, recall_score, f1_score\n",
    "from imblearn.metrics import geometric_mean_score, specificity_score\n",
    "from sklearn.model_selection import StratifiedKFold\n",
    "from sklearn.ensemble import VotingClassifier\n",
    "from sklearn.preprocessing import normalize\n",
    "import json\n",
    "import pandas as pd\n",
    "import numpy as np\n",
    "import sys, os\n",
    "import warnings\n",
    "import datetime\n",
    "#import pickle\n",
    "from joblib import dump, load\n",
    "from pathlib import Path\n",
    "\n",
    "from sklearn import metrics\n",
    "from sklearn.metrics import classification_report\n",
    "\n",
    "from art.attacks.evasion import FastGradientMethod, ZooAttack\n",
    "from art.estimators.classification import SklearnClassifier\n",
    "\n",
    "from art.metrics import RobustnessVerificationTreeModelsCliqueMethod, SHAPr\n"
   ]
  },
  {
   "cell_type": "code",
   "execution_count": 2,
   "metadata": {},
   "outputs": [],
   "source": [
    "\n",
    "\n",
    "XCols = ['mean', 'sum', 'std']\n",
    "label = 'label'\n",
    "\n"
   ]
  },
  {
   "cell_type": "code",
   "execution_count": 3,
   "metadata": {},
   "outputs": [],
   "source": [
    "#df = pd.read_csv(sys.argv[1], dtype = fieldTypes, parse_dates = ['time_start'])\n",
    "df = pd.read_csv(\"/rds/general/user/as9820/home/revist/revisiting-iot-device-identification/data/stats_nov_apr.csv\", parse_dates = ['time'])\n",
    "df.fillna(0, inplace=True)\n",
    "\n"
   ]
  },
  {
   "cell_type": "code",
   "execution_count": 4,
   "metadata": {},
   "outputs": [],
   "source": [
    "weeks = [list(range(44,53)), list(range(1,10)), list(range(10,19))]\n",
    "\n",
    "#trainCon = df['time'] >= pd.Timestamp('2020-03-01')\n",
    "#trainCon = df['time'] < pd.Timestamp('2020-01-01')\n",
    "#trainCon = ((df['time'] >= pd.Timestamp('2020-01-01')) & (df['time'] < pd.Timestamp('2020-03-01')))\n",
    "trainCon = df['time'].dt.isocalendar().week.isin(weeks[0])\n",
    "#trainCon = df['time'].dt.week.isin([44,45])\n",
    "\n",
    "\n",
    "#testCon = df['time'] > pd.Timestamp('2020-02-29')\n",
    "#testCons = pd.date_range('2019-11-01', '2020-05-01', freq = '1W').tolist()\n",
    "testCons = pd.date_range('2019-11-01', '2020-05-01', freq = '1W').tolist()\n",
    "#testCons = pd.date_range('2019-11-01', '2019-12-01', freq = '1W').tolist()\n",
    "\n",
    "#X = dfTrain.iloc[:, 2:5]\n",
    "#y = dfTrain.iloc[:, 1]\n",
    "X = df[trainCon][XCols]\n",
    "y = df[trainCon][label]\n"
   ]
  },
  {
   "cell_type": "code",
   "execution_count": 5,
   "metadata": {},
   "outputs": [],
   "source": [
    "\n",
    "X_train, X_test, y_train, y_test = train_test_split(X, y, test_size=0.2, stratify=y)\n"
   ]
  },
  {
   "cell_type": "code",
   "execution_count": 7,
   "metadata": {},
   "outputs": [
    {
     "name": "stdout",
     "output_type": "stream",
     "text": [
      "loading model model/rfc_0_1sec\n"
     ]
    }
   ],
   "source": [
    "#clf = RandomForestClassifier(n_estimators=20, n_jobs=50)\n",
    "rfc = RandomForestClassifier(n_jobs=18)\n",
    "#svc = SVC(verbose=True)\n",
    "#dtc = DecisionTreeClassifier()\n",
    "#knn = KNeighborsClassifier(n_jobs=54)\n",
    "#mv = VotingClassifier(estimators=[('knn', knn), ('dt', dtc), ('rf', rfc), ('svm',svc)], voting='hard', n_jobs=54)\n",
    "\n",
    "modelFile = Path(f\"model/rfc_0_1sec\")\n",
    "if modelFile.is_file():\n",
    "    print(f\"loading model {modelFile}\")\n",
    "    rfc = load(modelFile)\n",
    "else:\n",
    "    print(f\"start training for weeks {weeks[0]}\")\n",
    "    rfc.fit(X_train.values, y_train)\n",
    "    print(\"RFC trained\")\n",
    "    #dump(rfc, f\"model/rfc_{sys.argv[2]}\")\n",
    "    dump(rfc, modelFile)\n"
   ]
  },
  {
   "cell_type": "code",
   "execution_count": 21,
   "metadata": {},
   "outputs": [
    {
     "name": "stderr",
     "output_type": "stream",
     "text": [
      "/rds/general/user/as9820/home/anaconda3/envs/test1/lib/python3.9/site-packages/sklearn/base.py:443: UserWarning: X has feature names, but RandomForestClassifier was fitted without feature names\n",
      "  warnings.warn(\n",
      "/rds/general/user/as9820/home/anaconda3/envs/test1/lib/python3.9/site-packages/sklearn/utils/validation.py:623: FutureWarning: is_sparse is deprecated and will be removed in a future version. Check `isinstance(dtype, pd.SparseDtype)` instead.\n",
      "  if not hasattr(array, \"sparse\") and array.dtypes.apply(is_sparse).any():\n"
     ]
    },
    {
     "name": "stdout",
     "output_type": "stream",
     "text": [
      "44 0.7165006309568348\n"
     ]
    },
    {
     "name": "stderr",
     "output_type": "stream",
     "text": [
      "/rds/general/user/as9820/home/anaconda3/envs/test1/lib/python3.9/site-packages/sklearn/metrics/_classification.py:1318: UndefinedMetricWarning: Recall and F-score are ill-defined and being set to 0.0 in labels with no true samples. Use `zero_division` parameter to control this behavior.\n",
      "  _warn_prf(average, modifier, msg_start, len(result))\n",
      "/rds/general/user/as9820/home/anaconda3/envs/test1/lib/python3.9/site-packages/sklearn/metrics/_classification.py:1318: UndefinedMetricWarning: Recall and F-score are ill-defined and being set to 0.0 in labels with no true samples. Use `zero_division` parameter to control this behavior.\n",
      "  _warn_prf(average, modifier, msg_start, len(result))\n",
      "/rds/general/user/as9820/home/anaconda3/envs/test1/lib/python3.9/site-packages/sklearn/metrics/_classification.py:1318: UndefinedMetricWarning: Recall and F-score are ill-defined and being set to 0.0 in labels with no true samples. Use `zero_division` parameter to control this behavior.\n",
      "  _warn_prf(average, modifier, msg_start, len(result))\n"
     ]
    },
    {
     "name": "stdout",
     "output_type": "stream",
     "text": [
      "              precision    recall  f1-score   support\n",
      "\n",
      "           7       0.83      0.49      0.62      6745\n",
      "           8       0.51      0.89      0.65     36559\n",
      "           9       0.36      0.02      0.04      9418\n",
      "          10       0.90      0.91      0.91     12953\n",
      "          12       0.83      0.38      0.52      7509\n",
      "          14       0.84      0.82      0.83     11626\n",
      "          15       0.63      0.50      0.56     23081\n",
      "          16       0.53      0.49      0.51     66903\n",
      "          17       0.00      0.00      0.00         0\n",
      "          18       0.90      0.97      0.93     66743\n",
      "          19       0.58      0.09      0.15     36295\n",
      "          20       0.69      0.60      0.64       944\n",
      "          22       0.87      1.00      0.93     81312\n",
      "          23       0.51      0.50      0.50      4289\n",
      "          24       0.72      0.19      0.30     11994\n",
      "          25       0.84      0.99      0.91     16473\n",
      "          27       0.98      0.33      0.49      5368\n",
      "          28       0.47      0.95      0.63     29367\n",
      "          29       1.00      0.39      0.56      4998\n",
      "          33       0.89      0.67      0.76     11117\n",
      "          35       0.96      0.98      0.97     21477\n",
      "          36       1.00      0.67      0.80      1920\n",
      "          38       1.00      0.40      0.57      4182\n",
      "          39       0.71      0.55      0.62      1818\n",
      "\n",
      "    accuracy                           0.72    473091\n",
      "   macro avg       0.73      0.57      0.60    473091\n",
      "weighted avg       0.73      0.72      0.68    473091\n",
      "\n"
     ]
    },
    {
     "name": "stderr",
     "output_type": "stream",
     "text": [
      "/rds/general/user/as9820/home/anaconda3/envs/test1/lib/python3.9/site-packages/sklearn/base.py:443: UserWarning: X has feature names, but RandomForestClassifier was fitted without feature names\n",
      "  warnings.warn(\n",
      "/rds/general/user/as9820/home/anaconda3/envs/test1/lib/python3.9/site-packages/sklearn/utils/validation.py:623: FutureWarning: is_sparse is deprecated and will be removed in a future version. Check `isinstance(dtype, pd.SparseDtype)` instead.\n",
      "  if not hasattr(array, \"sparse\") and array.dtypes.apply(is_sparse).any():\n"
     ]
    },
    {
     "name": "stdout",
     "output_type": "stream",
     "text": [
      "45 0.7225630719633107\n",
      "              precision    recall  f1-score   support\n",
      "\n",
      "           7       0.98      0.62      0.76    142115\n",
      "           8       0.50      0.88      0.64    144668\n",
      "           9       0.71      0.28      0.40     45241\n",
      "          10       0.87      0.90      0.89     52818\n",
      "          12       0.66      0.92      0.77    148710\n",
      "          14       0.75      0.78      0.76     43272\n",
      "          15       0.72      0.72      0.72    109634\n",
      "          16       0.49      0.50      0.50    248788\n",
      "          17       0.93      0.62      0.74     14544\n",
      "          18       0.88      0.97      0.92    257285\n",
      "          19       0.54      0.09      0.16    146426\n",
      "          20       0.23      0.45      0.30      4327\n",
      "          22       0.70      0.96      0.81    212008\n",
      "          23       0.70      0.73      0.72     23682\n",
      "          24       0.71      0.17      0.27     51543\n",
      "          25       0.81      0.99      0.89     87895\n",
      "          27       0.97      0.27      0.42    115848\n",
      "          28       0.68      0.84      0.75    270903\n",
      "          29       0.99      0.70      0.82     45552\n",
      "          33       0.88      0.72      0.79    100868\n",
      "          35       0.87      0.97      0.92     88540\n",
      "          36       1.00      0.70      0.83     18398\n",
      "          38       0.99      0.86      0.92     98716\n",
      "          39       0.77      0.74      0.76     12207\n",
      "\n",
      "    accuracy                           0.72   2483988\n",
      "   macro avg       0.76      0.68      0.69   2483988\n",
      "weighted avg       0.74      0.72      0.70   2483988\n",
      "\n"
     ]
    },
    {
     "name": "stderr",
     "output_type": "stream",
     "text": [
      "/rds/general/user/as9820/home/anaconda3/envs/test1/lib/python3.9/site-packages/sklearn/base.py:443: UserWarning: X has feature names, but RandomForestClassifier was fitted without feature names\n",
      "  warnings.warn(\n",
      "/rds/general/user/as9820/home/anaconda3/envs/test1/lib/python3.9/site-packages/sklearn/utils/validation.py:623: FutureWarning: is_sparse is deprecated and will be removed in a future version. Check `isinstance(dtype, pd.SparseDtype)` instead.\n",
      "  if not hasattr(array, \"sparse\") and array.dtypes.apply(is_sparse).any():\n"
     ]
    },
    {
     "name": "stdout",
     "output_type": "stream",
     "text": [
      "46 0.7403629436704007\n",
      "              precision    recall  f1-score   support\n",
      "\n",
      "           7       0.85      0.49      0.62     23908\n",
      "           8       0.50      0.90      0.64    133305\n",
      "           9       0.94      0.52      0.67     43781\n",
      "          10       0.92      0.90      0.91     43927\n",
      "          12       0.84      0.47      0.60     30254\n",
      "          14       0.79      0.79      0.79     43880\n",
      "          15       0.54      0.70      0.61     66008\n",
      "          16       0.63      0.50      0.55    447899\n",
      "          17       0.96      0.52      0.68     15588\n",
      "          18       0.97      0.97      0.97    234606\n",
      "          19       0.47      0.04      0.07    133445\n",
      "          20       0.59      0.58      0.59      3692\n",
      "          22       0.91      1.00      0.95    345014\n",
      "          23       0.29      0.33      0.31      9006\n",
      "          24       0.56      0.18      0.28     40932\n",
      "          25       0.76      0.98      0.85     34610\n",
      "          27       0.99      0.50      0.66     25696\n",
      "          28       0.68      0.91      0.77    486713\n",
      "          29       0.98      0.53      0.69     22106\n",
      "          33       0.83      0.71      0.76     39414\n",
      "          35       0.85      0.98      0.91     78588\n",
      "          36       1.00      0.71      0.83     49162\n",
      "          38       0.98      0.39      0.56     14720\n",
      "          39       0.56      0.58      0.57      6566\n",
      "\n",
      "    accuracy                           0.74   2372820\n",
      "   macro avg       0.77      0.63      0.66   2372820\n",
      "weighted avg       0.74      0.74      0.71   2372820\n",
      "\n"
     ]
    },
    {
     "name": "stderr",
     "output_type": "stream",
     "text": [
      "/rds/general/user/as9820/home/anaconda3/envs/test1/lib/python3.9/site-packages/sklearn/base.py:443: UserWarning: X has feature names, but RandomForestClassifier was fitted without feature names\n",
      "  warnings.warn(\n",
      "/rds/general/user/as9820/home/anaconda3/envs/test1/lib/python3.9/site-packages/sklearn/utils/validation.py:623: FutureWarning: is_sparse is deprecated and will be removed in a future version. Check `isinstance(dtype, pd.SparseDtype)` instead.\n",
      "  if not hasattr(array, \"sparse\") and array.dtypes.apply(is_sparse).any():\n"
     ]
    },
    {
     "name": "stdout",
     "output_type": "stream",
     "text": [
      "47 0.7224359992236983\n",
      "              precision    recall  f1-score   support\n",
      "\n",
      "           7       0.86      0.49      0.62     23434\n",
      "           8       0.51      0.90      0.65    125743\n",
      "           9       0.46      0.46      0.46     44372\n",
      "          10       0.93      0.92      0.92     47172\n",
      "          12       0.84      0.46      0.59     26405\n",
      "          14       0.78      0.80      0.79     41118\n",
      "          15       0.47      0.70      0.56     65078\n",
      "          16       0.59      0.55      0.57    412871\n",
      "          17       0.96      0.58      0.72     16085\n",
      "          18       0.96      0.97      0.96    222083\n",
      "          19       0.51      0.08      0.13    124628\n",
      "          20       0.60      0.59      0.59      3868\n",
      "          22       0.90      1.00      0.95    336185\n",
      "          23       0.55      0.16      0.25     51609\n",
      "          24       0.38      0.12      0.18     43408\n",
      "          25       0.52      0.96      0.67     16264\n",
      "          27       0.98      0.50      0.66     23901\n",
      "          28       0.70      0.82      0.75    466498\n",
      "          29       0.97      0.48      0.65     19215\n",
      "          33       0.85      0.70      0.77     50898\n",
      "          35       0.94      0.99      0.96     76577\n",
      "          36       1.00      0.67      0.80      6614\n",
      "          38       0.96      0.39      0.56     16939\n",
      "          39       0.68      0.57      0.62      6195\n",
      "\n",
      "    accuracy                           0.72   2267160\n",
      "   macro avg       0.75      0.62      0.64   2267160\n",
      "weighted avg       0.72      0.72      0.70   2267160\n",
      "\n"
     ]
    },
    {
     "name": "stderr",
     "output_type": "stream",
     "text": [
      "/rds/general/user/as9820/home/anaconda3/envs/test1/lib/python3.9/site-packages/sklearn/base.py:443: UserWarning: X has feature names, but RandomForestClassifier was fitted without feature names\n",
      "  warnings.warn(\n",
      "/rds/general/user/as9820/home/anaconda3/envs/test1/lib/python3.9/site-packages/sklearn/utils/validation.py:623: FutureWarning: is_sparse is deprecated and will be removed in a future version. Check `isinstance(dtype, pd.SparseDtype)` instead.\n",
      "  if not hasattr(array, \"sparse\") and array.dtypes.apply(is_sparse).any():\n"
     ]
    },
    {
     "name": "stdout",
     "output_type": "stream",
     "text": [
      "48 0.7772590117202044\n",
      "              precision    recall  f1-score   support\n",
      "\n",
      "           7       0.91      0.50      0.64     37178\n",
      "           8       0.50      0.88      0.64    199285\n",
      "           9       0.67      0.42      0.52     63841\n",
      "          10       0.99      0.71      0.83     55480\n",
      "          12       0.85      0.48      0.61     47948\n",
      "          14       0.78      0.78      0.78     57633\n",
      "          15       0.53      0.70      0.60    104629\n",
      "          16       0.66      0.75      0.70    633618\n",
      "          17       0.98      0.48      0.64     21328\n",
      "          18       0.97      0.97      0.97    366565\n",
      "          19       0.51      0.08      0.13    199374\n",
      "          20       0.95      0.59      0.73      5790\n",
      "          22       0.90      1.00      0.95    459505\n",
      "          23       0.46      0.50      0.48     22620\n",
      "          24       0.80      0.29      0.42     84680\n",
      "          25       0.59      0.96      0.73     26269\n",
      "          27       0.99      0.51      0.68     39495\n",
      "          28       0.85      0.88      0.86    810338\n",
      "          29       0.98      0.40      0.57     26557\n",
      "          33       0.82      0.70      0.76     69949\n",
      "          35       0.97      0.99      0.98    127536\n",
      "          36       1.00      0.67      0.80     10630\n",
      "          38       0.99      0.40      0.57     22966\n",
      "          39       0.63      0.57      0.60      9114\n",
      "\n",
      "    accuracy                           0.78   3502328\n",
      "   macro avg       0.80      0.63      0.67   3502328\n",
      "weighted avg       0.79      0.78      0.76   3502328\n",
      "\n"
     ]
    },
    {
     "name": "stderr",
     "output_type": "stream",
     "text": [
      "/rds/general/user/as9820/home/anaconda3/envs/test1/lib/python3.9/site-packages/sklearn/base.py:443: UserWarning: X has feature names, but RandomForestClassifier was fitted without feature names\n",
      "  warnings.warn(\n",
      "/rds/general/user/as9820/home/anaconda3/envs/test1/lib/python3.9/site-packages/sklearn/utils/validation.py:623: FutureWarning: is_sparse is deprecated and will be removed in a future version. Check `isinstance(dtype, pd.SparseDtype)` instead.\n",
      "  if not hasattr(array, \"sparse\") and array.dtypes.apply(is_sparse).any():\n"
     ]
    },
    {
     "name": "stdout",
     "output_type": "stream",
     "text": [
      "49 0.7880256933052067\n",
      "              precision    recall  f1-score   support\n",
      "\n",
      "           7       0.91      0.49      0.63     41723\n",
      "           8       0.50      0.88      0.64    220605\n",
      "           9       0.80      0.52      0.63     75860\n",
      "          10       0.99      0.79      0.88     69738\n",
      "          12       0.85      0.49      0.62     54084\n",
      "          14       0.80      0.79      0.79     64200\n",
      "          15       0.54      0.70      0.61    115643\n",
      "          16       0.68      0.72      0.70    717815\n",
      "          17       0.96      0.47      0.63     24382\n",
      "          18       0.97      0.96      0.97    404703\n",
      "          19       0.50      0.08      0.13    220202\n",
      "          20       0.95      0.60      0.73      6236\n",
      "          22       0.92      1.00      0.96    597306\n",
      "          23       0.46      0.52      0.49     24102\n",
      "          24       0.76      0.28      0.41     88537\n",
      "          25       0.60      0.96      0.74     29017\n",
      "          27       1.00      0.51      0.67     44573\n",
      "          28       0.83      0.92      0.87    882497\n",
      "          29       0.98      0.41      0.58     28664\n",
      "          33       0.83      0.74      0.78     72428\n",
      "          35       0.97      0.99      0.98    135914\n",
      "          36       1.00      0.67      0.80     11733\n",
      "          38       1.00      0.40      0.57     25296\n",
      "          39       0.66      0.62      0.64     10600\n",
      "\n",
      "    accuracy                           0.79   3965858\n",
      "   macro avg       0.81      0.65      0.69   3965858\n",
      "weighted avg       0.79      0.79      0.77   3965858\n",
      "\n"
     ]
    },
    {
     "name": "stderr",
     "output_type": "stream",
     "text": [
      "/rds/general/user/as9820/home/anaconda3/envs/test1/lib/python3.9/site-packages/sklearn/base.py:443: UserWarning: X has feature names, but RandomForestClassifier was fitted without feature names\n",
      "  warnings.warn(\n",
      "/rds/general/user/as9820/home/anaconda3/envs/test1/lib/python3.9/site-packages/sklearn/utils/validation.py:623: FutureWarning: is_sparse is deprecated and will be removed in a future version. Check `isinstance(dtype, pd.SparseDtype)` instead.\n",
      "  if not hasattr(array, \"sparse\") and array.dtypes.apply(is_sparse).any():\n"
     ]
    },
    {
     "name": "stdout",
     "output_type": "stream",
     "text": [
      "50 0.8079447512051557\n",
      "              precision    recall  f1-score   support\n",
      "\n",
      "           7       0.85      0.39      0.54     51922\n",
      "           8       0.50      0.89      0.64    220678\n",
      "           9       0.77      0.50      0.61     78084\n",
      "          10       0.96      0.91      0.93     82924\n",
      "          12       0.87      0.50      0.63     54370\n",
      "          14       0.85      0.88      0.87     71599\n",
      "          15       0.48      0.70      0.57    114745\n",
      "          16       0.74      0.82      0.78    680528\n",
      "          17       0.96      0.46      0.62     24923\n",
      "          18       0.97      0.97      0.97    407324\n",
      "          19       0.50      0.07      0.12    220412\n",
      "          20       0.71      0.60      0.65      6365\n",
      "          22       0.91      1.00      0.95    514873\n",
      "          23       0.47      0.52      0.49     24005\n",
      "          24       0.72      0.24      0.36     87369\n",
      "          25       0.57      0.96      0.72     26667\n",
      "          27       1.00      0.52      0.68     44308\n",
      "          28       0.91      0.94      0.92    896484\n",
      "          29       0.98      0.44      0.61     33208\n",
      "          33       0.81      0.72      0.76     68998\n",
      "          35       0.96      0.99      0.97    133844\n",
      "          36       1.00      0.67      0.80     11733\n",
      "          38       0.99      0.40      0.57     25364\n",
      "          39       0.67      0.59      0.63     10471\n",
      "\n",
      "    accuracy                           0.81   3891198\n",
      "   macro avg       0.80      0.65      0.68   3891198\n",
      "weighted avg       0.81      0.81      0.79   3891198\n",
      "\n"
     ]
    },
    {
     "name": "stderr",
     "output_type": "stream",
     "text": [
      "/rds/general/user/as9820/home/anaconda3/envs/test1/lib/python3.9/site-packages/sklearn/base.py:443: UserWarning: X has feature names, but RandomForestClassifier was fitted without feature names\n",
      "  warnings.warn(\n",
      "/rds/general/user/as9820/home/anaconda3/envs/test1/lib/python3.9/site-packages/sklearn/utils/validation.py:623: FutureWarning: is_sparse is deprecated and will be removed in a future version. Check `isinstance(dtype, pd.SparseDtype)` instead.\n",
      "  if not hasattr(array, \"sparse\") and array.dtypes.apply(is_sparse).any():\n"
     ]
    },
    {
     "name": "stdout",
     "output_type": "stream",
     "text": [
      "51 0.777437307756759\n",
      "              precision    recall  f1-score   support\n",
      "\n",
      "           7       0.84      0.29      0.43     70703\n",
      "           8       0.51      0.90      0.65    222659\n",
      "           9       0.76      0.28      0.41     70055\n",
      "          10       0.93      0.92      0.93     90462\n",
      "          12       0.86      0.48      0.62     51839\n",
      "          14       0.83      0.83      0.83     74136\n",
      "          15       0.47      0.69      0.56    113259\n",
      "          16       0.69      0.71      0.70    702270\n",
      "          17       0.96      0.46      0.62     25408\n",
      "          18       0.97      0.97      0.97    407994\n",
      "          19       0.54      0.07      0.13    220987\n",
      "          20       0.70      0.58      0.64      6414\n",
      "          22       0.88      1.00      0.94    596713\n",
      "          23       0.51      0.51      0.51     24841\n",
      "          24       0.60      0.15      0.24     75712\n",
      "          25       0.57      0.96      0.71     26462\n",
      "          27       0.99      0.51      0.67     42785\n",
      "          28       0.82      0.90      0.86    884902\n",
      "          29       0.98      0.46      0.63     33653\n",
      "          33       0.59      0.70      0.64     21965\n",
      "          35       0.96      0.99      0.97    132696\n",
      "          36       1.00      0.67      0.80     11734\n",
      "          38       0.99      0.40      0.57     25429\n",
      "          39       0.69      0.59      0.64     11469\n",
      "\n",
      "    accuracy                           0.78   3944547\n",
      "   macro avg       0.78      0.63      0.65   3944547\n",
      "weighted avg       0.78      0.78      0.75   3944547\n",
      "\n"
     ]
    },
    {
     "name": "stderr",
     "output_type": "stream",
     "text": [
      "/rds/general/user/as9820/home/anaconda3/envs/test1/lib/python3.9/site-packages/sklearn/base.py:443: UserWarning: X has feature names, but RandomForestClassifier was fitted without feature names\n",
      "  warnings.warn(\n",
      "/rds/general/user/as9820/home/anaconda3/envs/test1/lib/python3.9/site-packages/sklearn/utils/validation.py:623: FutureWarning: is_sparse is deprecated and will be removed in a future version. Check `isinstance(dtype, pd.SparseDtype)` instead.\n",
      "  if not hasattr(array, \"sparse\") and array.dtypes.apply(is_sparse).any():\n"
     ]
    },
    {
     "name": "stdout",
     "output_type": "stream",
     "text": [
      "52 0.7554320684773694\n"
     ]
    },
    {
     "name": "stderr",
     "output_type": "stream",
     "text": [
      "/rds/general/user/as9820/home/anaconda3/envs/test1/lib/python3.9/site-packages/sklearn/metrics/_classification.py:1318: UndefinedMetricWarning: Recall and F-score are ill-defined and being set to 0.0 in labels with no true samples. Use `zero_division` parameter to control this behavior.\n",
      "  _warn_prf(average, modifier, msg_start, len(result))\n",
      "/rds/general/user/as9820/home/anaconda3/envs/test1/lib/python3.9/site-packages/sklearn/metrics/_classification.py:1318: UndefinedMetricWarning: Recall and F-score are ill-defined and being set to 0.0 in labels with no true samples. Use `zero_division` parameter to control this behavior.\n",
      "  _warn_prf(average, modifier, msg_start, len(result))\n",
      "/rds/general/user/as9820/home/anaconda3/envs/test1/lib/python3.9/site-packages/sklearn/metrics/_classification.py:1318: UndefinedMetricWarning: Recall and F-score are ill-defined and being set to 0.0 in labels with no true samples. Use `zero_division` parameter to control this behavior.\n",
      "  _warn_prf(average, modifier, msg_start, len(result))\n"
     ]
    },
    {
     "name": "stdout",
     "output_type": "stream",
     "text": [
      "              precision    recall  f1-score   support\n",
      "\n",
      "           7       0.85      0.29      0.43     70364\n",
      "           8       0.52      0.90      0.66    233774\n",
      "           9       0.29      0.04      0.08     59744\n",
      "          10       0.91      0.91      0.91     90648\n",
      "          12       0.85      0.47      0.61     52731\n",
      "          14       0.80      0.78      0.79     74399\n",
      "          15       0.50      0.69      0.58    112048\n",
      "          16       0.70      0.64      0.67    719501\n",
      "          17       0.96      0.38      0.54     33769\n",
      "          18       0.96      0.97      0.96    408730\n",
      "          19       0.61      0.09      0.15    225339\n",
      "          20       0.69      0.58      0.63      6700\n",
      "          22       0.82      1.00      0.90    433777\n",
      "          23       0.52      0.51      0.51     25361\n",
      "          24       0.62      0.15      0.24     75146\n",
      "          25       0.57      0.96      0.72     27515\n",
      "          27       0.99      0.48      0.65     42864\n",
      "          28       0.78      0.93      0.85    870189\n",
      "          29       0.98      0.52      0.68     35751\n",
      "          33       0.00      0.00      0.00         0\n",
      "          35       0.95      0.99      0.97    132004\n",
      "          36       1.00      0.67      0.80     11737\n",
      "          38       0.99      0.40      0.56     25446\n",
      "          39       0.66      0.58      0.62     10996\n",
      "\n",
      "    accuracy                           0.76   3778533\n",
      "   macro avg       0.73      0.58      0.60   3778533\n",
      "weighted avg       0.76      0.76      0.73   3778533\n",
      "\n"
     ]
    },
    {
     "name": "stderr",
     "output_type": "stream",
     "text": [
      "/rds/general/user/as9820/home/anaconda3/envs/test1/lib/python3.9/site-packages/sklearn/base.py:443: UserWarning: X has feature names, but RandomForestClassifier was fitted without feature names\n",
      "  warnings.warn(\n",
      "/rds/general/user/as9820/home/anaconda3/envs/test1/lib/python3.9/site-packages/sklearn/utils/validation.py:623: FutureWarning: is_sparse is deprecated and will be removed in a future version. Check `isinstance(dtype, pd.SparseDtype)` instead.\n",
      "  if not hasattr(array, \"sparse\") and array.dtypes.apply(is_sparse).any():\n"
     ]
    },
    {
     "name": "stdout",
     "output_type": "stream",
     "text": [
      "1 0.763296932769441\n"
     ]
    },
    {
     "name": "stderr",
     "output_type": "stream",
     "text": [
      "/rds/general/user/as9820/home/anaconda3/envs/test1/lib/python3.9/site-packages/sklearn/metrics/_classification.py:1318: UndefinedMetricWarning: Recall and F-score are ill-defined and being set to 0.0 in labels with no true samples. Use `zero_division` parameter to control this behavior.\n",
      "  _warn_prf(average, modifier, msg_start, len(result))\n",
      "/rds/general/user/as9820/home/anaconda3/envs/test1/lib/python3.9/site-packages/sklearn/metrics/_classification.py:1318: UndefinedMetricWarning: Recall and F-score are ill-defined and being set to 0.0 in labels with no true samples. Use `zero_division` parameter to control this behavior.\n",
      "  _warn_prf(average, modifier, msg_start, len(result))\n",
      "/rds/general/user/as9820/home/anaconda3/envs/test1/lib/python3.9/site-packages/sklearn/metrics/_classification.py:1318: UndefinedMetricWarning: Recall and F-score are ill-defined and being set to 0.0 in labels with no true samples. Use `zero_division` parameter to control this behavior.\n",
      "  _warn_prf(average, modifier, msg_start, len(result))\n"
     ]
    },
    {
     "name": "stdout",
     "output_type": "stream",
     "text": [
      "              precision    recall  f1-score   support\n",
      "\n",
      "           7       0.84      0.29      0.43     70379\n",
      "           8       0.52      0.90      0.66    230401\n",
      "           9       0.78      0.32      0.46     70491\n",
      "          10       0.92      0.92      0.92     90415\n",
      "          12       0.86      0.48      0.61     51956\n",
      "          14       0.80      0.80      0.80     74141\n",
      "          15       0.47      0.69      0.56    111869\n",
      "          16       0.67      0.65      0.66    717339\n",
      "          17       0.95      0.39      0.55     34639\n",
      "          18       0.96      0.97      0.96    408218\n",
      "          19       0.59      0.09      0.16    223549\n",
      "          20       0.71      0.57      0.63      7071\n",
      "          22       0.88      1.00      0.94    596785\n",
      "          23       0.52      0.53      0.52     24271\n",
      "          24       0.53      0.12      0.19     72138\n",
      "          25       0.58      0.96      0.73     27807\n",
      "          27       0.99      0.48      0.64     41440\n",
      "          28       0.78      0.89      0.83    870917\n",
      "          29       0.98      0.48      0.65     35711\n",
      "          33       0.00      0.00      0.00         0\n",
      "          35       0.96      0.98      0.97    132799\n",
      "          36       1.00      0.67      0.80     11734\n",
      "          38       0.98      0.40      0.56     25427\n",
      "          39       0.65      0.56      0.60     10735\n",
      "\n",
      "    accuracy                           0.76   3940232\n",
      "   macro avg       0.75      0.59      0.62   3940232\n",
      "weighted avg       0.77      0.76      0.74   3940232\n",
      "\n"
     ]
    },
    {
     "name": "stderr",
     "output_type": "stream",
     "text": [
      "/rds/general/user/as9820/home/anaconda3/envs/test1/lib/python3.9/site-packages/sklearn/base.py:443: UserWarning: X has feature names, but RandomForestClassifier was fitted without feature names\n",
      "  warnings.warn(\n",
      "/rds/general/user/as9820/home/anaconda3/envs/test1/lib/python3.9/site-packages/sklearn/utils/validation.py:623: FutureWarning: is_sparse is deprecated and will be removed in a future version. Check `isinstance(dtype, pd.SparseDtype)` instead.\n",
      "  if not hasattr(array, \"sparse\") and array.dtypes.apply(is_sparse).any():\n"
     ]
    },
    {
     "name": "stdout",
     "output_type": "stream",
     "text": [
      "2 0.7246382417220367\n"
     ]
    },
    {
     "name": "stderr",
     "output_type": "stream",
     "text": [
      "/rds/general/user/as9820/home/anaconda3/envs/test1/lib/python3.9/site-packages/sklearn/metrics/_classification.py:1318: UndefinedMetricWarning: Precision and F-score are ill-defined and being set to 0.0 in labels with no predicted samples. Use `zero_division` parameter to control this behavior.\n",
      "  _warn_prf(average, modifier, msg_start, len(result))\n",
      "/rds/general/user/as9820/home/anaconda3/envs/test1/lib/python3.9/site-packages/sklearn/metrics/_classification.py:1318: UndefinedMetricWarning: Precision and F-score are ill-defined and being set to 0.0 in labels with no predicted samples. Use `zero_division` parameter to control this behavior.\n",
      "  _warn_prf(average, modifier, msg_start, len(result))\n",
      "/rds/general/user/as9820/home/anaconda3/envs/test1/lib/python3.9/site-packages/sklearn/metrics/_classification.py:1318: UndefinedMetricWarning: Precision and F-score are ill-defined and being set to 0.0 in labels with no predicted samples. Use `zero_division` parameter to control this behavior.\n",
      "  _warn_prf(average, modifier, msg_start, len(result))\n"
     ]
    },
    {
     "name": "stdout",
     "output_type": "stream",
     "text": [
      "              precision    recall  f1-score   support\n",
      "\n",
      "           7       0.88      0.29      0.44     70198\n",
      "           8       0.16      0.86      0.27     45366\n",
      "           9       0.07      0.02      0.03     12587\n",
      "          10       0.94      0.92      0.93     83357\n",
      "          12       0.86      0.47      0.61     49881\n",
      "          14       0.80      0.80      0.80     72818\n",
      "          15       0.50      0.70      0.58    109373\n",
      "          16       0.63      0.49      0.55    724282\n",
      "          17       0.72      0.39      0.50      7572\n",
      "          18       0.97      0.97      0.97    409331\n",
      "          19       0.67      0.04      0.08    215858\n",
      "          20       0.65      0.57      0.61      7003\n",
      "          22       0.90      1.00      0.95    535039\n",
      "          23       0.34      0.12      0.17     41581\n",
      "          24       0.23      0.11      0.15     15031\n",
      "          25       0.23      0.96      0.37      6400\n",
      "          27       0.99      0.52      0.68     43962\n",
      "          28       0.69      0.87      0.77    860832\n",
      "          29       0.97      0.49      0.65     36238\n",
      "          33       0.78      0.74      0.76     63630\n",
      "          35       0.94      0.98      0.96    133799\n",
      "          36       1.00      0.67      0.80     11735\n",
      "          38       0.99      0.40      0.57     25196\n",
      "          39       0.73      0.64      0.68     12596\n",
      "          40       0.00      0.00      0.00        33\n",
      "\n",
      "    accuracy                           0.72   3593698\n",
      "   macro avg       0.67      0.56      0.55   3593698\n",
      "weighted avg       0.75      0.72      0.71   3593698\n",
      "\n"
     ]
    },
    {
     "name": "stderr",
     "output_type": "stream",
     "text": [
      "/rds/general/user/as9820/home/anaconda3/envs/test1/lib/python3.9/site-packages/sklearn/base.py:443: UserWarning: X has feature names, but RandomForestClassifier was fitted without feature names\n",
      "  warnings.warn(\n",
      "/rds/general/user/as9820/home/anaconda3/envs/test1/lib/python3.9/site-packages/sklearn/utils/validation.py:623: FutureWarning: is_sparse is deprecated and will be removed in a future version. Check `isinstance(dtype, pd.SparseDtype)` instead.\n",
      "  if not hasattr(array, \"sparse\") and array.dtypes.apply(is_sparse).any():\n"
     ]
    },
    {
     "name": "stdout",
     "output_type": "stream",
     "text": [
      "3 0.6875126086320178\n",
      "              precision    recall  f1-score   support\n",
      "\n",
      "           7       0.90      0.29      0.44     63386\n",
      "           8       0.47      0.89      0.61    178544\n",
      "           9       0.92      0.42      0.58     60345\n",
      "          10       0.94      0.86      0.90     49967\n",
      "          12       0.85      0.45      0.58     44468\n",
      "          14       0.78      0.81      0.79     60771\n",
      "          15       0.45      0.68      0.54     93536\n",
      "          16       0.59      0.58      0.59    653048\n",
      "          17       0.94      0.50      0.65     21947\n",
      "          18       0.97      0.97      0.97    368598\n",
      "          19       0.48      0.06      0.10    200964\n",
      "          20       0.83      0.50      0.62      7962\n",
      "          22       0.31      0.66      0.42     41128\n",
      "          23       0.28      0.33      0.30     14082\n",
      "          24       0.47      0.13      0.20     57233\n",
      "          25       0.55      0.96      0.70     22444\n",
      "          27       0.97      0.46      0.62     35782\n",
      "          28       0.73      0.84      0.78    789481\n",
      "          29       0.97      0.49      0.65     30168\n",
      "          33       0.78      0.69      0.73     60580\n",
      "          35       0.88      0.98      0.93    134116\n",
      "          36       1.00      0.67      0.80     11736\n",
      "          38       0.98      0.40      0.56     23166\n",
      "          39       0.65      0.59      0.62     10184\n",
      "\n",
      "    accuracy                           0.69   3033636\n",
      "   macro avg       0.74      0.59      0.61   3033636\n",
      "weighted avg       0.70      0.69      0.67   3033636\n",
      "\n"
     ]
    },
    {
     "name": "stderr",
     "output_type": "stream",
     "text": [
      "/rds/general/user/as9820/home/anaconda3/envs/test1/lib/python3.9/site-packages/sklearn/base.py:443: UserWarning: X has feature names, but RandomForestClassifier was fitted without feature names\n",
      "  warnings.warn(\n",
      "/rds/general/user/as9820/home/anaconda3/envs/test1/lib/python3.9/site-packages/sklearn/utils/validation.py:623: FutureWarning: is_sparse is deprecated and will be removed in a future version. Check `isinstance(dtype, pd.SparseDtype)` instead.\n",
      "  if not hasattr(array, \"sparse\") and array.dtypes.apply(is_sparse).any():\n"
     ]
    },
    {
     "name": "stdout",
     "output_type": "stream",
     "text": [
      "4 0.6890038709062362\n"
     ]
    },
    {
     "name": "stderr",
     "output_type": "stream",
     "text": [
      "/rds/general/user/as9820/home/anaconda3/envs/test1/lib/python3.9/site-packages/sklearn/metrics/_classification.py:1318: UndefinedMetricWarning: Precision and F-score are ill-defined and being set to 0.0 in labels with no predicted samples. Use `zero_division` parameter to control this behavior.\n",
      "  _warn_prf(average, modifier, msg_start, len(result))\n",
      "/rds/general/user/as9820/home/anaconda3/envs/test1/lib/python3.9/site-packages/sklearn/metrics/_classification.py:1318: UndefinedMetricWarning: Precision and F-score are ill-defined and being set to 0.0 in labels with no predicted samples. Use `zero_division` parameter to control this behavior.\n",
      "  _warn_prf(average, modifier, msg_start, len(result))\n",
      "/rds/general/user/as9820/home/anaconda3/envs/test1/lib/python3.9/site-packages/sklearn/metrics/_classification.py:1318: UndefinedMetricWarning: Precision and F-score are ill-defined and being set to 0.0 in labels with no predicted samples. Use `zero_division` parameter to control this behavior.\n",
      "  _warn_prf(average, modifier, msg_start, len(result))\n"
     ]
    },
    {
     "name": "stdout",
     "output_type": "stream",
     "text": [
      "              precision    recall  f1-score   support\n",
      "\n",
      "           7       0.88      0.29      0.44     62563\n",
      "           8       0.49      0.90      0.64    196288\n",
      "           9       0.33      0.23      0.27     59222\n",
      "          10       0.97      0.82      0.89     70757\n",
      "          12       0.84      0.44      0.58     43098\n",
      "          14       0.74      0.81      0.77     58946\n",
      "          15       0.44      0.67      0.53     94104\n",
      "          16       0.55      0.45      0.49    655650\n",
      "          17       0.87      0.49      0.63     22568\n",
      "          18       0.97      0.97      0.97    364977\n",
      "          19       0.47      0.05      0.10    199679\n",
      "          20       0.87      0.54      0.66      6721\n",
      "          22       0.83      0.99      0.90    407463\n",
      "          23       0.15      0.04      0.06     50531\n",
      "          24       0.50      0.10      0.16     65599\n",
      "          25       0.43      0.77      0.55     24536\n",
      "          27       0.97      0.44      0.61     34370\n",
      "          28       0.67      0.86      0.75    782266\n",
      "          29       0.95      0.40      0.56     25079\n",
      "          33       0.72      0.64      0.67     48435\n",
      "          35       0.92      0.98      0.95    120045\n",
      "          36       1.00      0.66      0.79     10675\n",
      "          38       0.98      0.39      0.56     22843\n",
      "          39       0.73      0.62      0.67     13823\n",
      "          40       0.00      0.00      0.00       300\n",
      "\n",
      "    accuracy                           0.69   3440538\n",
      "   macro avg       0.69      0.54      0.57   3440538\n",
      "weighted avg       0.68      0.69      0.66   3440538\n",
      "\n"
     ]
    },
    {
     "name": "stderr",
     "output_type": "stream",
     "text": [
      "/rds/general/user/as9820/home/anaconda3/envs/test1/lib/python3.9/site-packages/sklearn/base.py:443: UserWarning: X has feature names, but RandomForestClassifier was fitted without feature names\n",
      "  warnings.warn(\n",
      "/rds/general/user/as9820/home/anaconda3/envs/test1/lib/python3.9/site-packages/sklearn/utils/validation.py:623: FutureWarning: is_sparse is deprecated and will be removed in a future version. Check `isinstance(dtype, pd.SparseDtype)` instead.\n",
      "  if not hasattr(array, \"sparse\") and array.dtypes.apply(is_sparse).any():\n"
     ]
    },
    {
     "name": "stdout",
     "output_type": "stream",
     "text": [
      "5 0.7034855653656326\n"
     ]
    },
    {
     "name": "stderr",
     "output_type": "stream",
     "text": [
      "/rds/general/user/as9820/home/anaconda3/envs/test1/lib/python3.9/site-packages/sklearn/metrics/_classification.py:1318: UndefinedMetricWarning: Precision and F-score are ill-defined and being set to 0.0 in labels with no predicted samples. Use `zero_division` parameter to control this behavior.\n",
      "  _warn_prf(average, modifier, msg_start, len(result))\n",
      "/rds/general/user/as9820/home/anaconda3/envs/test1/lib/python3.9/site-packages/sklearn/metrics/_classification.py:1318: UndefinedMetricWarning: Precision and F-score are ill-defined and being set to 0.0 in labels with no predicted samples. Use `zero_division` parameter to control this behavior.\n",
      "  _warn_prf(average, modifier, msg_start, len(result))\n",
      "/rds/general/user/as9820/home/anaconda3/envs/test1/lib/python3.9/site-packages/sklearn/metrics/_classification.py:1318: UndefinedMetricWarning: Precision and F-score are ill-defined and being set to 0.0 in labels with no predicted samples. Use `zero_division` parameter to control this behavior.\n",
      "  _warn_prf(average, modifier, msg_start, len(result))\n"
     ]
    },
    {
     "name": "stdout",
     "output_type": "stream",
     "text": [
      "              precision    recall  f1-score   support\n",
      "\n",
      "           7       0.83      0.29      0.43     70311\n",
      "           8       0.51      0.89      0.65    226493\n",
      "           9       0.65      0.33      0.44     71633\n",
      "          10       0.92      0.86      0.89     99662\n",
      "          12       0.83      0.39      0.53     48459\n",
      "          14       0.77      0.79      0.78     72425\n",
      "          15       0.45      0.67      0.53    107501\n",
      "          16       0.56      0.48      0.52    769799\n",
      "          17       0.88      0.50      0.63     24922\n",
      "          18       0.96      0.97      0.97    412279\n",
      "          19       0.56      0.07      0.12    219454\n",
      "          20       0.69      0.54      0.60      7473\n",
      "          22       0.85      1.00      0.92    582582\n",
      "          23       0.38      0.13      0.19     62764\n",
      "          24       0.61      0.21      0.31     83340\n",
      "          25       0.44      0.75      0.56     27630\n",
      "          27       0.98      0.42      0.59     37707\n",
      "          28       0.66      0.84      0.74    872827\n",
      "          29       0.95      0.44      0.60     28571\n",
      "          33       0.70      0.64      0.66     50423\n",
      "          35       0.94      0.98      0.96    132907\n",
      "          36       0.98      0.66      0.79     11805\n",
      "          38       0.98      0.39      0.56     25667\n",
      "          39       0.77      0.67      0.72     17921\n",
      "          40       0.00      0.00      0.00      1672\n",
      "\n",
      "    accuracy                           0.70   4066227\n",
      "   macro avg       0.71      0.56      0.59   4066227\n",
      "weighted avg       0.70      0.70      0.68   4066227\n",
      "\n"
     ]
    },
    {
     "name": "stderr",
     "output_type": "stream",
     "text": [
      "/rds/general/user/as9820/home/anaconda3/envs/test1/lib/python3.9/site-packages/sklearn/base.py:443: UserWarning: X has feature names, but RandomForestClassifier was fitted without feature names\n",
      "  warnings.warn(\n",
      "/rds/general/user/as9820/home/anaconda3/envs/test1/lib/python3.9/site-packages/sklearn/utils/validation.py:623: FutureWarning: is_sparse is deprecated and will be removed in a future version. Check `isinstance(dtype, pd.SparseDtype)` instead.\n",
      "  if not hasattr(array, \"sparse\") and array.dtypes.apply(is_sparse).any():\n"
     ]
    },
    {
     "name": "stdout",
     "output_type": "stream",
     "text": [
      "6 0.7130896878373106\n"
     ]
    },
    {
     "name": "stderr",
     "output_type": "stream",
     "text": [
      "/rds/general/user/as9820/home/anaconda3/envs/test1/lib/python3.9/site-packages/sklearn/metrics/_classification.py:1318: UndefinedMetricWarning: Precision and F-score are ill-defined and being set to 0.0 in labels with no predicted samples. Use `zero_division` parameter to control this behavior.\n",
      "  _warn_prf(average, modifier, msg_start, len(result))\n",
      "/rds/general/user/as9820/home/anaconda3/envs/test1/lib/python3.9/site-packages/sklearn/metrics/_classification.py:1318: UndefinedMetricWarning: Precision and F-score are ill-defined and being set to 0.0 in labels with no predicted samples. Use `zero_division` parameter to control this behavior.\n",
      "  _warn_prf(average, modifier, msg_start, len(result))\n",
      "/rds/general/user/as9820/home/anaconda3/envs/test1/lib/python3.9/site-packages/sklearn/metrics/_classification.py:1318: UndefinedMetricWarning: Precision and F-score are ill-defined and being set to 0.0 in labels with no predicted samples. Use `zero_division` parameter to control this behavior.\n",
      "  _warn_prf(average, modifier, msg_start, len(result))\n"
     ]
    },
    {
     "name": "stdout",
     "output_type": "stream",
     "text": [
      "              precision    recall  f1-score   support\n",
      "\n",
      "           7       0.84      0.29      0.43     69985\n",
      "           8       0.50      0.89      0.64    222672\n",
      "           9       0.40      0.21      0.28     67952\n",
      "          10       0.89      0.89      0.89     71466\n",
      "          12       0.80      0.32      0.46     49483\n",
      "          14       0.81      0.81      0.81     69465\n",
      "          15       0.40      0.68      0.50     81676\n",
      "          16       0.50      0.54      0.52    459253\n",
      "          17       0.92      0.50      0.64     24156\n",
      "          18       0.97      0.97      0.97    410825\n",
      "          19       0.52      0.06      0.11    224250\n",
      "          20       0.72      0.55      0.62      7318\n",
      "          22       0.86      1.00      0.93    542587\n",
      "          23       0.48      0.21      0.30     59528\n",
      "          24       0.64      0.27      0.38     90574\n",
      "          25       0.54      0.95      0.69     26398\n",
      "          27       0.98      0.42      0.59     37877\n",
      "          28       0.70      0.82      0.76    554790\n",
      "          29       0.97      0.43      0.59     27824\n",
      "          33       0.82      0.64      0.72     61379\n",
      "          35       0.91      0.98      0.94    130190\n",
      "          36       1.00      0.66      0.80     11813\n",
      "          38       0.99      0.39      0.56     25764\n",
      "          39       0.72      0.65      0.68     14175\n",
      "          40       0.00      0.00      0.00      1216\n",
      "\n",
      "    accuracy                           0.71   3342616\n",
      "   macro avg       0.72      0.57      0.59   3342616\n",
      "weighted avg       0.72      0.71      0.69   3342616\n",
      "\n"
     ]
    },
    {
     "name": "stderr",
     "output_type": "stream",
     "text": [
      "/rds/general/user/as9820/home/anaconda3/envs/test1/lib/python3.9/site-packages/sklearn/base.py:443: UserWarning: X has feature names, but RandomForestClassifier was fitted without feature names\n",
      "  warnings.warn(\n",
      "/rds/general/user/as9820/home/anaconda3/envs/test1/lib/python3.9/site-packages/sklearn/utils/validation.py:623: FutureWarning: is_sparse is deprecated and will be removed in a future version. Check `isinstance(dtype, pd.SparseDtype)` instead.\n",
      "  if not hasattr(array, \"sparse\") and array.dtypes.apply(is_sparse).any():\n"
     ]
    },
    {
     "name": "stdout",
     "output_type": "stream",
     "text": [
      "7 0.7132477697387536\n"
     ]
    },
    {
     "name": "stderr",
     "output_type": "stream",
     "text": [
      "/rds/general/user/as9820/home/anaconda3/envs/test1/lib/python3.9/site-packages/sklearn/metrics/_classification.py:1318: UndefinedMetricWarning: Recall and F-score are ill-defined and being set to 0.0 in labels with no true samples. Use `zero_division` parameter to control this behavior.\n",
      "  _warn_prf(average, modifier, msg_start, len(result))\n",
      "/rds/general/user/as9820/home/anaconda3/envs/test1/lib/python3.9/site-packages/sklearn/metrics/_classification.py:1318: UndefinedMetricWarning: Recall and F-score are ill-defined and being set to 0.0 in labels with no true samples. Use `zero_division` parameter to control this behavior.\n",
      "  _warn_prf(average, modifier, msg_start, len(result))\n",
      "/rds/general/user/as9820/home/anaconda3/envs/test1/lib/python3.9/site-packages/sklearn/metrics/_classification.py:1318: UndefinedMetricWarning: Recall and F-score are ill-defined and being set to 0.0 in labels with no true samples. Use `zero_division` parameter to control this behavior.\n",
      "  _warn_prf(average, modifier, msg_start, len(result))\n"
     ]
    },
    {
     "name": "stdout",
     "output_type": "stream",
     "text": [
      "              precision    recall  f1-score   support\n",
      "\n",
      "           7       0.82      0.29      0.43     70226\n",
      "           8       0.51      0.90      0.65    225520\n",
      "           9       0.30      0.15      0.20     68416\n",
      "          10       0.88      0.84      0.86     75191\n",
      "          12       0.78      0.27      0.40     51810\n",
      "          14       0.88      0.78      0.83     73304\n",
      "          15       0.28      0.76      0.40     39271\n",
      "          16       0.00      0.00      0.00         0\n",
      "          17       0.95      0.49      0.65     24035\n",
      "          18       0.98      0.97      0.98    411803\n",
      "          19       0.54      0.07      0.12    219862\n",
      "          20       0.70      0.57      0.63      6627\n",
      "          22       0.87      1.00      0.93    488089\n",
      "          23       0.50      0.22      0.30     59630\n",
      "          24       0.67      0.25      0.37     88859\n",
      "          25       0.55      0.96      0.70     26434\n",
      "          27       0.99      0.47      0.64     40052\n",
      "          28       0.00      0.00      0.00         0\n",
      "          29       0.99      0.42      0.59     27686\n",
      "          33       0.96      0.65      0.78     60512\n",
      "          35       0.88      0.98      0.93    125076\n",
      "          36       1.00      0.67      0.80     11733\n",
      "          38       0.99      0.40      0.57     25447\n",
      "          39       0.67      0.55      0.61     10649\n",
      "\n",
      "    accuracy                           0.71   2230232\n",
      "   macro avg       0.70      0.53      0.56   2230232\n",
      "weighted avg       0.78      0.71      0.70   2230232\n",
      "\n"
     ]
    },
    {
     "name": "stderr",
     "output_type": "stream",
     "text": [
      "/rds/general/user/as9820/home/anaconda3/envs/test1/lib/python3.9/site-packages/sklearn/base.py:443: UserWarning: X has feature names, but RandomForestClassifier was fitted without feature names\n",
      "  warnings.warn(\n",
      "/rds/general/user/as9820/home/anaconda3/envs/test1/lib/python3.9/site-packages/sklearn/utils/validation.py:623: FutureWarning: is_sparse is deprecated and will be removed in a future version. Check `isinstance(dtype, pd.SparseDtype)` instead.\n",
      "  if not hasattr(array, \"sparse\") and array.dtypes.apply(is_sparse).any():\n"
     ]
    },
    {
     "name": "stdout",
     "output_type": "stream",
     "text": [
      "8 0.7035576863418538\n",
      "              precision    recall  f1-score   support\n",
      "\n",
      "           7       0.81      0.29      0.43     70345\n",
      "           8       0.50      0.89      0.64    222122\n",
      "           9       0.04      0.02      0.03     35679\n",
      "          10       0.86      0.88      0.87     82769\n",
      "          12       0.81      0.32      0.46     54906\n",
      "          14       0.81      0.77      0.79     74216\n",
      "          15       0.38      0.69      0.49     67592\n",
      "          16       0.38      0.41      0.39    281797\n",
      "          17       0.88      0.47      0.61     25830\n",
      "          18       0.98      0.97      0.97    411608\n",
      "          19       0.49      0.06      0.11    221747\n",
      "          20       0.69      0.56      0.62      6901\n",
      "          22       0.87      1.00      0.93    513784\n",
      "          23       0.44      0.23      0.30     41180\n",
      "          24       0.66      0.22      0.33     87088\n",
      "          25       0.56      0.96      0.70     26738\n",
      "          27       0.94      0.47      0.63     41168\n",
      "          28       0.63      0.82      0.71    311806\n",
      "          29       0.97      0.42      0.59     27843\n",
      "          33       0.83      0.62      0.71     61255\n",
      "          35       0.90      0.98      0.94    128066\n",
      "          36       1.00      0.64      0.78     21019\n",
      "          38       0.98      0.39      0.56     25735\n",
      "          39       0.67      0.57      0.61     11587\n",
      "\n",
      "    accuracy                           0.70   2852781\n",
      "   macro avg       0.71      0.57      0.59   2852781\n",
      "weighted avg       0.71      0.70      0.67   2852781\n",
      "\n"
     ]
    },
    {
     "name": "stderr",
     "output_type": "stream",
     "text": [
      "/rds/general/user/as9820/home/anaconda3/envs/test1/lib/python3.9/site-packages/sklearn/base.py:443: UserWarning: X has feature names, but RandomForestClassifier was fitted without feature names\n",
      "  warnings.warn(\n",
      "/rds/general/user/as9820/home/anaconda3/envs/test1/lib/python3.9/site-packages/sklearn/utils/validation.py:623: FutureWarning: is_sparse is deprecated and will be removed in a future version. Check `isinstance(dtype, pd.SparseDtype)` instead.\n",
      "  if not hasattr(array, \"sparse\") and array.dtypes.apply(is_sparse).any():\n"
     ]
    },
    {
     "name": "stdout",
     "output_type": "stream",
     "text": [
      "9 0.7289595480301382\n"
     ]
    },
    {
     "name": "stderr",
     "output_type": "stream",
     "text": [
      "/rds/general/user/as9820/home/anaconda3/envs/test1/lib/python3.9/site-packages/sklearn/metrics/_classification.py:1318: UndefinedMetricWarning: Recall and F-score are ill-defined and being set to 0.0 in labels with no true samples. Use `zero_division` parameter to control this behavior.\n",
      "  _warn_prf(average, modifier, msg_start, len(result))\n",
      "/rds/general/user/as9820/home/anaconda3/envs/test1/lib/python3.9/site-packages/sklearn/metrics/_classification.py:1318: UndefinedMetricWarning: Recall and F-score are ill-defined and being set to 0.0 in labels with no true samples. Use `zero_division` parameter to control this behavior.\n",
      "  _warn_prf(average, modifier, msg_start, len(result))\n",
      "/rds/general/user/as9820/home/anaconda3/envs/test1/lib/python3.9/site-packages/sklearn/metrics/_classification.py:1318: UndefinedMetricWarning: Recall and F-score are ill-defined and being set to 0.0 in labels with no true samples. Use `zero_division` parameter to control this behavior.\n",
      "  _warn_prf(average, modifier, msg_start, len(result))\n"
     ]
    },
    {
     "name": "stdout",
     "output_type": "stream",
     "text": [
      "              precision    recall  f1-score   support\n",
      "\n",
      "           7       0.88      0.29      0.44     62496\n",
      "           8       0.35      0.89      0.50    107452\n",
      "           9       0.00      0.00      0.00         0\n",
      "          10       0.96      0.93      0.94     78953\n",
      "          12       0.85      0.43      0.57     48087\n",
      "          14       0.00      0.00      0.00         0\n",
      "          15       0.49      0.66      0.57     92488\n",
      "          16       0.58      0.57      0.57    555279\n",
      "          17       0.92      0.53      0.67     22665\n",
      "          18       0.97      0.97      0.97    364013\n",
      "          19       0.68      0.07      0.12    196770\n",
      "          20       0.75      0.58      0.65      5606\n",
      "          22       0.90      1.00      0.94    531023\n",
      "          23       0.30      0.33      0.32     13862\n",
      "          24       0.79      0.31      0.44     84770\n",
      "          25       0.60      0.95      0.74     25683\n",
      "          27       0.95      0.47      0.63     35713\n",
      "          28       0.71      0.81      0.76    655130\n",
      "          29       0.94      0.35      0.51     21256\n",
      "          33       0.72      0.61      0.66     55016\n",
      "          35       0.96      0.98      0.97    117170\n",
      "          36       1.00      0.67      0.80     11067\n",
      "          38       0.98      0.39      0.56     22642\n",
      "          39       0.67      0.57      0.62     10235\n",
      "\n",
      "    accuracy                           0.73   3117376\n",
      "   macro avg       0.71      0.56      0.58   3117376\n",
      "weighted avg       0.76      0.73      0.71   3117376\n",
      "\n"
     ]
    },
    {
     "name": "stderr",
     "output_type": "stream",
     "text": [
      "/rds/general/user/as9820/home/anaconda3/envs/test1/lib/python3.9/site-packages/sklearn/base.py:443: UserWarning: X has feature names, but RandomForestClassifier was fitted without feature names\n",
      "  warnings.warn(\n",
      "/rds/general/user/as9820/home/anaconda3/envs/test1/lib/python3.9/site-packages/sklearn/utils/validation.py:623: FutureWarning: is_sparse is deprecated and will be removed in a future version. Check `isinstance(dtype, pd.SparseDtype)` instead.\n",
      "  if not hasattr(array, \"sparse\") and array.dtypes.apply(is_sparse).any():\n"
     ]
    },
    {
     "name": "stdout",
     "output_type": "stream",
     "text": [
      "10 0.6850245848468601\n"
     ]
    },
    {
     "name": "stderr",
     "output_type": "stream",
     "text": [
      "/rds/general/user/as9820/home/anaconda3/envs/test1/lib/python3.9/site-packages/sklearn/metrics/_classification.py:1318: UndefinedMetricWarning: Precision and F-score are ill-defined and being set to 0.0 in labels with no predicted samples. Use `zero_division` parameter to control this behavior.\n",
      "  _warn_prf(average, modifier, msg_start, len(result))\n",
      "/rds/general/user/as9820/home/anaconda3/envs/test1/lib/python3.9/site-packages/sklearn/metrics/_classification.py:1318: UndefinedMetricWarning: Recall and F-score are ill-defined and being set to 0.0 in labels with no true samples. Use `zero_division` parameter to control this behavior.\n",
      "  _warn_prf(average, modifier, msg_start, len(result))\n",
      "/rds/general/user/as9820/home/anaconda3/envs/test1/lib/python3.9/site-packages/sklearn/metrics/_classification.py:1318: UndefinedMetricWarning: Precision and F-score are ill-defined and being set to 0.0 in labels with no predicted samples. Use `zero_division` parameter to control this behavior.\n",
      "  _warn_prf(average, modifier, msg_start, len(result))\n",
      "/rds/general/user/as9820/home/anaconda3/envs/test1/lib/python3.9/site-packages/sklearn/metrics/_classification.py:1318: UndefinedMetricWarning: Recall and F-score are ill-defined and being set to 0.0 in labels with no true samples. Use `zero_division` parameter to control this behavior.\n",
      "  _warn_prf(average, modifier, msg_start, len(result))\n",
      "/rds/general/user/as9820/home/anaconda3/envs/test1/lib/python3.9/site-packages/sklearn/metrics/_classification.py:1318: UndefinedMetricWarning: Precision and F-score are ill-defined and being set to 0.0 in labels with no predicted samples. Use `zero_division` parameter to control this behavior.\n",
      "  _warn_prf(average, modifier, msg_start, len(result))\n",
      "/rds/general/user/as9820/home/anaconda3/envs/test1/lib/python3.9/site-packages/sklearn/metrics/_classification.py:1318: UndefinedMetricWarning: Recall and F-score are ill-defined and being set to 0.0 in labels with no true samples. Use `zero_division` parameter to control this behavior.\n",
      "  _warn_prf(average, modifier, msg_start, len(result))\n"
     ]
    },
    {
     "name": "stdout",
     "output_type": "stream",
     "text": [
      "              precision    recall  f1-score   support\n",
      "\n",
      "           7       0.86      0.32      0.47     55031\n",
      "           8       0.00      0.00      0.00         0\n",
      "           9       0.00      0.00      0.00         0\n",
      "          10       0.82      0.80      0.81     60072\n",
      "          12       0.23      0.53      0.32     41194\n",
      "          14       0.75      0.65      0.69     55736\n",
      "          15       0.33      0.52      0.40     66424\n",
      "          16       0.50      0.73      0.60    407018\n",
      "          17       0.58      0.31      0.40     20358\n",
      "          18       0.96      0.97      0.97    354232\n",
      "          19       1.00      0.94      0.97    191909\n",
      "          20       0.88      0.23      0.37      5259\n",
      "          22       0.45      0.88      0.59     53581\n",
      "          23       0.61      0.21      0.31     91973\n",
      "          24       0.69      0.39      0.50     91911\n",
      "          25       0.56      0.96      0.71     25017\n",
      "          27       1.00      0.52      0.68     30975\n",
      "          28       0.87      0.74      0.80    706807\n",
      "          29       0.86      0.32      0.47     20675\n",
      "          33       0.58      0.54      0.56     56725\n",
      "          35       0.02      0.00      0.00     69890\n",
      "          36       0.01      0.00      0.00     50994\n",
      "          38       0.99      0.40      0.57     22021\n",
      "          39       0.07      0.42      0.12      9349\n",
      "          40       0.00      0.00      0.00       967\n",
      "\n",
      "    accuracy                           0.69   2488118\n",
      "   macro avg       0.54      0.46      0.45   2488118\n",
      "weighted avg       0.72      0.69      0.68   2488118\n",
      "\n"
     ]
    },
    {
     "name": "stderr",
     "output_type": "stream",
     "text": [
      "/rds/general/user/as9820/home/anaconda3/envs/test1/lib/python3.9/site-packages/sklearn/base.py:443: UserWarning: X has feature names, but RandomForestClassifier was fitted without feature names\n",
      "  warnings.warn(\n",
      "/rds/general/user/as9820/home/anaconda3/envs/test1/lib/python3.9/site-packages/sklearn/utils/validation.py:623: FutureWarning: is_sparse is deprecated and will be removed in a future version. Check `isinstance(dtype, pd.SparseDtype)` instead.\n",
      "  if not hasattr(array, \"sparse\") and array.dtypes.apply(is_sparse).any():\n"
     ]
    },
    {
     "name": "stdout",
     "output_type": "stream",
     "text": [
      "11 0.688438400744692\n"
     ]
    },
    {
     "name": "stderr",
     "output_type": "stream",
     "text": [
      "/rds/general/user/as9820/home/anaconda3/envs/test1/lib/python3.9/site-packages/sklearn/metrics/_classification.py:1318: UndefinedMetricWarning: Precision and F-score are ill-defined and being set to 0.0 in labels with no predicted samples. Use `zero_division` parameter to control this behavior.\n",
      "  _warn_prf(average, modifier, msg_start, len(result))\n",
      "/rds/general/user/as9820/home/anaconda3/envs/test1/lib/python3.9/site-packages/sklearn/metrics/_classification.py:1318: UndefinedMetricWarning: Recall and F-score are ill-defined and being set to 0.0 in labels with no true samples. Use `zero_division` parameter to control this behavior.\n",
      "  _warn_prf(average, modifier, msg_start, len(result))\n",
      "/rds/general/user/as9820/home/anaconda3/envs/test1/lib/python3.9/site-packages/sklearn/metrics/_classification.py:1318: UndefinedMetricWarning: Precision and F-score are ill-defined and being set to 0.0 in labels with no predicted samples. Use `zero_division` parameter to control this behavior.\n",
      "  _warn_prf(average, modifier, msg_start, len(result))\n",
      "/rds/general/user/as9820/home/anaconda3/envs/test1/lib/python3.9/site-packages/sklearn/metrics/_classification.py:1318: UndefinedMetricWarning: Recall and F-score are ill-defined and being set to 0.0 in labels with no true samples. Use `zero_division` parameter to control this behavior.\n",
      "  _warn_prf(average, modifier, msg_start, len(result))\n",
      "/rds/general/user/as9820/home/anaconda3/envs/test1/lib/python3.9/site-packages/sklearn/metrics/_classification.py:1318: UndefinedMetricWarning: Precision and F-score are ill-defined and being set to 0.0 in labels with no predicted samples. Use `zero_division` parameter to control this behavior.\n",
      "  _warn_prf(average, modifier, msg_start, len(result))\n",
      "/rds/general/user/as9820/home/anaconda3/envs/test1/lib/python3.9/site-packages/sklearn/metrics/_classification.py:1318: UndefinedMetricWarning: Recall and F-score are ill-defined and being set to 0.0 in labels with no true samples. Use `zero_division` parameter to control this behavior.\n",
      "  _warn_prf(average, modifier, msg_start, len(result))\n"
     ]
    },
    {
     "name": "stdout",
     "output_type": "stream",
     "text": [
      "              precision    recall  f1-score   support\n",
      "\n",
      "           7       0.86      0.29      0.44     68400\n",
      "           8       0.00      0.00      0.00         0\n",
      "           9       0.00      0.00      0.00         0\n",
      "          10       0.80      0.80      0.80     63027\n",
      "          12       0.22      0.55      0.32     43952\n",
      "          14       0.73      0.65      0.69     63647\n",
      "          15       0.34      0.53      0.41     75692\n",
      "          16       0.54      0.71      0.61    514403\n",
      "          17       0.64      0.32      0.43     23516\n",
      "          18       0.96      0.97      0.97    399829\n",
      "          19       1.00      0.94      0.97    215803\n",
      "          20       0.90      0.23      0.37      5782\n",
      "          22       0.49      1.00      0.66     61958\n",
      "          23       0.45      0.23      0.31     46288\n",
      "          24       0.67      0.26      0.38     87341\n",
      "          25       0.64      0.96      0.76     25901\n",
      "          27       0.98      0.55      0.70     33004\n",
      "          28       0.83      0.74      0.78    737614\n",
      "          29       0.85      0.31      0.46     22580\n",
      "          33       0.60      0.54      0.57     65129\n",
      "          35       0.00      0.00      0.00     80383\n",
      "          36       0.00      0.00      0.00     58667\n",
      "          38       0.99      0.40      0.57     24813\n",
      "          39       0.06      0.36      0.10     10060\n",
      "          40       0.00      0.00      0.00       856\n",
      "\n",
      "    accuracy                           0.69   2728645\n",
      "   macro avg       0.54      0.45      0.45   2728645\n",
      "weighted avg       0.71      0.69      0.68   2728645\n",
      "\n"
     ]
    },
    {
     "name": "stderr",
     "output_type": "stream",
     "text": [
      "/rds/general/user/as9820/home/anaconda3/envs/test1/lib/python3.9/site-packages/sklearn/base.py:443: UserWarning: X has feature names, but RandomForestClassifier was fitted without feature names\n",
      "  warnings.warn(\n",
      "/rds/general/user/as9820/home/anaconda3/envs/test1/lib/python3.9/site-packages/sklearn/utils/validation.py:623: FutureWarning: is_sparse is deprecated and will be removed in a future version. Check `isinstance(dtype, pd.SparseDtype)` instead.\n",
      "  if not hasattr(array, \"sparse\") and array.dtypes.apply(is_sparse).any():\n"
     ]
    },
    {
     "name": "stdout",
     "output_type": "stream",
     "text": [
      "12 0.7280164014214064\n"
     ]
    },
    {
     "name": "stderr",
     "output_type": "stream",
     "text": [
      "/rds/general/user/as9820/home/anaconda3/envs/test1/lib/python3.9/site-packages/sklearn/metrics/_classification.py:1318: UndefinedMetricWarning: Precision and F-score are ill-defined and being set to 0.0 in labels with no predicted samples. Use `zero_division` parameter to control this behavior.\n",
      "  _warn_prf(average, modifier, msg_start, len(result))\n",
      "/rds/general/user/as9820/home/anaconda3/envs/test1/lib/python3.9/site-packages/sklearn/metrics/_classification.py:1318: UndefinedMetricWarning: Recall and F-score are ill-defined and being set to 0.0 in labels with no true samples. Use `zero_division` parameter to control this behavior.\n",
      "  _warn_prf(average, modifier, msg_start, len(result))\n",
      "/rds/general/user/as9820/home/anaconda3/envs/test1/lib/python3.9/site-packages/sklearn/metrics/_classification.py:1318: UndefinedMetricWarning: Precision and F-score are ill-defined and being set to 0.0 in labels with no predicted samples. Use `zero_division` parameter to control this behavior.\n",
      "  _warn_prf(average, modifier, msg_start, len(result))\n",
      "/rds/general/user/as9820/home/anaconda3/envs/test1/lib/python3.9/site-packages/sklearn/metrics/_classification.py:1318: UndefinedMetricWarning: Recall and F-score are ill-defined and being set to 0.0 in labels with no true samples. Use `zero_division` parameter to control this behavior.\n",
      "  _warn_prf(average, modifier, msg_start, len(result))\n",
      "/rds/general/user/as9820/home/anaconda3/envs/test1/lib/python3.9/site-packages/sklearn/metrics/_classification.py:1318: UndefinedMetricWarning: Precision and F-score are ill-defined and being set to 0.0 in labels with no predicted samples. Use `zero_division` parameter to control this behavior.\n",
      "  _warn_prf(average, modifier, msg_start, len(result))\n",
      "/rds/general/user/as9820/home/anaconda3/envs/test1/lib/python3.9/site-packages/sklearn/metrics/_classification.py:1318: UndefinedMetricWarning: Recall and F-score are ill-defined and being set to 0.0 in labels with no true samples. Use `zero_division` parameter to control this behavior.\n",
      "  _warn_prf(average, modifier, msg_start, len(result))\n"
     ]
    },
    {
     "name": "stdout",
     "output_type": "stream",
     "text": [
      "              precision    recall  f1-score   support\n",
      "\n",
      "           7       0.82      0.29      0.43     70174\n",
      "           8       0.00      0.00      0.00         0\n",
      "           9       0.55      0.43      0.48     47594\n",
      "          10       0.60      0.91      0.72     26363\n",
      "          12       0.18      0.53      0.27     13495\n",
      "          14       0.79      0.71      0.75     70610\n",
      "          15       0.20      0.47      0.28     45894\n",
      "          16       0.65      0.74      0.69    613142\n",
      "          17       0.68      0.33      0.44     23722\n",
      "          18       0.97      0.97      0.97    409069\n",
      "          19       1.00      0.92      0.96    223463\n",
      "          20       0.80      0.24      0.37      6018\n",
      "          21       0.00      0.00      0.00       362\n",
      "          22       0.23      1.00      0.38     22686\n",
      "          23       0.17      0.12      0.14     21111\n",
      "          24       0.82      0.24      0.37     90967\n",
      "          25       0.60      0.96      0.74     27370\n",
      "          27       0.95      0.47      0.63     31740\n",
      "          28       0.82      0.79      0.80    732202\n",
      "          29       0.91      0.39      0.55     26588\n",
      "          33       0.66      0.54      0.59     69484\n",
      "          35       0.00      0.00      0.00     29450\n",
      "          36       0.00      0.00      0.00     21493\n",
      "          38       0.99      0.40      0.57     25466\n",
      "          39       0.15      0.39      0.21     10791\n",
      "          40       0.00      0.00      0.00      1491\n",
      "\n",
      "    accuracy                           0.73   2660745\n",
      "   macro avg       0.52      0.45      0.44   2660745\n",
      "weighted avg       0.76      0.73      0.73   2660745\n",
      "\n"
     ]
    },
    {
     "name": "stderr",
     "output_type": "stream",
     "text": [
      "/rds/general/user/as9820/home/anaconda3/envs/test1/lib/python3.9/site-packages/sklearn/base.py:443: UserWarning: X has feature names, but RandomForestClassifier was fitted without feature names\n",
      "  warnings.warn(\n",
      "/rds/general/user/as9820/home/anaconda3/envs/test1/lib/python3.9/site-packages/sklearn/utils/validation.py:623: FutureWarning: is_sparse is deprecated and will be removed in a future version. Check `isinstance(dtype, pd.SparseDtype)` instead.\n",
      "  if not hasattr(array, \"sparse\") and array.dtypes.apply(is_sparse).any():\n"
     ]
    },
    {
     "name": "stdout",
     "output_type": "stream",
     "text": [
      "13 0.681298975364055\n"
     ]
    },
    {
     "name": "stderr",
     "output_type": "stream",
     "text": [
      "/rds/general/user/as9820/home/anaconda3/envs/test1/lib/python3.9/site-packages/sklearn/metrics/_classification.py:1318: UndefinedMetricWarning: Precision and F-score are ill-defined and being set to 0.0 in labels with no predicted samples. Use `zero_division` parameter to control this behavior.\n",
      "  _warn_prf(average, modifier, msg_start, len(result))\n",
      "/rds/general/user/as9820/home/anaconda3/envs/test1/lib/python3.9/site-packages/sklearn/metrics/_classification.py:1318: UndefinedMetricWarning: Recall and F-score are ill-defined and being set to 0.0 in labels with no true samples. Use `zero_division` parameter to control this behavior.\n",
      "  _warn_prf(average, modifier, msg_start, len(result))\n",
      "/rds/general/user/as9820/home/anaconda3/envs/test1/lib/python3.9/site-packages/sklearn/metrics/_classification.py:1318: UndefinedMetricWarning: Precision and F-score are ill-defined and being set to 0.0 in labels with no predicted samples. Use `zero_division` parameter to control this behavior.\n",
      "  _warn_prf(average, modifier, msg_start, len(result))\n",
      "/rds/general/user/as9820/home/anaconda3/envs/test1/lib/python3.9/site-packages/sklearn/metrics/_classification.py:1318: UndefinedMetricWarning: Recall and F-score are ill-defined and being set to 0.0 in labels with no true samples. Use `zero_division` parameter to control this behavior.\n",
      "  _warn_prf(average, modifier, msg_start, len(result))\n",
      "/rds/general/user/as9820/home/anaconda3/envs/test1/lib/python3.9/site-packages/sklearn/metrics/_classification.py:1318: UndefinedMetricWarning: Precision and F-score are ill-defined and being set to 0.0 in labels with no predicted samples. Use `zero_division` parameter to control this behavior.\n",
      "  _warn_prf(average, modifier, msg_start, len(result))\n",
      "/rds/general/user/as9820/home/anaconda3/envs/test1/lib/python3.9/site-packages/sklearn/metrics/_classification.py:1318: UndefinedMetricWarning: Recall and F-score are ill-defined and being set to 0.0 in labels with no true samples. Use `zero_division` parameter to control this behavior.\n",
      "  _warn_prf(average, modifier, msg_start, len(result))\n"
     ]
    },
    {
     "name": "stdout",
     "output_type": "stream",
     "text": [
      "              precision    recall  f1-score   support\n",
      "\n",
      "           7       0.80      0.29      0.43     69558\n",
      "           8       0.00      0.00      0.00         0\n",
      "           9       0.52      0.26      0.35     68216\n",
      "          10       0.00      0.00      0.00         0\n",
      "          12       0.00      0.00      0.00         0\n",
      "          14       0.78      0.69      0.74     71459\n",
      "          15       0.11      0.36      0.17     27343\n",
      "          16       0.57      0.56      0.57    623252\n",
      "          17       0.69      0.32      0.44     23022\n",
      "          18       0.97      0.97      0.97    405880\n",
      "          19       1.00      0.94      0.97    219673\n",
      "          20       0.79      0.24      0.36      5799\n",
      "          22       0.00      0.00      0.00         0\n",
      "          23       0.29      0.35      0.32     14990\n",
      "          24       0.82      0.28      0.42     93158\n",
      "          25       0.61      0.96      0.74     28072\n",
      "          27       0.95      0.46      0.62     37179\n",
      "          28       0.68      0.75      0.72    701538\n",
      "          29       0.92      0.38      0.54     26281\n",
      "          33       0.68      0.54      0.60     68048\n",
      "          35       0.00      0.00      0.00         0\n",
      "          36       0.00      0.00      0.00         0\n",
      "          38       0.99      0.40      0.57     25235\n",
      "          39       0.56      0.37      0.45     10316\n",
      "          40       0.00      0.00      0.00       998\n",
      "\n",
      "    accuracy                           0.68   2520017\n",
      "   macro avg       0.51      0.36      0.40   2520017\n",
      "weighted avg       0.74      0.68      0.69   2520017\n",
      "\n"
     ]
    },
    {
     "name": "stderr",
     "output_type": "stream",
     "text": [
      "/rds/general/user/as9820/home/anaconda3/envs/test1/lib/python3.9/site-packages/sklearn/base.py:443: UserWarning: X has feature names, but RandomForestClassifier was fitted without feature names\n",
      "  warnings.warn(\n",
      "/rds/general/user/as9820/home/anaconda3/envs/test1/lib/python3.9/site-packages/sklearn/utils/validation.py:623: FutureWarning: is_sparse is deprecated and will be removed in a future version. Check `isinstance(dtype, pd.SparseDtype)` instead.\n",
      "  if not hasattr(array, \"sparse\") and array.dtypes.apply(is_sparse).any():\n"
     ]
    },
    {
     "name": "stdout",
     "output_type": "stream",
     "text": [
      "14 0.6936950102511422\n"
     ]
    },
    {
     "name": "stderr",
     "output_type": "stream",
     "text": [
      "/rds/general/user/as9820/home/anaconda3/envs/test1/lib/python3.9/site-packages/sklearn/metrics/_classification.py:1318: UndefinedMetricWarning: Precision and F-score are ill-defined and being set to 0.0 in labels with no predicted samples. Use `zero_division` parameter to control this behavior.\n",
      "  _warn_prf(average, modifier, msg_start, len(result))\n",
      "/rds/general/user/as9820/home/anaconda3/envs/test1/lib/python3.9/site-packages/sklearn/metrics/_classification.py:1318: UndefinedMetricWarning: Recall and F-score are ill-defined and being set to 0.0 in labels with no true samples. Use `zero_division` parameter to control this behavior.\n",
      "  _warn_prf(average, modifier, msg_start, len(result))\n",
      "/rds/general/user/as9820/home/anaconda3/envs/test1/lib/python3.9/site-packages/sklearn/metrics/_classification.py:1318: UndefinedMetricWarning: Precision and F-score are ill-defined and being set to 0.0 in labels with no predicted samples. Use `zero_division` parameter to control this behavior.\n",
      "  _warn_prf(average, modifier, msg_start, len(result))\n",
      "/rds/general/user/as9820/home/anaconda3/envs/test1/lib/python3.9/site-packages/sklearn/metrics/_classification.py:1318: UndefinedMetricWarning: Recall and F-score are ill-defined and being set to 0.0 in labels with no true samples. Use `zero_division` parameter to control this behavior.\n",
      "  _warn_prf(average, modifier, msg_start, len(result))\n",
      "/rds/general/user/as9820/home/anaconda3/envs/test1/lib/python3.9/site-packages/sklearn/metrics/_classification.py:1318: UndefinedMetricWarning: Precision and F-score are ill-defined and being set to 0.0 in labels with no predicted samples. Use `zero_division` parameter to control this behavior.\n",
      "  _warn_prf(average, modifier, msg_start, len(result))\n",
      "/rds/general/user/as9820/home/anaconda3/envs/test1/lib/python3.9/site-packages/sklearn/metrics/_classification.py:1318: UndefinedMetricWarning: Recall and F-score are ill-defined and being set to 0.0 in labels with no true samples. Use `zero_division` parameter to control this behavior.\n",
      "  _warn_prf(average, modifier, msg_start, len(result))\n"
     ]
    },
    {
     "name": "stdout",
     "output_type": "stream",
     "text": [
      "              precision    recall  f1-score   support\n",
      "\n",
      "           7       0.80      0.29      0.43     69877\n",
      "           8       0.00      0.00      0.00         0\n",
      "           9       0.55      0.37      0.44     72466\n",
      "          10       0.00      0.00      0.00         0\n",
      "          12       0.00      0.00      0.00         0\n",
      "          14       0.81      0.64      0.72     72646\n",
      "          15       0.09      0.34      0.15     24796\n",
      "          16       0.49      0.66      0.56    332153\n",
      "          17       0.72      0.33      0.45     23026\n",
      "          18       0.98      0.97      0.97    409857\n",
      "          19       1.00      0.93      0.96    222734\n",
      "          20       0.84      0.23      0.37      5941\n",
      "          22       0.00      0.00      0.00         0\n",
      "          23       0.52      0.24      0.33     52459\n",
      "          24       0.69      0.24      0.35     84321\n",
      "          25       0.57      0.96      0.71     26362\n",
      "          27       0.94      0.44      0.60     30924\n",
      "          28       0.79      0.73      0.76    533305\n",
      "          29       0.92      0.39      0.54     26769\n",
      "          33       0.76      0.53      0.62     69831\n",
      "          35       0.00      0.00      0.00         0\n",
      "          36       0.00      0.00      0.00         0\n",
      "          38       0.99      0.40      0.57     25354\n",
      "          39       0.56      0.35      0.43     10464\n",
      "          40       0.00      0.00      0.00       628\n",
      "\n",
      "    accuracy                           0.69   2093913\n",
      "   macro avg       0.52      0.36      0.40   2093913\n",
      "weighted avg       0.78      0.69      0.71   2093913\n",
      "\n"
     ]
    },
    {
     "name": "stderr",
     "output_type": "stream",
     "text": [
      "/rds/general/user/as9820/home/anaconda3/envs/test1/lib/python3.9/site-packages/sklearn/base.py:443: UserWarning: X has feature names, but RandomForestClassifier was fitted without feature names\n",
      "  warnings.warn(\n",
      "/rds/general/user/as9820/home/anaconda3/envs/test1/lib/python3.9/site-packages/sklearn/utils/validation.py:623: FutureWarning: is_sparse is deprecated and will be removed in a future version. Check `isinstance(dtype, pd.SparseDtype)` instead.\n",
      "  if not hasattr(array, \"sparse\") and array.dtypes.apply(is_sparse).any():\n"
     ]
    },
    {
     "name": "stdout",
     "output_type": "stream",
     "text": [
      "15 0.6794732433345959\n"
     ]
    },
    {
     "name": "stderr",
     "output_type": "stream",
     "text": [
      "/rds/general/user/as9820/home/anaconda3/envs/test1/lib/python3.9/site-packages/sklearn/metrics/_classification.py:1318: UndefinedMetricWarning: Precision and F-score are ill-defined and being set to 0.0 in labels with no predicted samples. Use `zero_division` parameter to control this behavior.\n",
      "  _warn_prf(average, modifier, msg_start, len(result))\n",
      "/rds/general/user/as9820/home/anaconda3/envs/test1/lib/python3.9/site-packages/sklearn/metrics/_classification.py:1318: UndefinedMetricWarning: Recall and F-score are ill-defined and being set to 0.0 in labels with no true samples. Use `zero_division` parameter to control this behavior.\n",
      "  _warn_prf(average, modifier, msg_start, len(result))\n",
      "/rds/general/user/as9820/home/anaconda3/envs/test1/lib/python3.9/site-packages/sklearn/metrics/_classification.py:1318: UndefinedMetricWarning: Precision and F-score are ill-defined and being set to 0.0 in labels with no predicted samples. Use `zero_division` parameter to control this behavior.\n",
      "  _warn_prf(average, modifier, msg_start, len(result))\n",
      "/rds/general/user/as9820/home/anaconda3/envs/test1/lib/python3.9/site-packages/sklearn/metrics/_classification.py:1318: UndefinedMetricWarning: Recall and F-score are ill-defined and being set to 0.0 in labels with no true samples. Use `zero_division` parameter to control this behavior.\n",
      "  _warn_prf(average, modifier, msg_start, len(result))\n",
      "/rds/general/user/as9820/home/anaconda3/envs/test1/lib/python3.9/site-packages/sklearn/metrics/_classification.py:1318: UndefinedMetricWarning: Precision and F-score are ill-defined and being set to 0.0 in labels with no predicted samples. Use `zero_division` parameter to control this behavior.\n",
      "  _warn_prf(average, modifier, msg_start, len(result))\n",
      "/rds/general/user/as9820/home/anaconda3/envs/test1/lib/python3.9/site-packages/sklearn/metrics/_classification.py:1318: UndefinedMetricWarning: Recall and F-score are ill-defined and being set to 0.0 in labels with no true samples. Use `zero_division` parameter to control this behavior.\n",
      "  _warn_prf(average, modifier, msg_start, len(result))\n"
     ]
    },
    {
     "name": "stdout",
     "output_type": "stream",
     "text": [
      "              precision    recall  f1-score   support\n",
      "\n",
      "           7       0.78      0.29      0.42     70150\n",
      "           8       0.00      0.00      0.00         0\n",
      "           9       0.39      0.23      0.29     66483\n",
      "          10       0.00      0.00      0.00         0\n",
      "          12       0.00      0.00      0.00         0\n",
      "          14       0.79      0.64      0.71     74017\n",
      "          15       0.08      0.33      0.12     23283\n",
      "          16       0.49      0.78      0.60    285257\n",
      "          17       0.80      0.32      0.45     23823\n",
      "          18       0.98      0.97      0.97    408100\n",
      "          19       1.00      0.94      0.97    220792\n",
      "          20       0.66      0.01      0.01     90530\n",
      "          22       0.00      0.00      0.00         0\n",
      "          23       0.50      0.25      0.33     52507\n",
      "          24       0.69      0.24      0.36     85571\n",
      "          25       0.56      0.96      0.70     25852\n",
      "          27       0.96      0.50      0.66     40813\n",
      "          28       0.88      0.73      0.80    511790\n",
      "          29       0.92      0.39      0.55     27136\n",
      "          33       0.73      0.54      0.62     66675\n",
      "          35       0.00      0.00      0.00         0\n",
      "          36       0.00      0.00      0.00         0\n",
      "          38       1.00      0.40      0.57     25336\n",
      "          39       0.58      0.36      0.45     10412\n",
      "          40       0.00      0.00      0.00       910\n",
      "\n",
      "    accuracy                           0.68   2109437\n",
      "   macro avg       0.51      0.35      0.38   2109437\n",
      "weighted avg       0.79      0.68      0.70   2109437\n",
      "\n"
     ]
    },
    {
     "name": "stderr",
     "output_type": "stream",
     "text": [
      "/rds/general/user/as9820/home/anaconda3/envs/test1/lib/python3.9/site-packages/sklearn/base.py:443: UserWarning: X has feature names, but RandomForestClassifier was fitted without feature names\n",
      "  warnings.warn(\n",
      "/rds/general/user/as9820/home/anaconda3/envs/test1/lib/python3.9/site-packages/sklearn/utils/validation.py:623: FutureWarning: is_sparse is deprecated and will be removed in a future version. Check `isinstance(dtype, pd.SparseDtype)` instead.\n",
      "  if not hasattr(array, \"sparse\") and array.dtypes.apply(is_sparse).any():\n"
     ]
    },
    {
     "name": "stdout",
     "output_type": "stream",
     "text": [
      "16 0.6484312083146593\n"
     ]
    },
    {
     "name": "stderr",
     "output_type": "stream",
     "text": [
      "/rds/general/user/as9820/home/anaconda3/envs/test1/lib/python3.9/site-packages/sklearn/metrics/_classification.py:1318: UndefinedMetricWarning: Precision and F-score are ill-defined and being set to 0.0 in labels with no predicted samples. Use `zero_division` parameter to control this behavior.\n",
      "  _warn_prf(average, modifier, msg_start, len(result))\n",
      "/rds/general/user/as9820/home/anaconda3/envs/test1/lib/python3.9/site-packages/sklearn/metrics/_classification.py:1318: UndefinedMetricWarning: Recall and F-score are ill-defined and being set to 0.0 in labels with no true samples. Use `zero_division` parameter to control this behavior.\n",
      "  _warn_prf(average, modifier, msg_start, len(result))\n",
      "/rds/general/user/as9820/home/anaconda3/envs/test1/lib/python3.9/site-packages/sklearn/metrics/_classification.py:1318: UndefinedMetricWarning: Precision and F-score are ill-defined and being set to 0.0 in labels with no predicted samples. Use `zero_division` parameter to control this behavior.\n",
      "  _warn_prf(average, modifier, msg_start, len(result))\n",
      "/rds/general/user/as9820/home/anaconda3/envs/test1/lib/python3.9/site-packages/sklearn/metrics/_classification.py:1318: UndefinedMetricWarning: Recall and F-score are ill-defined and being set to 0.0 in labels with no true samples. Use `zero_division` parameter to control this behavior.\n",
      "  _warn_prf(average, modifier, msg_start, len(result))\n",
      "/rds/general/user/as9820/home/anaconda3/envs/test1/lib/python3.9/site-packages/sklearn/metrics/_classification.py:1318: UndefinedMetricWarning: Precision and F-score are ill-defined and being set to 0.0 in labels with no predicted samples. Use `zero_division` parameter to control this behavior.\n",
      "  _warn_prf(average, modifier, msg_start, len(result))\n",
      "/rds/general/user/as9820/home/anaconda3/envs/test1/lib/python3.9/site-packages/sklearn/metrics/_classification.py:1318: UndefinedMetricWarning: Recall and F-score are ill-defined and being set to 0.0 in labels with no true samples. Use `zero_division` parameter to control this behavior.\n",
      "  _warn_prf(average, modifier, msg_start, len(result))\n"
     ]
    },
    {
     "name": "stdout",
     "output_type": "stream",
     "text": [
      "              precision    recall  f1-score   support\n",
      "\n",
      "           7       0.78      0.29      0.43     69486\n",
      "           8       0.00      0.00      0.00         0\n",
      "           9       0.60      0.47      0.53     77220\n",
      "          10       0.00      0.00      0.00         0\n",
      "          12       0.00      0.00      0.00         0\n",
      "          14       0.81      0.67      0.73     73652\n",
      "          15       0.06      0.31      0.10     20004\n",
      "          16       0.07      0.80      0.14     19803\n",
      "          17       0.90      0.34      0.50     24627\n",
      "          18       0.99      0.97      0.98    407296\n",
      "          19       1.00      0.95      0.97    219736\n",
      "          20       0.04      0.00      0.00    146306\n",
      "          22       0.00      0.00      0.00         0\n",
      "          23       0.53      0.25      0.34     51530\n",
      "          24       0.54      0.15      0.23     76302\n",
      "          25       0.55      0.96      0.70     24562\n",
      "          27       0.96      0.50      0.65     40018\n",
      "          28       0.97      0.73      0.83    356431\n",
      "          29       0.93      0.39      0.55     26479\n",
      "          33       0.84      0.54      0.66     66057\n",
      "          35       0.00      0.00      0.00         0\n",
      "          36       0.00      0.00      0.00         0\n",
      "          38       1.00      0.40      0.57     25348\n",
      "          39       0.58      0.35      0.44     10136\n",
      "          40       0.00      0.00      0.00       929\n",
      "\n",
      "    accuracy                           0.65   1735922\n",
      "   macro avg       0.49      0.36      0.37   1735922\n",
      "weighted avg       0.80      0.65      0.69   1735922\n",
      "\n"
     ]
    },
    {
     "name": "stderr",
     "output_type": "stream",
     "text": [
      "/rds/general/user/as9820/home/anaconda3/envs/test1/lib/python3.9/site-packages/sklearn/base.py:443: UserWarning: X has feature names, but RandomForestClassifier was fitted without feature names\n",
      "  warnings.warn(\n",
      "/rds/general/user/as9820/home/anaconda3/envs/test1/lib/python3.9/site-packages/sklearn/utils/validation.py:623: FutureWarning: is_sparse is deprecated and will be removed in a future version. Check `isinstance(dtype, pd.SparseDtype)` instead.\n",
      "  if not hasattr(array, \"sparse\") and array.dtypes.apply(is_sparse).any():\n"
     ]
    },
    {
     "name": "stdout",
     "output_type": "stream",
     "text": [
      "17 0.6466845025320451\n"
     ]
    },
    {
     "name": "stderr",
     "output_type": "stream",
     "text": [
      "/rds/general/user/as9820/home/anaconda3/envs/test1/lib/python3.9/site-packages/sklearn/metrics/_classification.py:1318: UndefinedMetricWarning: Precision and F-score are ill-defined and being set to 0.0 in labels with no predicted samples. Use `zero_division` parameter to control this behavior.\n",
      "  _warn_prf(average, modifier, msg_start, len(result))\n",
      "/rds/general/user/as9820/home/anaconda3/envs/test1/lib/python3.9/site-packages/sklearn/metrics/_classification.py:1318: UndefinedMetricWarning: Recall and F-score are ill-defined and being set to 0.0 in labels with no true samples. Use `zero_division` parameter to control this behavior.\n",
      "  _warn_prf(average, modifier, msg_start, len(result))\n",
      "/rds/general/user/as9820/home/anaconda3/envs/test1/lib/python3.9/site-packages/sklearn/metrics/_classification.py:1318: UndefinedMetricWarning: Precision and F-score are ill-defined and being set to 0.0 in labels with no predicted samples. Use `zero_division` parameter to control this behavior.\n",
      "  _warn_prf(average, modifier, msg_start, len(result))\n",
      "/rds/general/user/as9820/home/anaconda3/envs/test1/lib/python3.9/site-packages/sklearn/metrics/_classification.py:1318: UndefinedMetricWarning: Recall and F-score are ill-defined and being set to 0.0 in labels with no true samples. Use `zero_division` parameter to control this behavior.\n",
      "  _warn_prf(average, modifier, msg_start, len(result))\n"
     ]
    },
    {
     "name": "stdout",
     "output_type": "stream",
     "text": [
      "              precision    recall  f1-score   support\n",
      "\n",
      "           7       0.61      0.29      0.40     24604\n",
      "           8       0.00      0.00      0.00         0\n",
      "           9       0.32      0.16      0.22     64662\n",
      "          10       0.00      0.00      0.00         0\n",
      "          12       0.00      0.00      0.00         0\n",
      "          14       0.79      0.64      0.70     67195\n",
      "          15       0.07      0.29      0.12     18700\n",
      "          16       0.06      0.81      0.11     14281\n",
      "          17       0.85      0.34      0.49     23117\n",
      "          18       0.99      0.97      0.98    403245\n",
      "          19       1.00      0.93      0.96    220232\n",
      "          20       0.04      0.00      0.00    145608\n",
      "          22       0.00      0.00      0.00         0\n",
      "          23       0.54      0.25      0.34     51621\n",
      "          24       0.56      0.15      0.23     74235\n",
      "          25       0.56      0.95      0.71     25054\n",
      "          27       0.95      0.45      0.61     35077\n",
      "          28       0.98      0.73      0.84    370704\n",
      "          29       0.91      0.32      0.47     24030\n",
      "          33       0.84      0.61      0.71     57751\n",
      "          35       0.00      0.00      0.00         0\n",
      "          36       0.00      0.00      0.00         0\n",
      "          38       1.00      0.39      0.56     25404\n",
      "          39       0.57      0.33      0.42     10171\n",
      "          40       0.00      0.00      0.00      1270\n",
      "\n",
      "    accuracy                           0.65   1656961\n",
      "   macro avg       0.47      0.34      0.35   1656961\n",
      "weighted avg       0.79      0.65      0.69   1656961\n",
      "\n"
     ]
    },
    {
     "name": "stderr",
     "output_type": "stream",
     "text": [
      "/rds/general/user/as9820/home/anaconda3/envs/test1/lib/python3.9/site-packages/sklearn/metrics/_classification.py:1318: UndefinedMetricWarning: Precision and F-score are ill-defined and being set to 0.0 in labels with no predicted samples. Use `zero_division` parameter to control this behavior.\n",
      "  _warn_prf(average, modifier, msg_start, len(result))\n",
      "/rds/general/user/as9820/home/anaconda3/envs/test1/lib/python3.9/site-packages/sklearn/metrics/_classification.py:1318: UndefinedMetricWarning: Recall and F-score are ill-defined and being set to 0.0 in labels with no true samples. Use `zero_division` parameter to control this behavior.\n",
      "  _warn_prf(average, modifier, msg_start, len(result))\n"
     ]
    }
   ],
   "source": [
    "for date in testCons:\n",
    "    testCon = df['time'].dt.isocalendar().week == pd.Timestamp(date).week\n",
    "    #testCon = df['time'].dt.date == pd.Timestamp(date).date\n",
    "    testDF = df[testCon]\n",
    "\n",
    "    X = testDF[XCols]\n",
    "    y = testDF[label]\n",
    "    \n",
    "    if len(X) == 0: \n",
    "        continue\n",
    "    \n",
    "    #y_pred = clf.predict(X)\n",
    "    y_rfc = rfc.predict(X)\n",
    "    #print(\"rfc predict\")\n",
    "    #y_svc = svc.predict(X)\n",
    "    #print(\"svc predict\")\n",
    "    #y_dtc = dtc.predict(X)\n",
    "    #print(\"dtc predict\")\n",
    "    #y_knn = knn.predict(X)\n",
    "    #print(\"knn predict\")\n",
    "    #y_mv = mv.predict(X)\n",
    "    #print(\"mv predict\")\n",
    "    \n",
    "    print(f\"{date.week}\", metrics.f1_score(y, y_rfc, average='micro'))\n",
    "    print(classification_report(y,y_rfc))#, labels=devs))"
   ]
  },
  {
   "cell_type": "code",
   "execution_count": 6,
   "metadata": {},
   "outputs": [
    {
     "name": "stderr",
     "output_type": "stream",
     "text": [
      "/rds/general/user/as9820/home/anaconda3/envs/test1/lib/python3.9/site-packages/sklearn/utils/deprecation.py:103: FutureWarning: Attribute `n_features_` was deprecated in version 1.0 and will be removed in 1.2. Use `n_features_in_` instead.\n",
      "  warnings.warn(msg, category=FutureWarning)\n"
     ]
    },
    {
     "ename": "EstimatorError",
     "evalue": "FastGradientMethod requires an estimator derived from <class 'art.estimators.estimator.BaseEstimator'> and <class 'art.estimators.estimator.LossGradientsMixin'>, the provided classifier is an instance of <class 'art.estimators.classification.scikitlearn.ScikitlearnRandomForestClassifier'> and is derived from (<class 'art.estimators.classification.scikitlearn.ScikitlearnClassifier'>,).",
     "output_type": "error",
     "traceback": [
      "\u001b[0;31m---------------------------------------------------------------------------\u001b[0m",
      "\u001b[0;31mEstimatorError\u001b[0m                            Traceback (most recent call last)",
      "Cell \u001b[0;32mIn[6], line 2\u001b[0m\n\u001b[1;32m      1\u001b[0m advClassifier \u001b[38;5;241m=\u001b[39m SklearnClassifier(rfc)\n\u001b[0;32m----> 2\u001b[0m fgm \u001b[38;5;241m=\u001b[39m \u001b[43mFastGradientMethod\u001b[49m\u001b[43m(\u001b[49m\u001b[43mestimator\u001b[49m\u001b[38;5;241;43m=\u001b[39;49m\u001b[43madvClassifier\u001b[49m\u001b[43m)\u001b[49m\n\u001b[1;32m      4\u001b[0m \u001b[38;5;28;01mfor\u001b[39;00m date \u001b[38;5;129;01min\u001b[39;00m testCons:\n\u001b[1;32m      5\u001b[0m     testCon \u001b[38;5;241m=\u001b[39m df[\u001b[38;5;124m'\u001b[39m\u001b[38;5;124mtime_start\u001b[39m\u001b[38;5;124m'\u001b[39m]\u001b[38;5;241m.\u001b[39mdt\u001b[38;5;241m.\u001b[39misocalendar()\u001b[38;5;241m.\u001b[39mweek \u001b[38;5;241m==\u001b[39m pd\u001b[38;5;241m.\u001b[39mTimestamp(date)\u001b[38;5;241m.\u001b[39mweek\n",
      "File \u001b[0;32m~/anaconda3/envs/test1/lib/python3.9/site-packages/art/attacks/evasion/fast_gradient.py:104\u001b[0m, in \u001b[0;36mFastGradientMethod.__init__\u001b[0;34m(self, estimator, norm, eps, eps_step, targeted, num_random_init, batch_size, minimal, summary_writer)\u001b[0m\n\u001b[1;32m     71\u001b[0m \u001b[38;5;28;01mdef\u001b[39;00m \u001b[38;5;21m__init__\u001b[39m(\n\u001b[1;32m     72\u001b[0m     \u001b[38;5;28mself\u001b[39m,\n\u001b[1;32m     73\u001b[0m     estimator: \u001b[38;5;124m\"\u001b[39m\u001b[38;5;124mCLASSIFIER_LOSS_GRADIENTS_TYPE\u001b[39m\u001b[38;5;124m\"\u001b[39m,\n\u001b[0;32m   (...)\u001b[0m\n\u001b[1;32m     81\u001b[0m     summary_writer: Union[\u001b[38;5;28mstr\u001b[39m, \u001b[38;5;28mbool\u001b[39m, SummaryWriter] \u001b[38;5;241m=\u001b[39m \u001b[38;5;28;01mFalse\u001b[39;00m,\n\u001b[1;32m     82\u001b[0m ) \u001b[38;5;241m-\u001b[39m\u001b[38;5;241m>\u001b[39m \u001b[38;5;28;01mNone\u001b[39;00m:\n\u001b[1;32m     83\u001b[0m \u001b[38;5;250m    \u001b[39m\u001b[38;5;124;03m\"\"\"\u001b[39;00m\n\u001b[1;32m     84\u001b[0m \u001b[38;5;124;03m    Create a :class:`.FastGradientMethod` instance.\u001b[39;00m\n\u001b[1;32m     85\u001b[0m \n\u001b[0;32m   (...)\u001b[0m\n\u001b[1;32m    102\u001b[0m \u001b[38;5;124;03m                           ‘runs/exp1’, ‘runs/exp2’, etc. for each new experiment to compare across them.\u001b[39;00m\n\u001b[1;32m    103\u001b[0m \u001b[38;5;124;03m    \"\"\"\u001b[39;00m\n\u001b[0;32m--> 104\u001b[0m     \u001b[38;5;28;43msuper\u001b[39;49m\u001b[43m(\u001b[49m\u001b[43m)\u001b[49m\u001b[38;5;241;43m.\u001b[39;49m\u001b[38;5;21;43m__init__\u001b[39;49m\u001b[43m(\u001b[49m\u001b[43mestimator\u001b[49m\u001b[38;5;241;43m=\u001b[39;49m\u001b[43mestimator\u001b[49m\u001b[43m,\u001b[49m\u001b[43m \u001b[49m\u001b[43msummary_writer\u001b[49m\u001b[38;5;241;43m=\u001b[39;49m\u001b[43msummary_writer\u001b[49m\u001b[43m)\u001b[49m\n\u001b[1;32m    105\u001b[0m     \u001b[38;5;28mself\u001b[39m\u001b[38;5;241m.\u001b[39mnorm \u001b[38;5;241m=\u001b[39m norm\n\u001b[1;32m    106\u001b[0m     \u001b[38;5;28mself\u001b[39m\u001b[38;5;241m.\u001b[39meps \u001b[38;5;241m=\u001b[39m eps\n",
      "File \u001b[0;32m~/anaconda3/envs/test1/lib/python3.9/site-packages/art/attacks/attack.py:197\u001b[0m, in \u001b[0;36mEvasionAttack.__init__\u001b[0;34m(self, **kwargs)\u001b[0m\n\u001b[1;32m    195\u001b[0m \u001b[38;5;28;01mdef\u001b[39;00m \u001b[38;5;21m__init__\u001b[39m(\u001b[38;5;28mself\u001b[39m, \u001b[38;5;241m*\u001b[39m\u001b[38;5;241m*\u001b[39mkwargs) \u001b[38;5;241m-\u001b[39m\u001b[38;5;241m>\u001b[39m \u001b[38;5;28;01mNone\u001b[39;00m:\n\u001b[1;32m    196\u001b[0m     \u001b[38;5;28mself\u001b[39m\u001b[38;5;241m.\u001b[39m_targeted \u001b[38;5;241m=\u001b[39m \u001b[38;5;28;01mFalse\u001b[39;00m\n\u001b[0;32m--> 197\u001b[0m     \u001b[38;5;28;43msuper\u001b[39;49m\u001b[43m(\u001b[49m\u001b[43m)\u001b[49m\u001b[38;5;241;43m.\u001b[39;49m\u001b[38;5;21;43m__init__\u001b[39;49m\u001b[43m(\u001b[49m\u001b[38;5;241;43m*\u001b[39;49m\u001b[38;5;241;43m*\u001b[39;49m\u001b[43mkwargs\u001b[49m\u001b[43m)\u001b[49m\n",
      "File \u001b[0;32m~/anaconda3/envs/test1/lib/python3.9/site-packages/art/attacks/attack.py:125\u001b[0m, in \u001b[0;36mAttack.__init__\u001b[0;34m(self, estimator, summary_writer)\u001b[0m\n\u001b[1;32m    122\u001b[0m     \u001b[38;5;28;01mraise\u001b[39;00m \u001b[38;5;167;01mValueError\u001b[39;00m(\u001b[38;5;124m\"\u001b[39m\u001b[38;5;124mEstimator requirements have not been defined in `_estimator_requirements`.\u001b[39m\u001b[38;5;124m\"\u001b[39m)\n\u001b[1;32m    124\u001b[0m \u001b[38;5;28;01mif\u001b[39;00m \u001b[38;5;129;01mnot\u001b[39;00m \u001b[38;5;28mself\u001b[39m\u001b[38;5;241m.\u001b[39mis_estimator_valid(estimator, \u001b[38;5;28mself\u001b[39m\u001b[38;5;241m.\u001b[39m_estimator_requirements):\n\u001b[0;32m--> 125\u001b[0m     \u001b[38;5;28;01mraise\u001b[39;00m EstimatorError(\u001b[38;5;28mself\u001b[39m\u001b[38;5;241m.\u001b[39m\u001b[38;5;18m__class__\u001b[39m, \u001b[38;5;28mself\u001b[39m\u001b[38;5;241m.\u001b[39mestimator_requirements, estimator)\n\u001b[1;32m    127\u001b[0m \u001b[38;5;28mself\u001b[39m\u001b[38;5;241m.\u001b[39m_estimator \u001b[38;5;241m=\u001b[39m estimator\n\u001b[1;32m    128\u001b[0m \u001b[38;5;28mself\u001b[39m\u001b[38;5;241m.\u001b[39m_summary_writer_arg \u001b[38;5;241m=\u001b[39m summary_writer\n",
      "\u001b[0;31mEstimatorError\u001b[0m: FastGradientMethod requires an estimator derived from <class 'art.estimators.estimator.BaseEstimator'> and <class 'art.estimators.estimator.LossGradientsMixin'>, the provided classifier is an instance of <class 'art.estimators.classification.scikitlearn.ScikitlearnRandomForestClassifier'> and is derived from (<class 'art.estimators.classification.scikitlearn.ScikitlearnClassifier'>,)."
     ]
    }
   ],
   "source": [
    "advClassifier = SklearnClassifier(rfc)\n",
    "fgm = FastGradientMethod(estimator=advClassifier)\n",
    "\n",
    "for date in testCons:\n",
    "    testCon = df['time_start'].dt.isocalendar().week == pd.Timestamp(date).week\n",
    "    #testCon = df['time'].dt.date == pd.Timestamp(date).date\n",
    "    testDF = df[testCon]\n",
    "\n",
    "    X = testDF[features]\n",
    "    y = testDF[label]\n",
    "    \n",
    "    X_train, X_test, y_train, y_test = train_test_split(X, y, test_size=200, stratify=y)\n",
    "    \n",
    "    if len(X) == 0: \n",
    "        continue\n",
    "    X_test_adv=fgm.generate(X_test.values)\n",
    "    np.savetxt(f\"rf1secfgsm-{date.week}.csv\", x_test_adv, delimiter=\",\")\n"
   ]
  },
  {
   "cell_type": "code",
   "execution_count": 13,
   "metadata": {},
   "outputs": [
    {
     "name": "stderr",
     "output_type": "stream",
     "text": [
      "/rds/general/user/as9820/home/anaconda3/envs/test1/lib/python3.9/site-packages/sklearn/utils/validation.py:623: FutureWarning: is_sparse is deprecated and will be removed in a future version. Check `isinstance(dtype, pd.SparseDtype)` instead.\n",
      "  if not hasattr(array, \"sparse\") and array.dtypes.apply(is_sparse).any():\n"
     ]
    }
   ],
   "source": [
    "X_train, X_test, y_train, y_test = train_test_split(X, y, test_size=200, stratify=y)\n",
    "X_test = normalize(X=X_test)"
   ]
  },
  {
   "cell_type": "code",
   "execution_count": null,
   "metadata": {},
   "outputs": [
    {
     "name": "stderr",
     "output_type": "stream",
     "text": [
      "/rds/general/user/as9820/home/anaconda3/envs/test1/lib/python3.9/site-packages/sklearn/utils/deprecation.py:103: FutureWarning: Attribute `n_features_` was deprecated in version 1.0 and will be removed in 1.2. Use `n_features_in_` instead.\n",
      "  warnings.warn(msg, category=FutureWarning)\n",
      "/rds/general/user/as9820/home/anaconda3/envs/test1/lib/python3.9/site-packages/sklearn/utils/deprecation.py:103: FutureWarning: The attribute `n_features_` is deprecated in 1.0 and will be removed in 1.2. Use `n_features_in_` instead.\n",
      "  warnings.warn(msg, category=FutureWarning)\n"
     ]
    }
   ],
   "source": [
    "advClassifier = SklearnClassifier(rfc)\n",
    "rt = RobustnessVerificationTreeModelsCliqueMethod(classifier=advClassifier)\n",
    "average_bound, verified_error = rt.verify(x=X_test, y=y_test, eps_init=0.3, nb_search_steps=10, max_clique=2, \n",
    "                                          max_level=2)\n",
    "\n",
    "print('Average bound:', average_bound)\n",
    "print('Verified error at eps:', verified_error)"
   ]
  },
  {
   "cell_type": "code",
   "execution_count": 26,
   "metadata": {},
   "outputs": [
    {
     "name": "stderr",
     "output_type": "stream",
     "text": [
      "/rds/general/user/as9820/home/anaconda3/envs/test1/lib/python3.9/site-packages/sklearn/utils/deprecation.py:103: FutureWarning: Attribute `n_features_` was deprecated in version 1.0 and will be removed in 1.2. Use `n_features_in_` instead.\n",
      "  warnings.warn(msg, category=FutureWarning)\n"
     ]
    },
    {
     "ename": "TypeError",
     "evalue": "'<' not supported between instances of 'list' and 'int'",
     "output_type": "error",
     "traceback": [
      "\u001b[0;31m---------------------------------------------------------------------------\u001b[0m",
      "\u001b[0;31mTypeError\u001b[0m                                 Traceback (most recent call last)",
      "Cell \u001b[0;32mIn[26], line 1\u001b[0m\n\u001b[0;32m----> 1\u001b[0m advClassifier \u001b[38;5;241m=\u001b[39m \u001b[43mSklearnClassifier\u001b[49m\u001b[43m(\u001b[49m\u001b[43mrfc\u001b[49m\u001b[43m)\u001b[49m\n\u001b[1;32m      2\u001b[0m zoo \u001b[38;5;241m=\u001b[39m ZooAttack(classifier\u001b[38;5;241m=\u001b[39madvClassifier, confidence\u001b[38;5;241m=\u001b[39m\u001b[38;5;241m0.0\u001b[39m, targeted\u001b[38;5;241m=\u001b[39m\u001b[38;5;28;01mFalse\u001b[39;00m, learning_rate\u001b[38;5;241m=\u001b[39m\u001b[38;5;241m0.1\u001b[39m, max_iter\u001b[38;5;241m=\u001b[39m\u001b[38;5;241m5\u001b[39m,\n\u001b[1;32m      3\u001b[0m                     binary_search_steps\u001b[38;5;241m=\u001b[39m\u001b[38;5;241m10\u001b[39m, initial_const\u001b[38;5;241m=\u001b[39m\u001b[38;5;241m1e-3\u001b[39m, abort_early\u001b[38;5;241m=\u001b[39m\u001b[38;5;28;01mTrue\u001b[39;00m, use_resize\u001b[38;5;241m=\u001b[39m\u001b[38;5;28;01mFalse\u001b[39;00m, \n\u001b[1;32m      4\u001b[0m                     use_importance\u001b[38;5;241m=\u001b[39m\u001b[38;5;28;01mFalse\u001b[39;00m, nb_parallel\u001b[38;5;241m=\u001b[39m\u001b[38;5;241m1\u001b[39m, batch_size\u001b[38;5;241m=\u001b[39m\u001b[38;5;241m1\u001b[39m, variable_h\u001b[38;5;241m=\u001b[39m\u001b[38;5;241m0.2\u001b[39m)\n",
      "File \u001b[0;32m~/anaconda3/envs/test1/lib/python3.9/site-packages/art/estimators/classification/scikitlearn.py:83\u001b[0m, in \u001b[0;36mSklearnClassifier\u001b[0;34m(model, clip_values, preprocessing_defences, postprocessing_defences, preprocessing, use_logits)\u001b[0m\n\u001b[1;32m     81\u001b[0m module \u001b[38;5;241m=\u001b[39m importlib\u001b[38;5;241m.\u001b[39mimport_module(\u001b[38;5;124m\"\u001b[39m\u001b[38;5;124mart.estimators.classification.scikitlearn\u001b[39m\u001b[38;5;124m\"\u001b[39m)\n\u001b[1;32m     82\u001b[0m \u001b[38;5;28;01mif\u001b[39;00m \u001b[38;5;28mhasattr\u001b[39m(module, \u001b[38;5;124mf\u001b[39m\u001b[38;5;124m\"\u001b[39m\u001b[38;5;124mScikitlearn\u001b[39m\u001b[38;5;132;01m{\u001b[39;00msklearn_name\u001b[38;5;132;01m}\u001b[39;00m\u001b[38;5;124m\"\u001b[39m):\n\u001b[0;32m---> 83\u001b[0m     \u001b[38;5;28;01mreturn\u001b[39;00m \u001b[38;5;28;43mgetattr\u001b[39;49m\u001b[43m(\u001b[49m\u001b[43mmodule\u001b[49m\u001b[43m,\u001b[49m\u001b[43m \u001b[49m\u001b[38;5;124;43mf\u001b[39;49m\u001b[38;5;124;43m\"\u001b[39;49m\u001b[38;5;124;43mScikitlearn\u001b[39;49m\u001b[38;5;132;43;01m{\u001b[39;49;00m\u001b[43msklearn_name\u001b[49m\u001b[38;5;132;43;01m}\u001b[39;49;00m\u001b[38;5;124;43m\"\u001b[39;49m\u001b[43m)\u001b[49m\u001b[43m(\u001b[49m\n\u001b[1;32m     84\u001b[0m \u001b[43m        \u001b[49m\u001b[43mmodel\u001b[49m\u001b[38;5;241;43m=\u001b[39;49m\u001b[43mmodel\u001b[49m\u001b[43m,\u001b[49m\n\u001b[1;32m     85\u001b[0m \u001b[43m        \u001b[49m\u001b[43mclip_values\u001b[49m\u001b[38;5;241;43m=\u001b[39;49m\u001b[43mclip_values\u001b[49m\u001b[43m,\u001b[49m\n\u001b[1;32m     86\u001b[0m \u001b[43m        \u001b[49m\u001b[43mpreprocessing_defences\u001b[49m\u001b[38;5;241;43m=\u001b[39;49m\u001b[43mpreprocessing_defences\u001b[49m\u001b[43m,\u001b[49m\n\u001b[1;32m     87\u001b[0m \u001b[43m        \u001b[49m\u001b[43mpostprocessing_defences\u001b[49m\u001b[38;5;241;43m=\u001b[39;49m\u001b[43mpostprocessing_defences\u001b[49m\u001b[43m,\u001b[49m\n\u001b[1;32m     88\u001b[0m \u001b[43m        \u001b[49m\u001b[43mpreprocessing\u001b[49m\u001b[38;5;241;43m=\u001b[39;49m\u001b[43mpreprocessing\u001b[49m\u001b[43m,\u001b[49m\n\u001b[1;32m     89\u001b[0m \u001b[43m    \u001b[49m\u001b[43m)\u001b[49m\n\u001b[1;32m     91\u001b[0m \u001b[38;5;66;03m# This basic class at least generically handles `fit`, `predict` and `save`\u001b[39;00m\n\u001b[1;32m     92\u001b[0m \u001b[38;5;28;01mreturn\u001b[39;00m ScikitlearnClassifier(\n\u001b[1;32m     93\u001b[0m     model,\n\u001b[1;32m     94\u001b[0m     clip_values,\n\u001b[0;32m   (...)\u001b[0m\n\u001b[1;32m     98\u001b[0m     use_logits,\n\u001b[1;32m     99\u001b[0m )\n",
      "File \u001b[0;32m~/anaconda3/envs/test1/lib/python3.9/site-packages/art/estimators/classification/scikitlearn.py:707\u001b[0m, in \u001b[0;36mScikitlearnRandomForestClassifier.__init__\u001b[0;34m(self, model, clip_values, preprocessing_defences, postprocessing_defences, preprocessing)\u001b[0m\n\u001b[1;32m    704\u001b[0m \u001b[38;5;28;01mif\u001b[39;00m \u001b[38;5;129;01mnot\u001b[39;00m \u001b[38;5;28misinstance\u001b[39m(model, sklearn\u001b[38;5;241m.\u001b[39mensemble\u001b[38;5;241m.\u001b[39mRandomForestClassifier):\n\u001b[1;32m    705\u001b[0m     \u001b[38;5;28;01mraise\u001b[39;00m \u001b[38;5;167;01mTypeError\u001b[39;00m(\u001b[38;5;124m\"\u001b[39m\u001b[38;5;124mModel must be of type sklearn.ensemble.RandomForestClassifier.\u001b[39m\u001b[38;5;124m\"\u001b[39m)\n\u001b[0;32m--> 707\u001b[0m \u001b[38;5;28;43msuper\u001b[39;49m\u001b[43m(\u001b[49m\u001b[43m)\u001b[49m\u001b[38;5;241;43m.\u001b[39;49m\u001b[38;5;21;43m__init__\u001b[39;49m\u001b[43m(\u001b[49m\n\u001b[1;32m    708\u001b[0m \u001b[43m    \u001b[49m\u001b[43mmodel\u001b[49m\u001b[38;5;241;43m=\u001b[39;49m\u001b[43mmodel\u001b[49m\u001b[43m,\u001b[49m\n\u001b[1;32m    709\u001b[0m \u001b[43m    \u001b[49m\u001b[43mclip_values\u001b[49m\u001b[38;5;241;43m=\u001b[39;49m\u001b[43mclip_values\u001b[49m\u001b[43m,\u001b[49m\n\u001b[1;32m    710\u001b[0m \u001b[43m    \u001b[49m\u001b[43mpreprocessing_defences\u001b[49m\u001b[38;5;241;43m=\u001b[39;49m\u001b[43mpreprocessing_defences\u001b[49m\u001b[43m,\u001b[49m\n\u001b[1;32m    711\u001b[0m \u001b[43m    \u001b[49m\u001b[43mpostprocessing_defences\u001b[49m\u001b[38;5;241;43m=\u001b[39;49m\u001b[43mpostprocessing_defences\u001b[49m\u001b[43m,\u001b[49m\n\u001b[1;32m    712\u001b[0m \u001b[43m    \u001b[49m\u001b[43mpreprocessing\u001b[49m\u001b[38;5;241;43m=\u001b[39;49m\u001b[43mpreprocessing\u001b[49m\u001b[43m,\u001b[49m\n\u001b[1;32m    713\u001b[0m \u001b[43m\u001b[49m\u001b[43m)\u001b[49m\n",
      "File \u001b[0;32m~/anaconda3/envs/test1/lib/python3.9/site-packages/art/estimators/classification/scikitlearn.py:142\u001b[0m, in \u001b[0;36mScikitlearnClassifier.__init__\u001b[0;34m(self, model, clip_values, preprocessing_defences, postprocessing_defences, preprocessing, use_logits)\u001b[0m\n\u001b[1;32m    140\u001b[0m nb_classes \u001b[38;5;241m=\u001b[39m \u001b[38;5;28mself\u001b[39m\u001b[38;5;241m.\u001b[39m_get_nb_classes()\n\u001b[1;32m    141\u001b[0m \u001b[38;5;28;01mif\u001b[39;00m nb_classes \u001b[38;5;129;01mis\u001b[39;00m \u001b[38;5;129;01mnot\u001b[39;00m \u001b[38;5;28;01mNone\u001b[39;00m:\n\u001b[0;32m--> 142\u001b[0m     \u001b[38;5;28;43mself\u001b[39;49m\u001b[38;5;241;43m.\u001b[39;49m\u001b[43mnb_classes\u001b[49m \u001b[38;5;241m=\u001b[39m nb_classes\n\u001b[1;32m    143\u001b[0m \u001b[38;5;28mself\u001b[39m\u001b[38;5;241m.\u001b[39m_use_logits \u001b[38;5;241m=\u001b[39m use_logits\n",
      "File \u001b[0;32m~/anaconda3/envs/test1/lib/python3.9/site-packages/art/estimators/classification/classifier.py:117\u001b[0m, in \u001b[0;36mClassifierMixin.nb_classes\u001b[0;34m(self, nb_classes)\u001b[0m\n\u001b[1;32m    112\u001b[0m \u001b[38;5;129m@nb_classes\u001b[39m\u001b[38;5;241m.\u001b[39msetter\n\u001b[1;32m    113\u001b[0m \u001b[38;5;28;01mdef\u001b[39;00m \u001b[38;5;21mnb_classes\u001b[39m(\u001b[38;5;28mself\u001b[39m, nb_classes: \u001b[38;5;28mint\u001b[39m):\n\u001b[1;32m    114\u001b[0m \u001b[38;5;250m    \u001b[39m\u001b[38;5;124;03m\"\"\"\u001b[39;00m\n\u001b[1;32m    115\u001b[0m \u001b[38;5;124;03m    Set the number of output classes.\u001b[39;00m\n\u001b[1;32m    116\u001b[0m \u001b[38;5;124;03m    \"\"\"\u001b[39;00m\n\u001b[0;32m--> 117\u001b[0m     \u001b[38;5;28;01mif\u001b[39;00m nb_classes \u001b[38;5;129;01mis\u001b[39;00m \u001b[38;5;28;01mNone\u001b[39;00m \u001b[38;5;129;01mor\u001b[39;00m \u001b[43mnb_classes\u001b[49m\u001b[43m \u001b[49m\u001b[38;5;241;43m<\u001b[39;49m\u001b[43m \u001b[49m\u001b[38;5;241;43m2\u001b[39;49m:\n\u001b[1;32m    118\u001b[0m         \u001b[38;5;28;01mraise\u001b[39;00m \u001b[38;5;167;01mValueError\u001b[39;00m(\u001b[38;5;124m\"\u001b[39m\u001b[38;5;124mnb_classes must be greater than or equal to 2.\u001b[39m\u001b[38;5;124m\"\u001b[39m)\n\u001b[1;32m    120\u001b[0m     \u001b[38;5;28mself\u001b[39m\u001b[38;5;241m.\u001b[39m_nb_classes \u001b[38;5;241m=\u001b[39m nb_classes\n",
      "\u001b[0;31mTypeError\u001b[0m: '<' not supported between instances of 'list' and 'int'"
     ]
    }
   ],
   "source": [
    "advClassifier = SklearnClassifier(rfc)\n",
    "zoo = ZooAttack(classifier=advClassifier, confidence=0.0, targeted=False, learning_rate=0.1, max_iter=5,\n",
    "                    binary_search_steps=10, initial_const=1e-3, abort_early=True, use_resize=False, \n",
    "                    use_importance=False, nb_parallel=1, batch_size=1, variable_h=0.2)"
   ]
  },
  {
   "cell_type": "code",
   "execution_count": 28,
   "metadata": {},
   "outputs": [
    {
     "name": "stderr",
     "output_type": "stream",
     "text": [
      "ZOO: 100%|██████████| 200/200 [04:18<00:00,  1.29s/it]\n"
     ]
    },
    {
     "name": "stdout",
     "output_type": "stream",
     "text": [
      "4.660847436646648\n"
     ]
    },
    {
     "name": "stderr",
     "output_type": "stream",
     "text": [
      "ZOO: 100%|██████████| 200/200 [04:14<00:00,  1.27s/it]\n"
     ]
    },
    {
     "name": "stdout",
     "output_type": "stream",
     "text": [
      "4.7101071336172025\n"
     ]
    },
    {
     "name": "stderr",
     "output_type": "stream",
     "text": [
      "ZOO: 100%|██████████| 200/200 [04:13<00:00,  1.27s/it]\n"
     ]
    },
    {
     "name": "stdout",
     "output_type": "stream",
     "text": [
      "4.2011601007927\n"
     ]
    },
    {
     "name": "stderr",
     "output_type": "stream",
     "text": [
      "ZOO: 100%|██████████| 200/200 [04:12<00:00,  1.26s/it]\n"
     ]
    },
    {
     "name": "stdout",
     "output_type": "stream",
     "text": [
      "4.126897165056844\n"
     ]
    },
    {
     "name": "stderr",
     "output_type": "stream",
     "text": [
      "ZOO: 100%|██████████| 200/200 [04:12<00:00,  1.26s/it]\n"
     ]
    },
    {
     "name": "stdout",
     "output_type": "stream",
     "text": [
      "3.7042728779956198\n"
     ]
    },
    {
     "name": "stderr",
     "output_type": "stream",
     "text": [
      "ZOO: 100%|██████████| 200/200 [04:13<00:00,  1.27s/it]\n"
     ]
    },
    {
     "name": "stdout",
     "output_type": "stream",
     "text": [
      "3.818925859767184\n"
     ]
    },
    {
     "name": "stderr",
     "output_type": "stream",
     "text": [
      "ZOO: 100%|██████████| 200/200 [04:13<00:00,  1.27s/it]\n"
     ]
    },
    {
     "name": "stdout",
     "output_type": "stream",
     "text": [
      "4.158715408768597\n"
     ]
    },
    {
     "name": "stderr",
     "output_type": "stream",
     "text": [
      "ZOO: 100%|██████████| 200/200 [04:14<00:00,  1.27s/it]\n"
     ]
    },
    {
     "name": "stdout",
     "output_type": "stream",
     "text": [
      "4.040133884597104\n"
     ]
    },
    {
     "name": "stderr",
     "output_type": "stream",
     "text": [
      "ZOO: 100%|██████████| 200/200 [04:14<00:00,  1.27s/it]\n"
     ]
    },
    {
     "name": "stdout",
     "output_type": "stream",
     "text": [
      "3.8976818562388105\n"
     ]
    },
    {
     "name": "stderr",
     "output_type": "stream",
     "text": [
      "ZOO: 100%|██████████| 200/200 [04:13<00:00,  1.27s/it]\n"
     ]
    },
    {
     "name": "stdout",
     "output_type": "stream",
     "text": [
      "4.283620130912346\n"
     ]
    },
    {
     "name": "stderr",
     "output_type": "stream",
     "text": [
      "ZOO: 100%|██████████| 200/200 [04:15<00:00,  1.28s/it]\n"
     ]
    },
    {
     "name": "stdout",
     "output_type": "stream",
     "text": [
      "4.451793642003985\n"
     ]
    },
    {
     "name": "stderr",
     "output_type": "stream",
     "text": [
      "ZOO: 100%|██████████| 200/200 [04:12<00:00,  1.26s/it]\n"
     ]
    },
    {
     "name": "stdout",
     "output_type": "stream",
     "text": [
      "3.4090806113209253\n"
     ]
    },
    {
     "name": "stderr",
     "output_type": "stream",
     "text": [
      "ZOO: 100%|██████████| 200/200 [04:13<00:00,  1.27s/it]\n"
     ]
    },
    {
     "name": "stdout",
     "output_type": "stream",
     "text": [
      "3.6298891254950156\n"
     ]
    },
    {
     "name": "stderr",
     "output_type": "stream",
     "text": [
      "ZOO: 100%|██████████| 200/200 [04:13<00:00,  1.27s/it]\n"
     ]
    },
    {
     "name": "stdout",
     "output_type": "stream",
     "text": [
      "4.2729105331447235\n"
     ]
    },
    {
     "name": "stderr",
     "output_type": "stream",
     "text": [
      "ZOO: 100%|██████████| 200/200 [04:13<00:00,  1.27s/it]\n"
     ]
    },
    {
     "name": "stdout",
     "output_type": "stream",
     "text": [
      "3.5376421316535827\n"
     ]
    },
    {
     "name": "stderr",
     "output_type": "stream",
     "text": [
      "ZOO: 100%|██████████| 200/200 [04:11<00:00,  1.26s/it]\n"
     ]
    },
    {
     "name": "stdout",
     "output_type": "stream",
     "text": [
      "4.732351196795419\n"
     ]
    },
    {
     "name": "stderr",
     "output_type": "stream",
     "text": [
      "ZOO: 100%|██████████| 200/200 [04:12<00:00,  1.26s/it]\n"
     ]
    },
    {
     "name": "stdout",
     "output_type": "stream",
     "text": [
      "4.51651409800498\n"
     ]
    },
    {
     "name": "stderr",
     "output_type": "stream",
     "text": [
      "ZOO: 100%|██████████| 200/200 [04:13<00:00,  1.27s/it]\n"
     ]
    },
    {
     "name": "stdout",
     "output_type": "stream",
     "text": [
      "4.441462548443447\n"
     ]
    },
    {
     "name": "stderr",
     "output_type": "stream",
     "text": [
      "ZOO: 100%|██████████| 200/200 [04:14<00:00,  1.27s/it]\n"
     ]
    },
    {
     "name": "stdout",
     "output_type": "stream",
     "text": [
      "3.20825848087608\n"
     ]
    },
    {
     "name": "stderr",
     "output_type": "stream",
     "text": [
      "ZOO: 100%|██████████| 200/200 [04:14<00:00,  1.27s/it]\n"
     ]
    },
    {
     "name": "stdout",
     "output_type": "stream",
     "text": [
      "3.528730813390282\n"
     ]
    },
    {
     "name": "stderr",
     "output_type": "stream",
     "text": [
      "ZOO: 100%|██████████| 200/200 [04:13<00:00,  1.27s/it]\n"
     ]
    },
    {
     "name": "stdout",
     "output_type": "stream",
     "text": [
      "3.737866841841654\n"
     ]
    },
    {
     "name": "stderr",
     "output_type": "stream",
     "text": [
      "ZOO: 100%|██████████| 200/200 [04:14<00:00,  1.27s/it]\n"
     ]
    },
    {
     "name": "stdout",
     "output_type": "stream",
     "text": [
      "2.990897123700491\n"
     ]
    },
    {
     "name": "stderr",
     "output_type": "stream",
     "text": [
      "ZOO: 100%|██████████| 200/200 [04:14<00:00,  1.27s/it]\n"
     ]
    },
    {
     "name": "stdout",
     "output_type": "stream",
     "text": [
      "2.569602090263434\n"
     ]
    },
    {
     "name": "stderr",
     "output_type": "stream",
     "text": [
      "ZOO: 100%|██████████| 200/200 [04:12<00:00,  1.26s/it]\n"
     ]
    },
    {
     "name": "stdout",
     "output_type": "stream",
     "text": [
      "3.27106818329085\n"
     ]
    },
    {
     "name": "stderr",
     "output_type": "stream",
     "text": [
      "ZOO: 100%|██████████| 200/200 [04:17<00:00,  1.29s/it]\n"
     ]
    },
    {
     "name": "stdout",
     "output_type": "stream",
     "text": [
      "3.4279484620392875\n"
     ]
    },
    {
     "name": "stderr",
     "output_type": "stream",
     "text": [
      "ZOO: 100%|██████████| 200/200 [04:12<00:00,  1.26s/it]"
     ]
    },
    {
     "name": "stdout",
     "output_type": "stream",
     "text": [
      "3.3719256445073706\n"
     ]
    },
    {
     "name": "stderr",
     "output_type": "stream",
     "text": [
      "\n"
     ]
    }
   ],
   "source": [
    "for date in testCons:\n",
    "    testCon = df['time'].dt.isocalendar().week == pd.Timestamp(date).week\n",
    "    #testCon = df['time'].dt.date == pd.Timestamp(date).date\n",
    "    testDF = df[testCon]\n",
    "\n",
    "    X = testDF[XCols]\n",
    "    y = testDF[label]\n",
    "    \n",
    "    X_train, X_test, y_train, y_test = train_test_split(X, y, test_size=200, stratify=y)\n",
    "    \n",
    "    if len(X) == 0: \n",
    "        continue\n",
    "    x_test_adv = zoo.generate(x=X_test.values)\n",
    "   \n",
    "    np.savetxt(f\"rf1sec_2adv-{date.week}.csv\", x_test_adv, delimiter=\",\")\n",
    "\n",
    "   # Step 7: Evaluate the ART classifier on adversarial test examples\n",
    "    y_rfc = advClassifier.predict(x_test_adv)\n",
    "    dist = np.linalg.norm(x_test_adv-X_test)\n",
    "    print(dist)\n",
    "    #print(f\"{date.week}\", metrics.f1_score(y, y_rfc, average='micro'))"
   ]
  },
  {
   "cell_type": "code",
   "execution_count": 1,
   "metadata": {},
   "outputs": [
    {
     "ename": "NameError",
     "evalue": "name 'SklearnClassifier' is not defined",
     "output_type": "error",
     "traceback": [
      "\u001b[0;31m---------------------------------------------------------------------------\u001b[0m",
      "\u001b[0;31mNameError\u001b[0m                                 Traceback (most recent call last)",
      "Cell \u001b[0;32mIn[1], line 1\u001b[0m\n\u001b[0;32m----> 1\u001b[0m advClassifier \u001b[38;5;241m=\u001b[39m \u001b[43mSklearnClassifier\u001b[49m(rfc)\n\u001b[1;32m      2\u001b[0m zoo \u001b[38;5;241m=\u001b[39m ZooAttack(classifier\u001b[38;5;241m=\u001b[39madvClassifier, confidence\u001b[38;5;241m=\u001b[39m\u001b[38;5;241m0.0\u001b[39m, targeted\u001b[38;5;241m=\u001b[39m\u001b[38;5;28;01mTrue\u001b[39;00m, learning_rate\u001b[38;5;241m=\u001b[39m\u001b[38;5;241m0.1\u001b[39m, max_iter\u001b[38;5;241m=\u001b[39m\u001b[38;5;241m5\u001b[39m,\n\u001b[1;32m      3\u001b[0m                     binary_search_steps\u001b[38;5;241m=\u001b[39m\u001b[38;5;241m10\u001b[39m, initial_const\u001b[38;5;241m=\u001b[39m\u001b[38;5;241m1e-3\u001b[39m, abort_early\u001b[38;5;241m=\u001b[39m\u001b[38;5;28;01mTrue\u001b[39;00m, use_resize\u001b[38;5;241m=\u001b[39m\u001b[38;5;28;01mFalse\u001b[39;00m, \n\u001b[1;32m      4\u001b[0m                     use_importance\u001b[38;5;241m=\u001b[39m\u001b[38;5;28;01mFalse\u001b[39;00m, nb_parallel\u001b[38;5;241m=\u001b[39m\u001b[38;5;241m1\u001b[39m, batch_size\u001b[38;5;241m=\u001b[39m\u001b[38;5;241m1\u001b[39m, variable_h\u001b[38;5;241m=\u001b[39m\u001b[38;5;241m0.2\u001b[39m)\n",
      "\u001b[0;31mNameError\u001b[0m: name 'SklearnClassifier' is not defined"
     ]
    }
   ],
   "source": [
    "advClassifier = SklearnClassifier(rfc)\n",
    "zoo = ZooAttack(classifier=advClassifier, confidence=0.0, targeted=True, learning_rate=0.1, max_iter=5,\n",
    "                    binary_search_steps=10, initial_const=1e-3, abort_early=True, use_resize=False, \n",
    "                    use_importance=False, nb_parallel=1, batch_size=1, variable_h=0.2)"
   ]
  },
  {
   "cell_type": "code",
   "execution_count": 9,
   "metadata": {},
   "outputs": [
    {
     "ename": "IndexError",
     "evalue": "index 33 is out of bounds for axis 1 with size 24",
     "output_type": "error",
     "traceback": [
      "\u001b[0;31m---------------------------------------------------------------------------\u001b[0m",
      "\u001b[0;31mIndexError\u001b[0m                                Traceback (most recent call last)",
      "Cell \u001b[0;32mIn[9], line 2\u001b[0m\n\u001b[1;32m      1\u001b[0m art_classifier \u001b[38;5;241m=\u001b[39m SklearnClassifier(rfc)\n\u001b[0;32m----> 2\u001b[0m SHAPr_leakage \u001b[38;5;241m=\u001b[39m \u001b[43mSHAPr\u001b[49m\u001b[43m(\u001b[49m\u001b[43mart_classifier\u001b[49m\u001b[43m,\u001b[49m\u001b[43m \u001b[49m\u001b[43mX_train\u001b[49m\u001b[43m,\u001b[49m\u001b[43m \u001b[49m\u001b[43my_train\u001b[49m\u001b[43m,\u001b[49m\u001b[43m \u001b[49m\u001b[43mX_test\u001b[49m\u001b[43m,\u001b[49m\u001b[43m \u001b[49m\u001b[43my_test\u001b[49m\u001b[43m)\u001b[49m\n\u001b[1;32m      3\u001b[0m \u001b[38;5;28mprint\u001b[39m(\u001b[38;5;124m\"\u001b[39m\u001b[38;5;124mAverage SHAPr leakage random forest: \u001b[39m\u001b[38;5;124m\"\u001b[39m, np\u001b[38;5;241m.\u001b[39maverage(SHAPr_leakage))\n\u001b[1;32m      4\u001b[0m \u001b[38;5;28mprint\u001b[39m(\u001b[38;5;124m\"\u001b[39m\u001b[38;5;124mMax SHAPr leakage random forest: \u001b[39m\u001b[38;5;124m\"\u001b[39m, np\u001b[38;5;241m.\u001b[39mmax(SHAPr_leakage))\n",
      "File \u001b[0;32m~/anaconda3/envs/test1/lib/python3.9/site-packages/art/metrics/privacy/membership_leakage.py:182\u001b[0m, in \u001b[0;36mSHAPr\u001b[0;34m(target_estimator, x_train, y_train, x_test, y_test, knn_metric)\u001b[0m\n\u001b[1;32m    179\u001b[0m \u001b[38;5;28;01mif\u001b[39;00m x_test\u001b[38;5;241m.\u001b[39mshape[\u001b[38;5;241m1\u001b[39m] \u001b[38;5;241m!=\u001b[39m x_train\u001b[38;5;241m.\u001b[39mshape[\u001b[38;5;241m1\u001b[39m]:\n\u001b[1;32m    180\u001b[0m     \u001b[38;5;28;01mraise\u001b[39;00m \u001b[38;5;167;01mValueError\u001b[39;00m(\u001b[38;5;124m\"\u001b[39m\u001b[38;5;124mShape of x_train does not match the shape of x_test\u001b[39m\u001b[38;5;124m\"\u001b[39m)\n\u001b[0;32m--> 182\u001b[0m y_train \u001b[38;5;241m=\u001b[39m \u001b[43mcheck_and_transform_label_format\u001b[49m\u001b[43m(\u001b[49m\u001b[43my_train\u001b[49m\u001b[43m,\u001b[49m\u001b[43m \u001b[49m\u001b[43mtarget_estimator\u001b[49m\u001b[38;5;241;43m.\u001b[39;49m\u001b[43mnb_classes\u001b[49m\u001b[43m)\u001b[49m\n\u001b[1;32m    183\u001b[0m \u001b[38;5;28;01mif\u001b[39;00m y_train\u001b[38;5;241m.\u001b[39mshape[\u001b[38;5;241m0\u001b[39m] \u001b[38;5;241m!=\u001b[39m x_train\u001b[38;5;241m.\u001b[39mshape[\u001b[38;5;241m0\u001b[39m]:\n\u001b[1;32m    184\u001b[0m     \u001b[38;5;28;01mraise\u001b[39;00m \u001b[38;5;167;01mValueError\u001b[39;00m(\u001b[38;5;124m\"\u001b[39m\u001b[38;5;124mNumber of rows in x_train and y_train do not match\u001b[39m\u001b[38;5;124m\"\u001b[39m)\n",
      "File \u001b[0;32m~/anaconda3/envs/test1/lib/python3.9/site-packages/art/utils.py:827\u001b[0m, in \u001b[0;36mcheck_and_transform_label_format\u001b[0;34m(labels, nb_classes, return_one_hot)\u001b[0m\n\u001b[1;32m    825\u001b[0m \u001b[38;5;28;01melif\u001b[39;00m \u001b[38;5;28mlen\u001b[39m(labels\u001b[38;5;241m.\u001b[39mshape) \u001b[38;5;241m==\u001b[39m \u001b[38;5;241m1\u001b[39m:  \u001b[38;5;66;03m# index labels\u001b[39;00m\n\u001b[1;32m    826\u001b[0m     \u001b[38;5;28;01mif\u001b[39;00m return_one_hot:\n\u001b[0;32m--> 827\u001b[0m         labels_return \u001b[38;5;241m=\u001b[39m \u001b[43mto_categorical\u001b[49m\u001b[43m(\u001b[49m\u001b[43mlabels\u001b[49m\u001b[43m,\u001b[49m\u001b[43m \u001b[49m\u001b[43mnb_classes\u001b[49m\u001b[43m)\u001b[49m\n\u001b[1;32m    828\u001b[0m     \u001b[38;5;28;01melse\u001b[39;00m:\n\u001b[1;32m    829\u001b[0m         labels_return \u001b[38;5;241m=\u001b[39m np\u001b[38;5;241m.\u001b[39mexpand_dims(labels, axis\u001b[38;5;241m=\u001b[39m\u001b[38;5;241m1\u001b[39m)\n",
      "File \u001b[0;32m~/anaconda3/envs/test1/lib/python3.9/site-packages/art/utils.py:750\u001b[0m, in \u001b[0;36mto_categorical\u001b[0;34m(labels, nb_classes)\u001b[0m\n\u001b[1;32m    748\u001b[0m     nb_classes \u001b[38;5;241m=\u001b[39m np\u001b[38;5;241m.\u001b[39mmax(labels) \u001b[38;5;241m+\u001b[39m \u001b[38;5;241m1\u001b[39m\n\u001b[1;32m    749\u001b[0m categorical \u001b[38;5;241m=\u001b[39m np\u001b[38;5;241m.\u001b[39mzeros((labels\u001b[38;5;241m.\u001b[39mshape[\u001b[38;5;241m0\u001b[39m], nb_classes), dtype\u001b[38;5;241m=\u001b[39mnp\u001b[38;5;241m.\u001b[39mfloat32)\n\u001b[0;32m--> 750\u001b[0m \u001b[43mcategorical\u001b[49m\u001b[43m[\u001b[49m\u001b[43mnp\u001b[49m\u001b[38;5;241;43m.\u001b[39;49m\u001b[43marange\u001b[49m\u001b[43m(\u001b[49m\u001b[43mlabels\u001b[49m\u001b[38;5;241;43m.\u001b[39;49m\u001b[43mshape\u001b[49m\u001b[43m[\u001b[49m\u001b[38;5;241;43m0\u001b[39;49m\u001b[43m]\u001b[49m\u001b[43m)\u001b[49m\u001b[43m,\u001b[49m\u001b[43m \u001b[49m\u001b[43mnp\u001b[49m\u001b[38;5;241;43m.\u001b[39;49m\u001b[43msqueeze\u001b[49m\u001b[43m(\u001b[49m\u001b[43mlabels\u001b[49m\u001b[43m)\u001b[49m\u001b[43m]\u001b[49m \u001b[38;5;241m=\u001b[39m \u001b[38;5;241m1\u001b[39m\n\u001b[1;32m    751\u001b[0m \u001b[38;5;28;01mreturn\u001b[39;00m categorical\n",
      "\u001b[0;31mIndexError\u001b[0m: index 33 is out of bounds for axis 1 with size 24"
     ]
    }
   ],
   "source": [
    "art_classifier = SklearnClassifier(rfc)\n",
    "SHAPr_leakage = SHAPr(art_classifier, X_train, y_train, X_test, y_test)\n",
    "print(\"Average SHAPr leakage random forest: \", np.average(SHAPr_leakage))\n",
    "print(\"Max SHAPr leakage random forest: \", np.max(SHAPr_leakage))\n"
   ]
  },
  {
   "cell_type": "code",
   "execution_count": null,
   "metadata": {},
   "outputs": [],
   "source": []
  },
  {
   "cell_type": "code",
   "execution_count": null,
   "metadata": {},
   "outputs": [],
   "source": []
  }
 ],
 "metadata": {
  "kernelspec": {
   "display_name": "Python3.9 (test1)",
   "language": "python",
   "name": "python39_test1"
  },
  "language_info": {
   "codemirror_mode": {
    "name": "ipython",
    "version": 3
   },
   "file_extension": ".py",
   "mimetype": "text/x-python",
   "name": "python",
   "nbconvert_exporter": "python",
   "pygments_lexer": "ipython3",
   "version": "3.9.18"
  }
 },
 "nbformat": 4,
 "nbformat_minor": 2
}
