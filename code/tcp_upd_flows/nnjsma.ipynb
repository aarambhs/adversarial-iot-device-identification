{
 "cells": [
  {
   "cell_type": "code",
   "execution_count": 13,
   "metadata": {},
   "outputs": [],
   "source": [
    "import keras\n",
    "from keras.models import Sequential\n",
    "from keras.layers import Dense, Dropout, Activation, Flatten\n",
    "from keras.layers import Conv2D, Conv1D, MaxPooling2D, MaxPooling1D, LSTM, Bidirectional\n",
    "from keras.wrappers.scikit_learn import KerasClassifier\n",
    "from keras.callbacks import EarlyStopping\n",
    "from keras import backend as K\n",
    "\n",
    "from sklearn.preprocessing import LabelBinarizer\n",
    "from sklearn.model_selection import train_test_split\n",
    "from sklearn.metrics import classification_report\n",
    "from sklearn import metrics\n",
    "from sklearn.preprocessing import StandardScaler\n",
    "\n",
    "import sys, os, time, json, datetime, glob\n",
    "\n",
    "from logzero import logger\n",
    "import warnings\n",
    "#import tensorflow as tf\n",
    "\n",
    "import numpy as np\n",
    "import pandas as pd\n",
    "from pathlib import Path\n",
    "\n",
    "from tensorflow.python.framework.ops import disable_eager_execution\n",
    "\n",
    "disable_eager_execution()\n",
    "\n",
    "\n",
    "import time\n",
    "from art.attacks.evasion import FastGradientMethod\n",
    "from art.estimators.classification import KerasClassifier"
   ]
  },
  {
   "cell_type": "code",
   "execution_count": 14,
   "metadata": {},
   "outputs": [],
   "source": [
    "model = Sequential()\n",
    "model.add(Dense(64, input_dim = 19, activation='relu'))\n",
    "model.add(Dense(128, activation='relu'))\n",
    "model.add(Dense(256, activation='relu'))\n",
    "model.add(Dense(41, activation='softmax'))\n",
    "\n",
    "model.compile(loss=\"sparse_categorical_crossentropy\", optimizer='adam', metrics=[\"accuracy\"])"
   ]
  },
  {
   "cell_type": "code",
   "execution_count": 15,
   "metadata": {},
   "outputs": [
    {
     "name": "stderr",
     "output_type": "stream",
     "text": [
      "/var/tmp/pbs.8254068.pbs/ipykernel_3721589/4075129579.py:1: DtypeWarning: Columns (22,23) have mixed types. Specify dtype option on import or set low_memory=False.\n",
      "  df = pd.read_csv(\"/rds/general/user/as9820/home/revist/revisiting-iot-device-identification/data/features_nov-apr.csv\", parse_dates = ['time_start'])\n"
     ]
    }
   ],
   "source": [
    "df = pd.read_csv(\"/rds/general/user/as9820/home/revist/revisiting-iot-device-identification/data/features_nov-apr.csv\", parse_dates = ['time_start'])\n",
    "df.fillna(0, inplace=True)\n",
    "\n"
   ]
  },
  {
   "cell_type": "code",
   "execution_count": 16,
   "metadata": {},
   "outputs": [],
   "source": [
    "y = []\n",
    "packets = [] \n",
    "i = 0\n",
    "    \n",
    "devs = ['appkettle','blink-security-hub','bosiwo-camera-wifi','lefun-cam-wired','insteon-hub',\n",
    "            'echoplus','meross-dooropener','smartlife-bulb','xiaomi-ricecooker','ubell-doorbell',\n",
    "            'appletv','tplink-bulb','google-home','icsee-doorbell','t-wemo-plug','echospot',\n",
    "            'nest-tstat','sousvide','smartlife-remote','netatmo-weather-station','lgtv-wifi',\n",
    "            'wansview-cam-wired','xiaomi-plug','xiaomi-hub','lightify-hub','bosiwo-camera-wired',\n",
    "            'tplink-plug2','allure-speaker','honeywell-thermostat','smarter-coffee-mach','roku-tv',\n",
    "            'yi-camera','firetv','echodot','smartthings-hub','reolink-cam-wired','t-philips-hub',\n",
    "            'switchbot-hub','ring-doorbell','blink-camera','samsungtv-wired']\n",
    "\n",
    "features = ['srcPort', 'destPort',\n",
    "       'bytes_out', 'num_pkts_out', 'bytes_in', 'num_pkts_in', 'f_ipt_mean',\n",
    "       'f_ipt_std', 'f_ipt_var', 'f_ipt_skew', 'f_ipt_kurtosis', 'f_b_mean',\n",
    "       'f_b_std', 'f_b_var', 'f_b_skew', 'f_b_kurtosis', 'duration', 'pr',\n",
    "       'domainId']\n",
    "label = 'deviceId'\n",
    "\n",
    "#weeksToProcess = list(range(44,53)) + list(range(1,19))\n",
    "weeks = [list(range(44,53)), list(range(1,10)), list(range(10,19))]\n",
    "weeksToProcess = weeks[0] + weeks[1] + weeks[2]\n",
    "#weeksToProcess = weeks[0]"
   ]
  },
  {
   "cell_type": "code",
   "execution_count": 17,
   "metadata": {},
   "outputs": [],
   "source": [
    "trainCon = df['time_start'].dt.isocalendar().week.isin(weeks[0])\n"
   ]
  },
  {
   "cell_type": "code",
   "execution_count": 18,
   "metadata": {},
   "outputs": [
    {
     "data": {
      "text/plain": [
       "LabelBinarizer()"
      ]
     },
     "execution_count": 18,
     "metadata": {},
     "output_type": "execute_result"
    }
   ],
   "source": [
    "testCons = pd.date_range('2019-11-01', '2020-05-01', freq = '1Y').tolist()\n",
    "lb = LabelBinarizer()\n",
    "lb.fit(range(1,42))"
   ]
  },
  {
   "cell_type": "code",
   "execution_count": 19,
   "metadata": {},
   "outputs": [],
   "source": [
    "model = keras.models.load_model(\"model.15-0.43.h5\", compile=False)\n",
    "model.compile(loss=\"sparse_categorical_crossentropy\", optimizer='adam', metrics=[\"accuracy\"])\n",
    "classifier = KerasClassifier(model=model, clip_values=(0, 1))"
   ]
  },
  {
   "cell_type": "code",
   "execution_count": 24,
   "metadata": {},
   "outputs": [
    {
     "name": "stdout",
     "output_type": "stream",
     "text": [
      "starting scalar\n",
      "labelled scalar\n",
      "Execution time: 0.1746361255645752 seconds\n",
      "fgsm generated\n",
      "Accuracy on adversarial test data: 13.79%\n",
      "Average perturbation: 0.27\n",
      "0.06393593164058095\n"
     ]
    }
   ],
   "source": [
    "\n",
    "attack_fgsm = FastGradientMethod(estimator=classifier, eps=0.3)\n",
    "for date in testCons:\n",
    "    testCon = df['time_start'].dt.isocalendar().week == pd.Timestamp(date).week\n",
    "    #testCon = df['time'].dt.date == pd.Timestamp(date).date\n",
    "    #testDF = df[testCon]\n",
    "    testDF = df\n",
    "\n",
    "    X = testDF[features]\n",
    "    y = testDF[label]\n",
    "\n",
    "    if len(X) == 0:\n",
    "        continue\n",
    "    \n",
    "    print(\"starting scalar\")\n",
    "\n",
    "    scaler = StandardScaler().fit(df[trainCon][features].values)\n",
    "    X = scaler.transform(X.values)\n",
    "    \n",
    "    \n",
    "            \n",
    "    labels = lb.transform(y)\n",
    "    \n",
    "    #X_train, X_test, y_train, y_test = train_test_split(X, y, test_size=4800, stratify=y)\n",
    " \n",
    "    print(\"labelled scalar\") \n",
    "    labels = lb.transform(y_test)\n",
    "    dist=0\n",
    "    st = time.time()\n",
    "    x_test_adv = attack_fgsm.generate(X_test)\n",
    "    et = time.time()\n",
    "    elapsed_time = et - st\n",
    "    print('Execution time:', elapsed_time, 'seconds')\n",
    "    np.savetxt(f\"nnfgsm-{date.week}.csv\", x_test_adv, delimiter=\",\")\n",
    "    \n",
    "    print(\"fgsm generated\")\n",
    "    loss_test, accuracy_test = model.evaluate(x_test_adv, y_test-1)\n",
    "    perturbation = np.mean(np.abs((x_test_adv - X_test)))\n",
    "    print('Accuracy on adversarial test data: {:4.2f}%'.format(accuracy_test * 100))\n",
    "    print('Average perturbation: {:4.2f}'.format(perturbation))\n",
    "    for index, sample in enumerate (x_test_adv):\n",
    "        dist = dist + np.linalg.norm(sample-X_test[index])\n",
    "    print(dist/91200)"
   ]
  },
  {
   "cell_type": "code",
   "execution_count": 21,
   "metadata": {},
   "outputs": [
    {
     "name": "stdout",
     "output_type": "stream",
     "text": [
      "91200\n"
     ]
    }
   ],
   "source": [
    "print(X_test.size)"
   ]
  },
  {
   "cell_type": "code",
   "execution_count": 23,
   "metadata": {},
   "outputs": [
    {
     "name": "stdout",
     "output_type": "stream",
     "text": [
      "starting scalar\n",
      "labelled scalar\n"
     ]
    },
    {
     "ename": "ValueError",
     "evalue": "Target labels `y` need to be provided for a targeted attack.",
     "output_type": "error",
     "traceback": [
      "\u001b[0;31m---------------------------------------------------------------------------\u001b[0m",
      "\u001b[0;31mValueError\u001b[0m                                Traceback (most recent call last)",
      "Cell \u001b[0;32mIn[23], line 29\u001b[0m\n\u001b[1;32m     27\u001b[0m dist\u001b[38;5;241m=\u001b[39m\u001b[38;5;241m0\u001b[39m\n\u001b[1;32m     28\u001b[0m st \u001b[38;5;241m=\u001b[39m time\u001b[38;5;241m.\u001b[39mtime()\n\u001b[0;32m---> 29\u001b[0m x_test_adv \u001b[38;5;241m=\u001b[39m \u001b[43mattack_fgsm\u001b[49m\u001b[38;5;241;43m.\u001b[39;49m\u001b[43mgenerate\u001b[49m\u001b[43m(\u001b[49m\u001b[43mX_test\u001b[49m\u001b[43m)\u001b[49m\n\u001b[1;32m     30\u001b[0m et \u001b[38;5;241m=\u001b[39m time\u001b[38;5;241m.\u001b[39mtime()\n\u001b[1;32m     31\u001b[0m elapsed_time \u001b[38;5;241m=\u001b[39m et \u001b[38;5;241m-\u001b[39m st\n",
      "File \u001b[0;32m~/anaconda3/envs/test1/lib/python3.9/site-packages/art/attacks/evasion/fast_gradient.py:233\u001b[0m, in \u001b[0;36mFastGradientMethod.generate\u001b[0;34m(self, x, y, **kwargs)\u001b[0m\n\u001b[1;32m    230\u001b[0m \u001b[38;5;28;01mif\u001b[39;00m y \u001b[38;5;129;01mis\u001b[39;00m \u001b[38;5;28;01mNone\u001b[39;00m:\n\u001b[1;32m    231\u001b[0m     \u001b[38;5;66;03m# Throw error if attack is targeted, but no targets are provided\u001b[39;00m\n\u001b[1;32m    232\u001b[0m     \u001b[38;5;28;01mif\u001b[39;00m \u001b[38;5;28mself\u001b[39m\u001b[38;5;241m.\u001b[39mtargeted:  \u001b[38;5;66;03m# pragma: no cover\u001b[39;00m\n\u001b[0;32m--> 233\u001b[0m         \u001b[38;5;28;01mraise\u001b[39;00m \u001b[38;5;167;01mValueError\u001b[39;00m(\u001b[38;5;124m\"\u001b[39m\u001b[38;5;124mTarget labels `y` need to be provided for a targeted attack.\u001b[39m\u001b[38;5;124m\"\u001b[39m)\n\u001b[1;32m    235\u001b[0m     \u001b[38;5;66;03m# Use model predictions as correct outputs\u001b[39;00m\n\u001b[1;32m    236\u001b[0m     logger\u001b[38;5;241m.\u001b[39minfo(\u001b[38;5;124m\"\u001b[39m\u001b[38;5;124mUsing model predictions as correct labels for FGM.\u001b[39m\u001b[38;5;124m\"\u001b[39m)\n",
      "\u001b[0;31mValueError\u001b[0m: Target labels `y` need to be provided for a targeted attack."
     ]
    }
   ],
   "source": [
    "attack_fgsm = FastGradientMethod(estimator=classifier, eps=0.3, targeted=True)\n",
    "for date in testCons:\n",
    "    testCon = df['time_start'].dt.isocalendar().week == pd.Timestamp(date).week\n",
    "    #testCon = df['time'].dt.date == pd.Timestamp(date).date\n",
    "    #testDF = df[testCon]\n",
    "    testDF = df\n",
    "\n",
    "    X = testDF[features]\n",
    "    y = testDF[label]\n",
    "\n",
    "    if len(X) == 0:\n",
    "        continue\n",
    "    \n",
    "    print(\"starting scalar\")\n",
    "\n",
    "    scaler = StandardScaler().fit(df[trainCon][features].values)\n",
    "    X = scaler.transform(X.values)\n",
    "    \n",
    "    \n",
    "            \n",
    "    labels = lb.transform(y)\n",
    "    \n",
    "    #X_train, X_test, y_train, y_test = train_test_split(X, y, test_size=4800, stratify=y)\n",
    " \n",
    "    print(\"labelled scalar\") \n",
    "    labels = lb.transform(y_test)\n",
    "    dist=0\n",
    "    st = time.time()\n",
    "    x_test_adv = attack_fgsm.generate(X_test)\n",
    "    et = time.time()\n",
    "    elapsed_time = et - st\n",
    "    print('Execution time:', elapsed_time, 'seconds')\n",
    "    np.savetxt(f\"nnfgsmTARG-{date.week}.csv\", x_test_adv, delimiter=\",\")\n",
    "    \n",
    "    print(\"fgsm generated\")\n",
    "    loss_test, accuracy_test = model.evaluate(x_test_adv, y_test-1)\n",
    "    perturbation = np.mean(np.abs((x_test_adv - X_test)))\n",
    "    print('Accuracy on adversarial test data: {:4.2f}%'.format(accuracy_test * 100))\n",
    "    print('Average perturbation: {:4.2f}'.format(perturbation))\n",
    "    for index, sample in enumerate (x_test_adv):\n",
    "        dist = dist + np.linalg.norm(sample-X_test[index])\n",
    "    print(dist/91200)"
   ]
  },
  {
   "cell_type": "code",
   "execution_count": null,
   "metadata": {},
   "outputs": [],
   "source": []
  }
 ],
 "metadata": {
  "kernelspec": {
   "display_name": "Python3.9 (test1)",
   "language": "python",
   "name": "python39_test1"
  },
  "language_info": {
   "codemirror_mode": {
    "name": "ipython",
    "version": 3
   },
   "file_extension": ".py",
   "mimetype": "text/x-python",
   "name": "python",
   "nbconvert_exporter": "python",
   "pygments_lexer": "ipython3",
   "version": "3.9.18"
  }
 },
 "nbformat": 4,
 "nbformat_minor": 2
}
